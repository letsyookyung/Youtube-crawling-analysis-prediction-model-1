{
 "cells": [
  {
   "cell_type": "markdown",
   "metadata": {
    "heading_collapsed": true
   },
   "source": [
    "# 기본 옵션 "
   ]
  },
  {
   "cell_type": "code",
   "execution_count": 1,
   "metadata": {
    "hidden": true
   },
   "outputs": [
    {
     "data": {
      "text/html": [
       "<style>.container { width:100% !important; }</style>"
      ],
      "text/plain": [
       "<IPython.core.display.HTML object>"
      ]
     },
     "metadata": {},
     "output_type": "display_data"
    }
   ],
   "source": [
    "import pandas as pd\n",
    "import numpy as np\n",
    "import matplotlib.pyplot as plt\n",
    "import matplotlib as mpl\n",
    "import seaborn as sns\n",
    "from PIL import Image\n",
    "\n",
    "import numpy as np\n",
    "# 기본 옵션들\n",
    "from IPython.display import set_matplotlib_formats\n",
    "set_matplotlib_formats('retina')\n",
    "\n",
    "import matplotlib.font_manager as fm\n",
    "mpl.rcParams['font.family'] ='NanumGothic'\n",
    "plt.rcParams['axes.unicode_minus'] = False\n",
    "\n",
    "from IPython.core.display import display, HTML\n",
    "display(HTML(\"<style>.container { width:100% !important; }</style>\"))\n",
    "\n",
    "pd.set_option('display.max.colwidth',100)\n",
    "pd.options.display.max_columns = 10\n",
    "\n",
    "set_matplotlib_formats('retina')\n",
    "\n",
    "from IPython.core.interactiveshell import InteractiveShell\n",
    "InteractiveShell.ast_node_interactivity = \"all\""
   ]
  },
  {
   "cell_type": "markdown",
   "metadata": {
    "heading_collapsed": true
   },
   "source": [
    "# 데이터셋 적재 \n",
    "- (동영상 제목 전처리 포함한거 가져온 데이터셋 활용 )"
   ]
  },
  {
   "cell_type": "code",
   "execution_count": 2,
   "metadata": {
    "hidden": true
   },
   "outputs": [
    {
     "data": {
      "text/plain": [
       "(4568, 12)"
      ]
     },
     "execution_count": 2,
     "metadata": {},
     "output_type": "execute_result"
    },
    {
     "name": "stdout",
     "output_type": "stream",
     "text": [
      "<class 'pandas.core.frame.DataFrame'>\n",
      "RangeIndex: 4568 entries, 0 to 4567\n",
      "Data columns (total 12 columns):\n",
      "Unnamed: 0           4568 non-null int64\n",
      "youtuber             4568 non-null object\n",
      "subscribers          4568 non-null int64\n",
      "name                 4568 non-null object\n",
      "upload_date          4568 non-null object\n",
      "hits                 4568 non-null int64\n",
      "likes_num            4568 non-null int64\n",
      "dislikes_num         4568 non-null int64\n",
      "days_after_upload    4568 non-null int64\n",
      "youtuber_id          4568 non-null int64\n",
      "clean_name           4568 non-null object\n",
      "clean_name_noun      4568 non-null object\n",
      "dtypes: int64(7), object(5)\n",
      "memory usage: 428.3+ KB\n"
     ]
    },
    {
     "data": {
      "text/plain": [
       "Index(['Unnamed: 0', 'youtuber', 'subscribers', 'name', 'upload_date', 'hits',\n",
       "       'likes_num', 'dislikes_num', 'days_after_upload', 'youtuber_id',\n",
       "       'clean_name', 'clean_name_noun'],\n",
       "      dtype='object')"
      ]
     },
     "execution_count": 2,
     "metadata": {},
     "output_type": "execute_result"
    },
    {
     "data": {
      "text/html": [
       "<div>\n",
       "<style scoped>\n",
       "    .dataframe tbody tr th:only-of-type {\n",
       "        vertical-align: middle;\n",
       "    }\n",
       "\n",
       "    .dataframe tbody tr th {\n",
       "        vertical-align: top;\n",
       "    }\n",
       "\n",
       "    .dataframe thead th {\n",
       "        text-align: right;\n",
       "    }\n",
       "</style>\n",
       "<table border=\"1\" class=\"dataframe\">\n",
       "  <thead>\n",
       "    <tr style=\"text-align: right;\">\n",
       "      <th></th>\n",
       "      <th>youtuber</th>\n",
       "      <th>subscribers</th>\n",
       "      <th>name</th>\n",
       "      <th>upload_date</th>\n",
       "      <th>hits</th>\n",
       "      <th>...</th>\n",
       "      <th>dislikes_num</th>\n",
       "      <th>days_after_upload</th>\n",
       "      <th>youtuber_id</th>\n",
       "      <th>clean_name</th>\n",
       "      <th>clean_name_noun</th>\n",
       "    </tr>\n",
       "  </thead>\n",
       "  <tbody>\n",
       "    <tr>\n",
       "      <th>0</th>\n",
       "      <td>취미로 요리하는 남자 Yonam</td>\n",
       "      <td>556000000</td>\n",
       "      <td>요리사들이 한 자리에 모이면 벌어지는 일 2 (오리다리콩피)</td>\n",
       "      <td>-9 days +07:27:27.585545000</td>\n",
       "      <td>245137</td>\n",
       "      <td>...</td>\n",
       "      <td>67</td>\n",
       "      <td>9</td>\n",
       "      <td>0</td>\n",
       "      <td>요리사 들 하다 자리 모이 면 벌어지다 일 오리 다리 콩피</td>\n",
       "      <td>['요리사', '자리', '모이', '면', '일', '오리', '다리', '콩피']</td>\n",
       "    </tr>\n",
       "    <tr>\n",
       "      <th>1</th>\n",
       "      <td>취미로 요리하는 남자 Yonam</td>\n",
       "      <td>556000000</td>\n",
       "      <td>sub)요리하는 남자의 간단한 집들이음식</td>\n",
       "      <td>-30 days +07:27:27.585545000</td>\n",
       "      <td>630196</td>\n",
       "      <td>...</td>\n",
       "      <td>124</td>\n",
       "      <td>30</td>\n",
       "      <td>0</td>\n",
       "      <td>요리 하다 남자 간단하다 집들이 음식</td>\n",
       "      <td>['요리', '남자', '집들이', '음식']</td>\n",
       "    </tr>\n",
       "    <tr>\n",
       "      <th>2</th>\n",
       "      <td>취미로 요리하는 남자 Yonam</td>\n",
       "      <td>556000000</td>\n",
       "      <td>(종료)제가 여러분께 요리를 해드립니다.</td>\n",
       "      <td>-43 days +07:27:27.585545000</td>\n",
       "      <td>160997</td>\n",
       "      <td>...</td>\n",
       "      <td>21</td>\n",
       "      <td>43</td>\n",
       "      <td>0</td>\n",
       "      <td>종료 제 여러분 께 요리 해드리다</td>\n",
       "      <td>['종료', '제', '여러분', '요리']</td>\n",
       "    </tr>\n",
       "    <tr>\n",
       "      <th>3</th>\n",
       "      <td>취미로 요리하는 남자 Yonam</td>\n",
       "      <td>556000000</td>\n",
       "      <td>sub)요리사들이 한 자리에 모이면 벌어지는 일.</td>\n",
       "      <td>-59 days +07:27:27.585545000</td>\n",
       "      <td>1962881</td>\n",
       "      <td>...</td>\n",
       "      <td>384</td>\n",
       "      <td>59</td>\n",
       "      <td>0</td>\n",
       "      <td>요리사 들 하다 자리 모이 면 벌어지다 일</td>\n",
       "      <td>['요리사', '자리', '모이', '면', '일']</td>\n",
       "    </tr>\n",
       "    <tr>\n",
       "      <th>4</th>\n",
       "      <td>취미로 요리하는 남자 Yonam</td>\n",
       "      <td>556000000</td>\n",
       "      <td>sub)요리하는 남자들의 흔한 파티음식.</td>\n",
       "      <td>-71 days +07:27:27.585545000</td>\n",
       "      <td>720225</td>\n",
       "      <td>...</td>\n",
       "      <td>144</td>\n",
       "      <td>71</td>\n",
       "      <td>0</td>\n",
       "      <td>요리 하다 남자 들 흔하다 파티 음식</td>\n",
       "      <td>['요리', '남자', '파티', '음식']</td>\n",
       "    </tr>\n",
       "  </tbody>\n",
       "</table>\n",
       "<p>5 rows × 11 columns</p>\n",
       "</div>"
      ],
      "text/plain": [
       "             youtuber  subscribers                               name  \\\n",
       "0  취미로 요리하는 남자 Yonam     556000000  요리사들이 한 자리에 모이면 벌어지는 일 2 (오리다리콩피)   \n",
       "1  취미로 요리하는 남자 Yonam     556000000             sub)요리하는 남자의 간단한 집들이음식   \n",
       "2  취미로 요리하는 남자 Yonam     556000000             (종료)제가 여러분께 요리를 해드립니다.   \n",
       "3  취미로 요리하는 남자 Yonam     556000000        sub)요리사들이 한 자리에 모이면 벌어지는 일.   \n",
       "4  취미로 요리하는 남자 Yonam     556000000             sub)요리하는 남자들의 흔한 파티음식.   \n",
       "\n",
       "                    upload_date     hits  ...  dislikes_num  \\\n",
       "0   -9 days +07:27:27.585545000   245137  ...            67   \n",
       "1  -30 days +07:27:27.585545000   630196  ...           124   \n",
       "2  -43 days +07:27:27.585545000   160997  ...            21   \n",
       "3  -59 days +07:27:27.585545000  1962881  ...           384   \n",
       "4  -71 days +07:27:27.585545000   720225  ...           144   \n",
       "\n",
       "   days_after_upload  youtuber_id                        clean_name  \\\n",
       "0                  9            0  요리사 들 하다 자리 모이 면 벌어지다 일 오리 다리 콩피   \n",
       "1                 30            0              요리 하다 남자 간단하다 집들이 음식   \n",
       "2                 43            0                종료 제 여러분 께 요리 해드리다   \n",
       "3                 59            0           요리사 들 하다 자리 모이 면 벌어지다 일   \n",
       "4                 71            0              요리 하다 남자 들 흔하다 파티 음식   \n",
       "\n",
       "                                   clean_name_noun  \n",
       "0  ['요리사', '자리', '모이', '면', '일', '오리', '다리', '콩피']  \n",
       "1                        ['요리', '남자', '집들이', '음식']  \n",
       "2                         ['종료', '제', '여러분', '요리']  \n",
       "3                    ['요리사', '자리', '모이', '면', '일']  \n",
       "4                         ['요리', '남자', '파티', '음식']  \n",
       "\n",
       "[5 rows x 11 columns]"
      ]
     },
     "execution_count": 2,
     "metadata": {},
     "output_type": "execute_result"
    }
   ],
   "source": [
    "df = pd.read_csv('@preprocessed_youtube_data_final.csv',encoding='utf-8-sig')\n",
    "df.shape\n",
    "df.info()\n",
    "df.columns\n",
    "df.drop('Unnamed: 0',axis=1,inplace=True)\n",
    "df.head()"
   ]
  },
  {
   "cell_type": "markdown",
   "metadata": {
    "hidden": true
   },
   "source": [
    "- clean_name_noun 데이터가 가져오려고 했던 모양이랑 달라서 한번 더 정제"
   ]
  },
  {
   "cell_type": "code",
   "execution_count": 3,
   "metadata": {
    "hidden": true
   },
   "outputs": [],
   "source": [
    "import konlpy\n",
    "from konlpy.tag import Okt\n",
    "import re\n",
    "okt=Okt()"
   ]
  },
  {
   "cell_type": "code",
   "execution_count": 4,
   "metadata": {
    "hidden": true
   },
   "outputs": [
    {
     "data": {
      "text/html": [
       "<div>\n",
       "<style scoped>\n",
       "    .dataframe tbody tr th:only-of-type {\n",
       "        vertical-align: middle;\n",
       "    }\n",
       "\n",
       "    .dataframe tbody tr th {\n",
       "        vertical-align: top;\n",
       "    }\n",
       "\n",
       "    .dataframe thead th {\n",
       "        text-align: right;\n",
       "    }\n",
       "</style>\n",
       "<table border=\"1\" class=\"dataframe\">\n",
       "  <thead>\n",
       "    <tr style=\"text-align: right;\">\n",
       "      <th></th>\n",
       "      <th>name</th>\n",
       "      <th>clean_name</th>\n",
       "      <th>clean_name_noun</th>\n",
       "    </tr>\n",
       "  </thead>\n",
       "  <tbody>\n",
       "    <tr>\n",
       "      <th>1198</th>\n",
       "      <td>🔥 넌 커리? 난 카레~! 카레랑 밥이랑 ★ 카레라이스 레시피 ★ 🔥 [만개의레시피]</td>\n",
       "      <td>넌 커리 난 카레 카레 밥 이랑 카레라이스</td>\n",
       "      <td>[넌, 커리, 난, 카레, 카레, 밥, 카레라이스]</td>\n",
       "    </tr>\n",
       "    <tr>\n",
       "      <th>2306</th>\n",
       "      <td>펑리수 달콤한 파인애플쨈이 쏘옥! [만개의레시피]</td>\n",
       "      <td>펑 리수 달콤하다 파인애플 째다 쏘다 옥</td>\n",
       "      <td>[펑, 리수, 파인애플, 옥]</td>\n",
       "    </tr>\n",
       "    <tr>\n",
       "      <th>2963</th>\n",
       "      <td>애호박조개전 ☆ 크으~ 땡긴다 땡겨! [만개의레시피]</td>\n",
       "      <td>애호박 조 개전 크으 땡기다 땡기다</td>\n",
       "      <td>[애호박, 조, 개전]</td>\n",
       "    </tr>\n",
       "    <tr>\n",
       "      <th>998</th>\n",
       "      <td>🔥 홍합이 입벌리는 최고의 순간 홍합탕 레시피 🔥 [만개의레시피]</td>\n",
       "      <td>홍합 입 벌리다 최고 순간 홍합 탕</td>\n",
       "      <td>[홍합, 입, 최고, 순간, 홍합, 탕]</td>\n",
       "    </tr>\n",
       "    <tr>\n",
       "      <th>2375</th>\n",
       "      <td>미니크루아상 샌드위치 귀엽고맛있어 ... ♡ [만개의레시피]</td>\n",
       "      <td>미니 크루아상 샌드위치 귀엽다 맛있다</td>\n",
       "      <td>[미니, 크루아상, 샌드위치]</td>\n",
       "    </tr>\n",
       "    <tr>\n",
       "      <th>1637</th>\n",
       "      <td>🔥 집에서 먹는 중국요리 레시피 ☆ 오늘의식단 🔥  [만개의레시피]</td>\n",
       "      <td>집 먹다 중국요리 오늘 식단</td>\n",
       "      <td>[집, 중국요리, 오늘, 식단]</td>\n",
       "    </tr>\n",
       "    <tr>\n",
       "      <th>3034</th>\n",
       "      <td>쪽파손질법 ♡ 야무지게 활용하자! [만개의노하우]</td>\n",
       "      <td>쪽파 손질 법 야무지다 활용 하다 노하우</td>\n",
       "      <td>[쪽파, 손질, 법, 활용, 노하우]</td>\n",
       "    </tr>\n",
       "    <tr>\n",
       "      <th>142</th>\n",
       "      <td>당신의 요리실력을 망치는 인터넷 레시피의 문제점</td>\n",
       "      <td>당신 요리실 력 망치다 인터넷 문제점</td>\n",
       "      <td>[당신, 요리실, 망치, 인터넷, 문제점]</td>\n",
       "    </tr>\n",
       "    <tr>\n",
       "      <th>3060</th>\n",
       "      <td>돌체라떼 ♥ 연유에 우유까지 [만개의레시피]</td>\n",
       "      <td>돌체 라떼 연유 우유 까지</td>\n",
       "      <td>[돌체, 라떼, 연유, 우유]</td>\n",
       "    </tr>\n",
       "    <tr>\n",
       "      <th>149</th>\n",
       "      <td>떡볶이를 천상계로 끌어올리는 셰프의 킥 두가지</td>\n",
       "      <td>떡볶이 천상계 끌다 올리다 셰프 킥 두 가지</td>\n",
       "      <td>[떡볶이, 천상계, 리다, 셰프, 킥, 두, 가지]</td>\n",
       "    </tr>\n",
       "    <tr>\n",
       "      <th>2673</th>\n",
       "      <td>생크림머핀 ☆ No버터 폭신폭신♥ [만개의레시피]</td>\n",
       "      <td>생크림 머핀 No 버터 폭 신 폭신</td>\n",
       "      <td>[생크림, 머핀, 버터, 폭, 신, 폭신]</td>\n",
       "    </tr>\n",
       "    <tr>\n",
       "      <th>1372</th>\n",
       "      <td>SUB) 유부초밥에 즐겼다면 ? 고소한 크래미유부초밥 ★ [만개의레시피]</td>\n",
       "      <td>유부초밥 즐기다 고소하다 크다 래미 유부초밥</td>\n",
       "      <td>[유부초밥, 래미, 유부초밥]</td>\n",
       "    </tr>\n",
       "    <tr>\n",
       "      <th>3486</th>\n",
       "      <td>열무김치 맛있게 담는법 초보자도 하나하나 담을 수 있게 쉬워요 심방골주부</td>\n",
       "      <td>열무김치 맛있다 담다 법 초보자 하나 하나 담 수 있다 쉽다</td>\n",
       "      <td>[열무김치, 법, 초보자, 하나, 하나, 담, 수]</td>\n",
       "    </tr>\n",
       "    <tr>\n",
       "      <th>4368</th>\n",
       "      <td>고추장찌개 만들기~ 얼큰하고 진하게~ [강쉪]</td>\n",
       "      <td>고추장 찌개 만들기 얼큰하다 진하다</td>\n",
       "      <td>[고추장, 찌개, 만들기]</td>\n",
       "    </tr>\n",
       "    <tr>\n",
       "      <th>613</th>\n",
       "      <td>Sub) 타르트지의 기초 ! 파트슈크레로 베이직한 딸기타르트 만들기 : Strawberry Tart [만개의레시피]</td>\n",
       "      <td>타르트 지 기초 파트슈크레 베이직 한 딸기 타르트 만들기 Strawberry Tart</td>\n",
       "      <td>[타르트, 기초, 파트, 슈크레, 베이직, 딸기, 타르트, 만들기]</td>\n",
       "    </tr>\n",
       "  </tbody>\n",
       "</table>\n",
       "</div>"
      ],
      "text/plain": [
       "                                                                  name  \\\n",
       "1198                   🔥 넌 커리? 난 카레~! 카레랑 밥이랑 ★ 카레라이스 레시피 ★ 🔥 [만개의레시피]   \n",
       "2306                                       펑리수 달콤한 파인애플쨈이 쏘옥! [만개의레시피]   \n",
       "2963                                     애호박조개전 ☆ 크으~ 땡긴다 땡겨! [만개의레시피]   \n",
       "998                               🔥 홍합이 입벌리는 최고의 순간 홍합탕 레시피 🔥 [만개의레시피]   \n",
       "2375                                 미니크루아상 샌드위치 귀엽고맛있어 ... ♡ [만개의레시피]   \n",
       "1637                             🔥 집에서 먹는 중국요리 레시피 ☆ 오늘의식단 🔥  [만개의레시피]   \n",
       "3034                                       쪽파손질법 ♡ 야무지게 활용하자! [만개의노하우]   \n",
       "142                                         당신의 요리실력을 망치는 인터넷 레시피의 문제점   \n",
       "3060                                          돌체라떼 ♥ 연유에 우유까지 [만개의레시피]   \n",
       "149                                          떡볶이를 천상계로 끌어올리는 셰프의 킥 두가지   \n",
       "2673                                       생크림머핀 ☆ No버터 폭신폭신♥ [만개의레시피]   \n",
       "1372                          SUB) 유부초밥에 즐겼다면 ? 고소한 크래미유부초밥 ★ [만개의레시피]   \n",
       "3486                          열무김치 맛있게 담는법 초보자도 하나하나 담을 수 있게 쉬워요 심방골주부   \n",
       "4368                                         고추장찌개 만들기~ 얼큰하고 진하게~ [강쉪]   \n",
       "613   Sub) 타르트지의 기초 ! 파트슈크레로 베이직한 딸기타르트 만들기 : Strawberry Tart [만개의레시피]   \n",
       "\n",
       "                                           clean_name  \\\n",
       "1198                          넌 커리 난 카레 카레 밥 이랑 카레라이스   \n",
       "2306                           펑 리수 달콤하다 파인애플 째다 쏘다 옥   \n",
       "2963                              애호박 조 개전 크으 땡기다 땡기다   \n",
       "998                               홍합 입 벌리다 최고 순간 홍합 탕   \n",
       "2375                             미니 크루아상 샌드위치 귀엽다 맛있다   \n",
       "1637                                  집 먹다 중국요리 오늘 식단   \n",
       "3034                           쪽파 손질 법 야무지다 활용 하다 노하우   \n",
       "142                              당신 요리실 력 망치다 인터넷 문제점   \n",
       "3060                                   돌체 라떼 연유 우유 까지   \n",
       "149                          떡볶이 천상계 끌다 올리다 셰프 킥 두 가지   \n",
       "2673                              생크림 머핀 No 버터 폭 신 폭신   \n",
       "1372                         유부초밥 즐기다 고소하다 크다 래미 유부초밥   \n",
       "3486                열무김치 맛있다 담다 법 초보자 하나 하나 담 수 있다 쉽다   \n",
       "4368                              고추장 찌개 만들기 얼큰하다 진하다   \n",
       "613   타르트 지 기초 파트슈크레 베이직 한 딸기 타르트 만들기 Strawberry Tart   \n",
       "\n",
       "                            clean_name_noun  \n",
       "1198           [넌, 커리, 난, 카레, 카레, 밥, 카레라이스]  \n",
       "2306                       [펑, 리수, 파인애플, 옥]  \n",
       "2963                           [애호박, 조, 개전]  \n",
       "998                  [홍합, 입, 최고, 순간, 홍합, 탕]  \n",
       "2375                       [미니, 크루아상, 샌드위치]  \n",
       "1637                      [집, 중국요리, 오늘, 식단]  \n",
       "3034                   [쪽파, 손질, 법, 활용, 노하우]  \n",
       "142                 [당신, 요리실, 망치, 인터넷, 문제점]  \n",
       "3060                       [돌체, 라떼, 연유, 우유]  \n",
       "149            [떡볶이, 천상계, 리다, 셰프, 킥, 두, 가지]  \n",
       "2673                [생크림, 머핀, 버터, 폭, 신, 폭신]  \n",
       "1372                       [유부초밥, 래미, 유부초밥]  \n",
       "3486           [열무김치, 법, 초보자, 하나, 하나, 담, 수]  \n",
       "4368                         [고추장, 찌개, 만들기]  \n",
       "613   [타르트, 기초, 파트, 슈크레, 베이직, 딸기, 타르트, 만들기]  "
      ]
     },
     "execution_count": 4,
     "metadata": {},
     "output_type": "execute_result"
    }
   ],
   "source": [
    "df['clean_name_noun'] = df['clean_name'].apply(lambda x : okt.nouns(x))\n",
    "df[['name','clean_name','clean_name_noun']].sample(15,random_state=1234)"
   ]
  },
  {
   "cell_type": "code",
   "execution_count": 5,
   "metadata": {
    "hidden": true
   },
   "outputs": [
    {
     "data": {
      "text/html": [
       "<div>\n",
       "<style scoped>\n",
       "    .dataframe tbody tr th:only-of-type {\n",
       "        vertical-align: middle;\n",
       "    }\n",
       "\n",
       "    .dataframe tbody tr th {\n",
       "        vertical-align: top;\n",
       "    }\n",
       "\n",
       "    .dataframe thead th {\n",
       "        text-align: right;\n",
       "    }\n",
       "</style>\n",
       "<table border=\"1\" class=\"dataframe\">\n",
       "  <thead>\n",
       "    <tr style=\"text-align: right;\">\n",
       "      <th></th>\n",
       "      <th>youtuber_id</th>\n",
       "      <th>subscribers</th>\n",
       "      <th>days_after_upload</th>\n",
       "      <th>clean_name_noun</th>\n",
       "      <th>hits</th>\n",
       "    </tr>\n",
       "  </thead>\n",
       "  <tbody>\n",
       "    <tr>\n",
       "      <th>0</th>\n",
       "      <td>0</td>\n",
       "      <td>556000000</td>\n",
       "      <td>9</td>\n",
       "      <td>[요리사, 자리, 모이, 면, 일, 오리, 다리, 콩피]</td>\n",
       "      <td>245137</td>\n",
       "    </tr>\n",
       "    <tr>\n",
       "      <th>1</th>\n",
       "      <td>0</td>\n",
       "      <td>556000000</td>\n",
       "      <td>30</td>\n",
       "      <td>[요리, 남자, 집들이, 음식]</td>\n",
       "      <td>630196</td>\n",
       "    </tr>\n",
       "    <tr>\n",
       "      <th>2</th>\n",
       "      <td>0</td>\n",
       "      <td>556000000</td>\n",
       "      <td>43</td>\n",
       "      <td>[종료, 제, 여러분, 요리]</td>\n",
       "      <td>160997</td>\n",
       "    </tr>\n",
       "    <tr>\n",
       "      <th>3</th>\n",
       "      <td>0</td>\n",
       "      <td>556000000</td>\n",
       "      <td>59</td>\n",
       "      <td>[요리사, 자리, 모이, 면, 일]</td>\n",
       "      <td>1962881</td>\n",
       "    </tr>\n",
       "    <tr>\n",
       "      <th>4</th>\n",
       "      <td>0</td>\n",
       "      <td>556000000</td>\n",
       "      <td>71</td>\n",
       "      <td>[요리, 남자, 파티, 음식]</td>\n",
       "      <td>720225</td>\n",
       "    </tr>\n",
       "  </tbody>\n",
       "</table>\n",
       "</div>"
      ],
      "text/plain": [
       "   youtuber_id  subscribers  days_after_upload  \\\n",
       "0            0    556000000                  9   \n",
       "1            0    556000000                 30   \n",
       "2            0    556000000                 43   \n",
       "3            0    556000000                 59   \n",
       "4            0    556000000                 71   \n",
       "\n",
       "                   clean_name_noun     hits  \n",
       "0  [요리사, 자리, 모이, 면, 일, 오리, 다리, 콩피]   245137  \n",
       "1                [요리, 남자, 집들이, 음식]   630196  \n",
       "2                 [종료, 제, 여러분, 요리]   160997  \n",
       "3              [요리사, 자리, 모이, 면, 일]  1962881  \n",
       "4                 [요리, 남자, 파티, 음식]   720225  "
      ]
     },
     "execution_count": 5,
     "metadata": {},
     "output_type": "execute_result"
    }
   ],
   "source": [
    "df = df[['youtuber_id','subscribers','days_after_upload','clean_name_noun','hits']] # likes / dislikes 활용 안할거같아서 우선 포함 X\n",
    "df.head()"
   ]
  },
  {
   "cell_type": "markdown",
   "metadata": {
    "heading_collapsed": true
   },
   "source": [
    "# EDA (동영상 제목 TF-IDF포함)"
   ]
  },
  {
   "cell_type": "code",
   "execution_count": 6,
   "metadata": {
    "hidden": true
   },
   "outputs": [
    {
     "data": {
      "text/plain": [
       "<matplotlib.axes._subplots.AxesSubplot at 0x30ae2313c8>"
      ]
     },
     "execution_count": 6,
     "metadata": {},
     "output_type": "execute_result"
    },
    {
     "data": {
      "text/plain": [
       "Text(0.5, 1.0, 'Count of youtuber_id')"
      ]
     },
     "execution_count": 6,
     "metadata": {},
     "output_type": "execute_result"
    },
    {
     "data": {
      "image/png": "[encoded data removed]",
      "text/plain": [
       "<Figure size 360x216 with 1 Axes>"
      ]
     },
     "metadata": {},
     "output_type": "display_data"
    }
   ],
   "source": [
    "sns.set(rc={'figure.figsize':(5,3)})\n",
    "sns.countplot(y='youtuber_id',data=df)\n",
    "plt.title('Count of youtuber_id')"
   ]
  },
  {
   "cell_type": "code",
   "execution_count": 7,
   "metadata": {
    "hidden": true
   },
   "outputs": [
    {
     "data": {
      "text/plain": [
       "<seaborn.axisgrid.FacetGrid at 0x30cdb64e48>"
      ]
     },
     "execution_count": 7,
     "metadata": {},
     "output_type": "execute_result"
    },
    {
     "data": {
      "text/plain": [
       "<seaborn.axisgrid.FacetGrid at 0x30d1ed2320>"
      ]
     },
     "execution_count": 7,
     "metadata": {},
     "output_type": "execute_result"
    },
    {
     "data": {
      "image/png": "[encoded data removed]",
      "text/plain": [
       "<Figure size 360x360 with 1 Axes>"
      ]
     },
     "metadata": {},
     "output_type": "display_data"
    },
    {
     "data": {
      "image/png": "[encoded data removed]",
      "text/plain": [
       "<Figure size 509.311x360 with 1 Axes>"
      ]
     },
     "metadata": {},
     "output_type": "display_data"
    }
   ],
   "source": [
    "sns.set(rc={'figure.figsize':(5,3)})\n",
    "sns.catplot(x='youtuber_id',y='hits',data=df) # 영상이 많다고, 조회수가 높은게 아니다 -> 키워드가 중요한거같다\n",
    "sns.catplot(x='subscribers',y='hits',data=df,aspect=11.7/8.27) # 구독자수와 양의 상관관계가 있지만, 대부분의 영상은 1000000에 몰려있는 것을 볼 수 있다."
   ]
  },
  {
   "cell_type": "code",
   "execution_count": 8,
   "metadata": {
    "hidden": true
   },
   "outputs": [
    {
     "data": {
      "text/plain": [
       "<matplotlib.axes._subplots.AxesSubplot at 0x30d1f99ba8>"
      ]
     },
     "execution_count": 8,
     "metadata": {},
     "output_type": "execute_result"
    },
    {
     "data": {
      "image/png": "[encoded data removed]",
      "text/plain": [
       "<Figure size 1080x504 with 1 Axes>"
      ]
     },
     "metadata": {},
     "output_type": "display_data"
    }
   ],
   "source": [
    "sns.set(rc={'figure.figsize':(15,7)})\n",
    "sns.scatterplot(x='days_after_upload', y='hits',hue='youtuber_id', size='youtuber_id', data=df)"
   ]
  },
  {
   "cell_type": "markdown",
   "metadata": {
    "hidden": true
   },
   "source": [
    "## 동영상 제목 키워드로 살펴보기\n",
    "- TF-IDF 활용할 예정"
   ]
  },
  {
   "cell_type": "code",
   "execution_count": 9,
   "metadata": {
    "hidden": true
   },
   "outputs": [
    {
     "name": "stderr",
     "output_type": "stream",
     "text": [
      "C:\\Users\\LG\\Anaconda3\\lib\\site-packages\\ipykernel_launcher.py:7: SettingWithCopyWarning: \n",
      "A value is trying to be set on a copy of a slice from a DataFrame.\n",
      "Try using .loc[row_indexer,col_indexer] = value instead\n",
      "\n",
      "See the caveats in the documentation: http://pandas.pydata.org/pandas-docs/stable/indexing.html#indexing-view-versus-copy\n",
      "  import sys\n"
     ]
    }
   ],
   "source": [
    "df_name_noun = df[['clean_name_noun']]\n",
    "\n",
    "pre_total_word_list = []\n",
    "for i in df_name_noun['clean_name_noun']:\n",
    "    pre_total_word_list.append(' '.join(i))\n",
    "    \n",
    "df_name_noun['pre_total_word_list'] = pre_total_word_list"
   ]
  },
  {
   "cell_type": "markdown",
   "metadata": {
    "hidden": true
   },
   "source": [
    "- 어떤걸 써야하나 고민.."
   ]
  },
  {
   "cell_type": "code",
   "execution_count": 10,
   "metadata": {
    "hidden": true
   },
   "outputs": [
    {
     "data": {
      "text/plain": [
       "27119"
      ]
     },
     "execution_count": 10,
     "metadata": {},
     "output_type": "execute_result"
    },
    {
     "data": {
      "text/plain": [
       "4131"
      ]
     },
     "execution_count": 10,
     "metadata": {},
     "output_type": "execute_result"
    },
    {
     "data": {
      "text/plain": [
       "2235"
      ]
     },
     "execution_count": 10,
     "metadata": {},
     "output_type": "execute_result"
    },
    {
     "data": {
      "text/plain": [
       "1594"
      ]
     },
     "execution_count": 10,
     "metadata": {},
     "output_type": "execute_result"
    }
   ],
   "source": [
    "total_word_list= ' '.join(pre_total_word_list[0:]).split()\n",
    "len(total_word_list)\n",
    "\n",
    "# 중복되는 단어 제거 = 4131개\n",
    "total_word_list1 = list(set(total_word_list))\n",
    "len(total_word_list1)\n",
    "\n",
    "# 2번 이상나온 단어 제거 = 2235개 \n",
    "freq = pd.Series(total_word_list).value_counts()\n",
    "total_word_list2 = freq[freq>1].index\n",
    "len(total_word_list2)\n",
    "\n",
    "# 3번 이상 나온 단어 제거 = 1594개\n",
    "freq = pd.Series(total_word_list).value_counts()\n",
    "total_word_list3 = freq[freq>2].index\n",
    "len(total_word_list3)"
   ]
  },
  {
   "cell_type": "code",
   "execution_count": 11,
   "metadata": {
    "hidden": true
   },
   "outputs": [
    {
     "name": "stderr",
     "output_type": "stream",
     "text": [
      "C:\\Users\\LG\\Anaconda3\\lib\\site-packages\\ipykernel_launcher.py:1: SettingWithCopyWarning: \n",
      "A value is trying to be set on a copy of a slice from a DataFrame.\n",
      "Try using .loc[row_indexer,col_indexer] = value instead\n",
      "\n",
      "See the caveats in the documentation: http://pandas.pydata.org/pandas-docs/stable/indexing.html#indexing-view-versus-copy\n",
      "  \"\"\"Entry point for launching an IPython kernel.\n",
      "C:\\Users\\LG\\Anaconda3\\lib\\site-packages\\ipykernel_launcher.py:2: SettingWithCopyWarning: \n",
      "A value is trying to be set on a copy of a slice from a DataFrame.\n",
      "Try using .loc[row_indexer,col_indexer] = value instead\n",
      "\n",
      "See the caveats in the documentation: http://pandas.pydata.org/pandas-docs/stable/indexing.html#indexing-view-versus-copy\n",
      "  \n"
     ]
    }
   ],
   "source": [
    "df_name_noun['clean_name_most_freq2'] = df_name_noun['pre_total_word_list'].apply(lambda x: ' '.join([word for word in x.split() if word in (total_word_list2)]))\n",
    "df_name_noun['clean_name_most_freq3'] = df_name_noun['pre_total_word_list'].apply(lambda x: ' '.join([word for word in x.split() if word in (total_word_list3)]))"
   ]
  },
  {
   "cell_type": "code",
   "execution_count": 12,
   "metadata": {
    "hidden": true
   },
   "outputs": [
    {
     "data": {
      "text/html": [
       "<div>\n",
       "<style scoped>\n",
       "    .dataframe tbody tr th:only-of-type {\n",
       "        vertical-align: middle;\n",
       "    }\n",
       "\n",
       "    .dataframe tbody tr th {\n",
       "        vertical-align: top;\n",
       "    }\n",
       "\n",
       "    .dataframe thead th {\n",
       "        text-align: right;\n",
       "    }\n",
       "</style>\n",
       "<table border=\"1\" class=\"dataframe\">\n",
       "  <thead>\n",
       "    <tr style=\"text-align: right;\">\n",
       "      <th></th>\n",
       "      <th>clean_name_noun</th>\n",
       "      <th>pre_total_word_list</th>\n",
       "      <th>clean_name_most_freq2</th>\n",
       "      <th>clean_name_most_freq3</th>\n",
       "    </tr>\n",
       "  </thead>\n",
       "  <tbody>\n",
       "    <tr>\n",
       "      <th>0</th>\n",
       "      <td>[요리사, 자리, 모이, 면, 일, 오리, 다리, 콩피]</td>\n",
       "      <td>요리사 자리 모이 면 일 오리 다리 콩피</td>\n",
       "      <td>요리사 자리 모이 면 일 오리 다리</td>\n",
       "      <td>요리사 자리 모이 면 일 오리</td>\n",
       "    </tr>\n",
       "    <tr>\n",
       "      <th>1</th>\n",
       "      <td>[요리, 남자, 집들이, 음식]</td>\n",
       "      <td>요리 남자 집들이 음식</td>\n",
       "      <td>요리 남자 집들이 음식</td>\n",
       "      <td>요리 남자 집들이 음식</td>\n",
       "    </tr>\n",
       "    <tr>\n",
       "      <th>2</th>\n",
       "      <td>[종료, 제, 여러분, 요리]</td>\n",
       "      <td>종료 제 여러분 요리</td>\n",
       "      <td>종료 제 여러분 요리</td>\n",
       "      <td>제 요리</td>\n",
       "    </tr>\n",
       "    <tr>\n",
       "      <th>3</th>\n",
       "      <td>[요리사, 자리, 모이, 면, 일]</td>\n",
       "      <td>요리사 자리 모이 면 일</td>\n",
       "      <td>요리사 자리 모이 면 일</td>\n",
       "      <td>요리사 자리 모이 면 일</td>\n",
       "    </tr>\n",
       "    <tr>\n",
       "      <th>4</th>\n",
       "      <td>[요리, 남자, 파티, 음식]</td>\n",
       "      <td>요리 남자 파티 음식</td>\n",
       "      <td>요리 남자 파티 음식</td>\n",
       "      <td>요리 남자 파티 음식</td>\n",
       "    </tr>\n",
       "  </tbody>\n",
       "</table>\n",
       "</div>"
      ],
      "text/plain": [
       "                   clean_name_noun     pre_total_word_list  \\\n",
       "0  [요리사, 자리, 모이, 면, 일, 오리, 다리, 콩피]  요리사 자리 모이 면 일 오리 다리 콩피   \n",
       "1                [요리, 남자, 집들이, 음식]            요리 남자 집들이 음식   \n",
       "2                 [종료, 제, 여러분, 요리]             종료 제 여러분 요리   \n",
       "3              [요리사, 자리, 모이, 면, 일]           요리사 자리 모이 면 일   \n",
       "4                 [요리, 남자, 파티, 음식]             요리 남자 파티 음식   \n",
       "\n",
       "  clean_name_most_freq2 clean_name_most_freq3  \n",
       "0   요리사 자리 모이 면 일 오리 다리      요리사 자리 모이 면 일 오리  \n",
       "1          요리 남자 집들이 음식          요리 남자 집들이 음식  \n",
       "2           종료 제 여러분 요리                  제 요리  \n",
       "3         요리사 자리 모이 면 일         요리사 자리 모이 면 일  \n",
       "4           요리 남자 파티 음식           요리 남자 파티 음식  "
      ]
     },
     "execution_count": 12,
     "metadata": {},
     "output_type": "execute_result"
    }
   ],
   "source": [
    "df_name_noun.head()"
   ]
  },
  {
   "cell_type": "markdown",
   "metadata": {
    "hidden": true
   },
   "source": [
    "- 각 영상에 언급된 단어의 빈도수를 수치화 시켜 -> hits 와의 연관성 비교"
   ]
  },
  {
   "cell_type": "code",
   "execution_count": 29,
   "metadata": {
    "hidden": true
   },
   "outputs": [
    {
     "data": {
      "text/html": [
       "<div>\n",
       "<style scoped>\n",
       "    .dataframe tbody tr th:only-of-type {\n",
       "        vertical-align: middle;\n",
       "    }\n",
       "\n",
       "    .dataframe tbody tr th {\n",
       "        vertical-align: top;\n",
       "    }\n",
       "\n",
       "    .dataframe thead th {\n",
       "        text-align: right;\n",
       "    }\n",
       "</style>\n",
       "<table border=\"1\" class=\"dataframe\">\n",
       "  <thead>\n",
       "    <tr style=\"text-align: right;\">\n",
       "      <th></th>\n",
       "      <th>youtuber_id</th>\n",
       "      <th>subscribers</th>\n",
       "      <th>days_after_upload</th>\n",
       "      <th>clean_name_noun</th>\n",
       "      <th>hits</th>\n",
       "      <th>clean_name_most_freq2</th>\n",
       "      <th>name*weight</th>\n",
       "    </tr>\n",
       "  </thead>\n",
       "  <tbody>\n",
       "    <tr>\n",
       "      <th>0</th>\n",
       "      <td>0</td>\n",
       "      <td>556000000</td>\n",
       "      <td>9</td>\n",
       "      <td>[요리사, 자리, 모이, 면, 일, 오리, 다리, 콩피]</td>\n",
       "      <td>245137</td>\n",
       "      <td>요리사 자리 모이 면 일 오리 다리</td>\n",
       "      <td>1.430516e-09</td>\n",
       "    </tr>\n",
       "    <tr>\n",
       "      <th>1</th>\n",
       "      <td>0</td>\n",
       "      <td>556000000</td>\n",
       "      <td>30</td>\n",
       "      <td>[요리, 남자, 집들이, 음식]</td>\n",
       "      <td>630196</td>\n",
       "      <td>요리 남자 집들이 음식</td>\n",
       "      <td>2.531077e-02</td>\n",
       "    </tr>\n",
       "    <tr>\n",
       "      <th>2</th>\n",
       "      <td>0</td>\n",
       "      <td>556000000</td>\n",
       "      <td>43</td>\n",
       "      <td>[종료, 제, 여러분, 요리]</td>\n",
       "      <td>160997</td>\n",
       "      <td>종료 제 여러분 요리</td>\n",
       "      <td>2.151661e-02</td>\n",
       "    </tr>\n",
       "    <tr>\n",
       "      <th>3</th>\n",
       "      <td>0</td>\n",
       "      <td>556000000</td>\n",
       "      <td>59</td>\n",
       "      <td>[요리사, 자리, 모이, 면, 일]</td>\n",
       "      <td>1962881</td>\n",
       "      <td>요리사 자리 모이 면 일</td>\n",
       "      <td>9.316933e-10</td>\n",
       "    </tr>\n",
       "    <tr>\n",
       "      <th>4</th>\n",
       "      <td>0</td>\n",
       "      <td>556000000</td>\n",
       "      <td>71</td>\n",
       "      <td>[요리, 남자, 파티, 음식]</td>\n",
       "      <td>720225</td>\n",
       "      <td>요리 남자 파티 음식</td>\n",
       "      <td>2.879285e-02</td>\n",
       "    </tr>\n",
       "    <tr>\n",
       "      <th>5</th>\n",
       "      <td>0</td>\n",
       "      <td>556000000</td>\n",
       "      <td>120</td>\n",
       "      <td>[요리, 남자, 글램핑, 스테이크, 비프, 립, 돌, 문어, 또, 라면]</td>\n",
       "      <td>477349</td>\n",
       "      <td>요리 남자 스테이크 비프 립 돌 문어 또 라면</td>\n",
       "      <td>3.986324e-02</td>\n",
       "    </tr>\n",
       "    <tr>\n",
       "      <th>6</th>\n",
       "      <td>0</td>\n",
       "      <td>556000000</td>\n",
       "      <td>129</td>\n",
       "      <td>[취미, 요리, 남자, 무려, 다섯, 명, 초밥, 도전]</td>\n",
       "      <td>696346</td>\n",
       "      <td>취미 요리 남자 무려 명 초밥 도전</td>\n",
       "      <td>3.986324e-02</td>\n",
       "    </tr>\n",
       "    <tr>\n",
       "      <th>7</th>\n",
       "      <td>0</td>\n",
       "      <td>556000000</td>\n",
       "      <td>141</td>\n",
       "      <td>[바닷가, 브런치, 개뿔]</td>\n",
       "      <td>411963</td>\n",
       "      <td>브런치</td>\n",
       "      <td>7.276233e-03</td>\n",
       "    </tr>\n",
       "    <tr>\n",
       "      <th>8</th>\n",
       "      <td>0</td>\n",
       "      <td>556000000</td>\n",
       "      <td>157</td>\n",
       "      <td>[요리, 남자, 캠핑카, 일]</td>\n",
       "      <td>556207</td>\n",
       "      <td>요리 남자 캠핑카 일</td>\n",
       "      <td>1.834663e-02</td>\n",
       "    </tr>\n",
       "    <tr>\n",
       "      <th>9</th>\n",
       "      <td>0</td>\n",
       "      <td>556000000</td>\n",
       "      <td>166</td>\n",
       "      <td>[요리, 남자, 캠핑카, 랍스터]</td>\n",
       "      <td>808580</td>\n",
       "      <td>요리 남자 캠핑카 랍스터</td>\n",
       "      <td>2.214079e-02</td>\n",
       "    </tr>\n",
       "    <tr>\n",
       "      <th>10</th>\n",
       "      <td>0</td>\n",
       "      <td>556000000</td>\n",
       "      <td>173</td>\n",
       "      <td>[요리, 남자, 옥상, 해물, 파티]</td>\n",
       "      <td>1213310</td>\n",
       "      <td>요리 남자 해물 파티</td>\n",
       "      <td>2.879285e-02</td>\n",
       "    </tr>\n",
       "    <tr>\n",
       "      <th>11</th>\n",
       "      <td>0</td>\n",
       "      <td>556000000</td>\n",
       "      <td>201</td>\n",
       "      <td>[요리, 남자, 저녁, 밥]</td>\n",
       "      <td>2965410</td>\n",
       "      <td>요리 남자 저녁 밥</td>\n",
       "      <td>1.803454e-02</td>\n",
       "    </tr>\n",
       "    <tr>\n",
       "      <th>12</th>\n",
       "      <td>0</td>\n",
       "      <td>556000000</td>\n",
       "      <td>226</td>\n",
       "      <td>[취미, 요리, 남자, 현실, 요리사, 친구, 노, 방법]</td>\n",
       "      <td>1090533</td>\n",
       "      <td>취미 요리 남자 요리사 친구 노 방법</td>\n",
       "      <td>3.258701e-02</td>\n",
       "    </tr>\n",
       "    <tr>\n",
       "      <th>13</th>\n",
       "      <td>0</td>\n",
       "      <td>556000000</td>\n",
       "      <td>242</td>\n",
       "      <td>[친구, 네, 집, 집들이, 요리, 편, 풀드, 포크, 제이제이, 김치전]</td>\n",
       "      <td>589072</td>\n",
       "      <td>친구 네 집 집들이 요리 편 풀드 포크 제이제이 김치전</td>\n",
       "      <td>8.247831e-02</td>\n",
       "    </tr>\n",
       "    <tr>\n",
       "      <th>14</th>\n",
       "      <td>0</td>\n",
       "      <td>556000000</td>\n",
       "      <td>242</td>\n",
       "      <td>[친구, 네, 집, 집들이, 요리, 편, 안심, 스테이크, 제이제이]</td>\n",
       "      <td>959644</td>\n",
       "      <td>친구 네 집 집들이 요리 편 안심 스테이크 제이제이</td>\n",
       "      <td>6.096170e-02</td>\n",
       "    </tr>\n",
       "  </tbody>\n",
       "</table>\n",
       "</div>"
      ],
      "text/plain": [
       "   youtuber_id  subscribers  days_after_upload  \\\n",
       "0            0    556000000                  9   \n",
       "1            0    556000000                 30   \n",
       "2            0    556000000                 43   \n",
       "3            0    556000000                 59   \n",
       "4            0    556000000                 71   \n",
       "5            0    556000000                120   \n",
       "6            0    556000000                129   \n",
       "7            0    556000000                141   \n",
       "8            0    556000000                157   \n",
       "9            0    556000000                166   \n",
       "10           0    556000000                173   \n",
       "11           0    556000000                201   \n",
       "12           0    556000000                226   \n",
       "13           0    556000000                242   \n",
       "14           0    556000000                242   \n",
       "\n",
       "                              clean_name_noun     hits  \\\n",
       "0             [요리사, 자리, 모이, 면, 일, 오리, 다리, 콩피]   245137   \n",
       "1                           [요리, 남자, 집들이, 음식]   630196   \n",
       "2                            [종료, 제, 여러분, 요리]   160997   \n",
       "3                         [요리사, 자리, 모이, 면, 일]  1962881   \n",
       "4                            [요리, 남자, 파티, 음식]   720225   \n",
       "5    [요리, 남자, 글램핑, 스테이크, 비프, 립, 돌, 문어, 또, 라면]   477349   \n",
       "6             [취미, 요리, 남자, 무려, 다섯, 명, 초밥, 도전]   696346   \n",
       "7                              [바닷가, 브런치, 개뿔]   411963   \n",
       "8                            [요리, 남자, 캠핑카, 일]   556207   \n",
       "9                          [요리, 남자, 캠핑카, 랍스터]   808580   \n",
       "10                       [요리, 남자, 옥상, 해물, 파티]  1213310   \n",
       "11                            [요리, 남자, 저녁, 밥]  2965410   \n",
       "12           [취미, 요리, 남자, 현실, 요리사, 친구, 노, 방법]  1090533   \n",
       "13  [친구, 네, 집, 집들이, 요리, 편, 풀드, 포크, 제이제이, 김치전]   589072   \n",
       "14     [친구, 네, 집, 집들이, 요리, 편, 안심, 스테이크, 제이제이]   959644   \n",
       "\n",
       "             clean_name_most_freq2   name*weight  \n",
       "0              요리사 자리 모이 면 일 오리 다리  1.430516e-09  \n",
       "1                     요리 남자 집들이 음식  2.531077e-02  \n",
       "2                      종료 제 여러분 요리  2.151661e-02  \n",
       "3                    요리사 자리 모이 면 일  9.316933e-10  \n",
       "4                      요리 남자 파티 음식  2.879285e-02  \n",
       "5        요리 남자 스테이크 비프 립 돌 문어 또 라면  3.986324e-02  \n",
       "6              취미 요리 남자 무려 명 초밥 도전  3.986324e-02  \n",
       "7                              브런치  7.276233e-03  \n",
       "8                      요리 남자 캠핑카 일  1.834663e-02  \n",
       "9                    요리 남자 캠핑카 랍스터  2.214079e-02  \n",
       "10                     요리 남자 해물 파티  2.879285e-02  \n",
       "11                      요리 남자 저녁 밥  1.803454e-02  \n",
       "12            취미 요리 남자 요리사 친구 노 방법  3.258701e-02  \n",
       "13  친구 네 집 집들이 요리 편 풀드 포크 제이제이 김치전  8.247831e-02  \n",
       "14    친구 네 집 집들이 요리 편 안심 스테이크 제이제이  6.096170e-02  "
      ]
     },
     "execution_count": 29,
     "metadata": {},
     "output_type": "execute_result"
    }
   ],
   "source": [
    "df['clean_name_most_freq2'] = df_name_noun['pre_total_word_list'].apply(lambda x: ' '.join([word for word in x.split() if word in (total_word_list2)]))\n",
    "df.head(15)"
   ]
  },
  {
   "cell_type": "markdown",
   "metadata": {
    "hidden": true
   },
   "source": [
    "- 우선 most_freq 2를 사용해보기로 결정"
   ]
  },
  {
   "cell_type": "code",
   "execution_count": 14,
   "metadata": {
    "hidden": true
   },
   "outputs": [
    {
     "data": {
      "text/html": [
       "<div>\n",
       "<style scoped>\n",
       "    .dataframe tbody tr th:only-of-type {\n",
       "        vertical-align: middle;\n",
       "    }\n",
       "\n",
       "    .dataframe tbody tr th {\n",
       "        vertical-align: top;\n",
       "    }\n",
       "\n",
       "    .dataframe thead th {\n",
       "        text-align: right;\n",
       "    }\n",
       "</style>\n",
       "<table border=\"1\" class=\"dataframe\">\n",
       "  <thead>\n",
       "    <tr style=\"text-align: right;\">\n",
       "      <th></th>\n",
       "      <th>youtuber_id</th>\n",
       "      <th>clean_name_most_freq2</th>\n",
       "      <th>subscribers</th>\n",
       "      <th>days_after_upload</th>\n",
       "      <th>hits</th>\n",
       "    </tr>\n",
       "  </thead>\n",
       "  <tbody>\n",
       "    <tr>\n",
       "      <th>0</th>\n",
       "      <td>0</td>\n",
       "      <td>요리사 자리 모이 면 일 오리 다리</td>\n",
       "      <td>556000000</td>\n",
       "      <td>9</td>\n",
       "      <td>245137</td>\n",
       "    </tr>\n",
       "    <tr>\n",
       "      <th>1</th>\n",
       "      <td>0</td>\n",
       "      <td>요리 남자 집들이 음식</td>\n",
       "      <td>556000000</td>\n",
       "      <td>30</td>\n",
       "      <td>630196</td>\n",
       "    </tr>\n",
       "    <tr>\n",
       "      <th>2</th>\n",
       "      <td>0</td>\n",
       "      <td>종료 제 여러분 요리</td>\n",
       "      <td>556000000</td>\n",
       "      <td>43</td>\n",
       "      <td>160997</td>\n",
       "    </tr>\n",
       "    <tr>\n",
       "      <th>3</th>\n",
       "      <td>0</td>\n",
       "      <td>요리사 자리 모이 면 일</td>\n",
       "      <td>556000000</td>\n",
       "      <td>59</td>\n",
       "      <td>1962881</td>\n",
       "    </tr>\n",
       "    <tr>\n",
       "      <th>4</th>\n",
       "      <td>0</td>\n",
       "      <td>요리 남자 파티 음식</td>\n",
       "      <td>556000000</td>\n",
       "      <td>71</td>\n",
       "      <td>720225</td>\n",
       "    </tr>\n",
       "  </tbody>\n",
       "</table>\n",
       "</div>"
      ],
      "text/plain": [
       "   youtuber_id clean_name_most_freq2  subscribers  days_after_upload     hits\n",
       "0            0   요리사 자리 모이 면 일 오리 다리    556000000                  9   245137\n",
       "1            0          요리 남자 집들이 음식    556000000                 30   630196\n",
       "2            0           종료 제 여러분 요리    556000000                 43   160997\n",
       "3            0         요리사 자리 모이 면 일    556000000                 59  1962881\n",
       "4            0           요리 남자 파티 음식    556000000                 71   720225"
      ]
     },
     "execution_count": 14,
     "metadata": {},
     "output_type": "execute_result"
    }
   ],
   "source": [
    "df_most_freq2 = df[['youtuber_id','clean_name_most_freq2', 'subscribers', 'days_after_upload', 'hits']]\n",
    "df_most_freq2.head()"
   ]
  },
  {
   "cell_type": "markdown",
   "metadata": {
    "hidden": true
   },
   "source": [
    "### TF-IDF\n",
    "- 1) 파이썬으로 직접 구현\n",
    "- 2) TF-IDF 패키지 활용"
   ]
  },
  {
   "cell_type": "markdown",
   "metadata": {
    "hidden": true
   },
   "source": [
    "### 1) 파이썬으로 직접 구현"
   ]
  },
  {
   "cell_type": "code",
   "execution_count": 16,
   "metadata": {
    "hidden": true
   },
   "outputs": [],
   "source": [
    "from math import log"
   ]
  },
  {
   "cell_type": "code",
   "execution_count": 17,
   "metadata": {
    "hidden": true
   },
   "outputs": [],
   "source": [
    "def tf(t, d):\n",
    "    return d.count(t)\n",
    "\n",
    "def idf(t,docs):\n",
    "    df = 0\n",
    "    for doc in docs:\n",
    "        df += t in doc\n",
    "    return log(N/(df + 1))\n",
    "\n",
    "def tfidf(t, d):\n",
    "    return tf(t,d)* idf(t,d)"
   ]
  },
  {
   "cell_type": "markdown",
   "metadata": {
    "hidden": true
   },
   "source": [
    "- TF"
   ]
  },
  {
   "cell_type": "code",
   "execution_count": 18,
   "metadata": {
    "hidden": true,
    "scrolled": true
   },
   "outputs": [
    {
     "data": {
      "text/html": [
       "<div>\n",
       "<style scoped>\n",
       "    .dataframe tbody tr th:only-of-type {\n",
       "        vertical-align: middle;\n",
       "    }\n",
       "\n",
       "    .dataframe tbody tr th {\n",
       "        vertical-align: top;\n",
       "    }\n",
       "\n",
       "    .dataframe thead th {\n",
       "        text-align: right;\n",
       "    }\n",
       "</style>\n",
       "<table border=\"1\" class=\"dataframe\">\n",
       "  <thead>\n",
       "    <tr style=\"text-align: right;\">\n",
       "      <th></th>\n",
       "      <th>법</th>\n",
       "      <th>요리</th>\n",
       "      <th>만들기</th>\n",
       "      <th>가지</th>\n",
       "      <th>볶음</th>\n",
       "      <th>...</th>\n",
       "      <th>로그</th>\n",
       "      <th>피오</th>\n",
       "      <th>설렁탕</th>\n",
       "      <th>습격</th>\n",
       "      <th>인기가요</th>\n",
       "    </tr>\n",
       "  </thead>\n",
       "  <tbody>\n",
       "    <tr>\n",
       "      <th>0</th>\n",
       "      <td>0</td>\n",
       "      <td>1</td>\n",
       "      <td>0</td>\n",
       "      <td>0</td>\n",
       "      <td>0</td>\n",
       "      <td>...</td>\n",
       "      <td>0</td>\n",
       "      <td>0</td>\n",
       "      <td>0</td>\n",
       "      <td>0</td>\n",
       "      <td>0</td>\n",
       "    </tr>\n",
       "    <tr>\n",
       "      <th>1</th>\n",
       "      <td>0</td>\n",
       "      <td>1</td>\n",
       "      <td>0</td>\n",
       "      <td>0</td>\n",
       "      <td>0</td>\n",
       "      <td>...</td>\n",
       "      <td>0</td>\n",
       "      <td>0</td>\n",
       "      <td>0</td>\n",
       "      <td>0</td>\n",
       "      <td>0</td>\n",
       "    </tr>\n",
       "    <tr>\n",
       "      <th>2</th>\n",
       "      <td>0</td>\n",
       "      <td>1</td>\n",
       "      <td>0</td>\n",
       "      <td>0</td>\n",
       "      <td>0</td>\n",
       "      <td>...</td>\n",
       "      <td>0</td>\n",
       "      <td>0</td>\n",
       "      <td>0</td>\n",
       "      <td>0</td>\n",
       "      <td>0</td>\n",
       "    </tr>\n",
       "    <tr>\n",
       "      <th>3</th>\n",
       "      <td>0</td>\n",
       "      <td>1</td>\n",
       "      <td>0</td>\n",
       "      <td>0</td>\n",
       "      <td>0</td>\n",
       "      <td>...</td>\n",
       "      <td>0</td>\n",
       "      <td>0</td>\n",
       "      <td>0</td>\n",
       "      <td>0</td>\n",
       "      <td>0</td>\n",
       "    </tr>\n",
       "    <tr>\n",
       "      <th>4</th>\n",
       "      <td>0</td>\n",
       "      <td>1</td>\n",
       "      <td>0</td>\n",
       "      <td>0</td>\n",
       "      <td>0</td>\n",
       "      <td>...</td>\n",
       "      <td>0</td>\n",
       "      <td>0</td>\n",
       "      <td>0</td>\n",
       "      <td>0</td>\n",
       "      <td>0</td>\n",
       "    </tr>\n",
       "    <tr>\n",
       "      <th>5</th>\n",
       "      <td>0</td>\n",
       "      <td>1</td>\n",
       "      <td>0</td>\n",
       "      <td>0</td>\n",
       "      <td>0</td>\n",
       "      <td>...</td>\n",
       "      <td>0</td>\n",
       "      <td>0</td>\n",
       "      <td>0</td>\n",
       "      <td>0</td>\n",
       "      <td>0</td>\n",
       "    </tr>\n",
       "    <tr>\n",
       "      <th>6</th>\n",
       "      <td>0</td>\n",
       "      <td>1</td>\n",
       "      <td>0</td>\n",
       "      <td>0</td>\n",
       "      <td>0</td>\n",
       "      <td>...</td>\n",
       "      <td>0</td>\n",
       "      <td>0</td>\n",
       "      <td>0</td>\n",
       "      <td>0</td>\n",
       "      <td>0</td>\n",
       "    </tr>\n",
       "    <tr>\n",
       "      <th>7</th>\n",
       "      <td>0</td>\n",
       "      <td>0</td>\n",
       "      <td>0</td>\n",
       "      <td>0</td>\n",
       "      <td>0</td>\n",
       "      <td>...</td>\n",
       "      <td>0</td>\n",
       "      <td>0</td>\n",
       "      <td>0</td>\n",
       "      <td>0</td>\n",
       "      <td>0</td>\n",
       "    </tr>\n",
       "    <tr>\n",
       "      <th>8</th>\n",
       "      <td>0</td>\n",
       "      <td>1</td>\n",
       "      <td>0</td>\n",
       "      <td>0</td>\n",
       "      <td>0</td>\n",
       "      <td>...</td>\n",
       "      <td>0</td>\n",
       "      <td>0</td>\n",
       "      <td>0</td>\n",
       "      <td>0</td>\n",
       "      <td>0</td>\n",
       "    </tr>\n",
       "    <tr>\n",
       "      <th>9</th>\n",
       "      <td>0</td>\n",
       "      <td>1</td>\n",
       "      <td>0</td>\n",
       "      <td>0</td>\n",
       "      <td>0</td>\n",
       "      <td>...</td>\n",
       "      <td>0</td>\n",
       "      <td>0</td>\n",
       "      <td>0</td>\n",
       "      <td>0</td>\n",
       "      <td>0</td>\n",
       "    </tr>\n",
       "    <tr>\n",
       "      <th>10</th>\n",
       "      <td>0</td>\n",
       "      <td>1</td>\n",
       "      <td>0</td>\n",
       "      <td>0</td>\n",
       "      <td>0</td>\n",
       "      <td>...</td>\n",
       "      <td>0</td>\n",
       "      <td>0</td>\n",
       "      <td>0</td>\n",
       "      <td>0</td>\n",
       "      <td>0</td>\n",
       "    </tr>\n",
       "    <tr>\n",
       "      <th>11</th>\n",
       "      <td>0</td>\n",
       "      <td>1</td>\n",
       "      <td>0</td>\n",
       "      <td>0</td>\n",
       "      <td>0</td>\n",
       "      <td>...</td>\n",
       "      <td>0</td>\n",
       "      <td>0</td>\n",
       "      <td>0</td>\n",
       "      <td>0</td>\n",
       "      <td>0</td>\n",
       "    </tr>\n",
       "    <tr>\n",
       "      <th>12</th>\n",
       "      <td>1</td>\n",
       "      <td>2</td>\n",
       "      <td>0</td>\n",
       "      <td>0</td>\n",
       "      <td>0</td>\n",
       "      <td>...</td>\n",
       "      <td>0</td>\n",
       "      <td>0</td>\n",
       "      <td>0</td>\n",
       "      <td>0</td>\n",
       "      <td>0</td>\n",
       "    </tr>\n",
       "    <tr>\n",
       "      <th>13</th>\n",
       "      <td>0</td>\n",
       "      <td>1</td>\n",
       "      <td>0</td>\n",
       "      <td>0</td>\n",
       "      <td>0</td>\n",
       "      <td>...</td>\n",
       "      <td>0</td>\n",
       "      <td>0</td>\n",
       "      <td>0</td>\n",
       "      <td>0</td>\n",
       "      <td>0</td>\n",
       "    </tr>\n",
       "    <tr>\n",
       "      <th>14</th>\n",
       "      <td>0</td>\n",
       "      <td>1</td>\n",
       "      <td>0</td>\n",
       "      <td>0</td>\n",
       "      <td>0</td>\n",
       "      <td>...</td>\n",
       "      <td>0</td>\n",
       "      <td>0</td>\n",
       "      <td>0</td>\n",
       "      <td>0</td>\n",
       "      <td>0</td>\n",
       "    </tr>\n",
       "    <tr>\n",
       "      <th>15</th>\n",
       "      <td>0</td>\n",
       "      <td>1</td>\n",
       "      <td>0</td>\n",
       "      <td>0</td>\n",
       "      <td>0</td>\n",
       "      <td>...</td>\n",
       "      <td>0</td>\n",
       "      <td>0</td>\n",
       "      <td>0</td>\n",
       "      <td>0</td>\n",
       "      <td>0</td>\n",
       "    </tr>\n",
       "    <tr>\n",
       "      <th>16</th>\n",
       "      <td>0</td>\n",
       "      <td>1</td>\n",
       "      <td>0</td>\n",
       "      <td>0</td>\n",
       "      <td>0</td>\n",
       "      <td>...</td>\n",
       "      <td>0</td>\n",
       "      <td>0</td>\n",
       "      <td>0</td>\n",
       "      <td>0</td>\n",
       "      <td>0</td>\n",
       "    </tr>\n",
       "    <tr>\n",
       "      <th>17</th>\n",
       "      <td>0</td>\n",
       "      <td>0</td>\n",
       "      <td>0</td>\n",
       "      <td>0</td>\n",
       "      <td>0</td>\n",
       "      <td>...</td>\n",
       "      <td>0</td>\n",
       "      <td>0</td>\n",
       "      <td>0</td>\n",
       "      <td>0</td>\n",
       "      <td>0</td>\n",
       "    </tr>\n",
       "    <tr>\n",
       "      <th>18</th>\n",
       "      <td>0</td>\n",
       "      <td>2</td>\n",
       "      <td>0</td>\n",
       "      <td>0</td>\n",
       "      <td>0</td>\n",
       "      <td>...</td>\n",
       "      <td>0</td>\n",
       "      <td>0</td>\n",
       "      <td>0</td>\n",
       "      <td>0</td>\n",
       "      <td>0</td>\n",
       "    </tr>\n",
       "    <tr>\n",
       "      <th>19</th>\n",
       "      <td>0</td>\n",
       "      <td>1</td>\n",
       "      <td>0</td>\n",
       "      <td>0</td>\n",
       "      <td>0</td>\n",
       "      <td>...</td>\n",
       "      <td>0</td>\n",
       "      <td>0</td>\n",
       "      <td>0</td>\n",
       "      <td>0</td>\n",
       "      <td>0</td>\n",
       "    </tr>\n",
       "    <tr>\n",
       "      <th>20</th>\n",
       "      <td>0</td>\n",
       "      <td>0</td>\n",
       "      <td>0</td>\n",
       "      <td>0</td>\n",
       "      <td>0</td>\n",
       "      <td>...</td>\n",
       "      <td>0</td>\n",
       "      <td>0</td>\n",
       "      <td>0</td>\n",
       "      <td>0</td>\n",
       "      <td>0</td>\n",
       "    </tr>\n",
       "    <tr>\n",
       "      <th>21</th>\n",
       "      <td>0</td>\n",
       "      <td>1</td>\n",
       "      <td>0</td>\n",
       "      <td>0</td>\n",
       "      <td>0</td>\n",
       "      <td>...</td>\n",
       "      <td>0</td>\n",
       "      <td>0</td>\n",
       "      <td>0</td>\n",
       "      <td>0</td>\n",
       "      <td>0</td>\n",
       "    </tr>\n",
       "    <tr>\n",
       "      <th>22</th>\n",
       "      <td>0</td>\n",
       "      <td>1</td>\n",
       "      <td>0</td>\n",
       "      <td>0</td>\n",
       "      <td>0</td>\n",
       "      <td>...</td>\n",
       "      <td>0</td>\n",
       "      <td>0</td>\n",
       "      <td>0</td>\n",
       "      <td>0</td>\n",
       "      <td>0</td>\n",
       "    </tr>\n",
       "    <tr>\n",
       "      <th>23</th>\n",
       "      <td>0</td>\n",
       "      <td>1</td>\n",
       "      <td>0</td>\n",
       "      <td>0</td>\n",
       "      <td>0</td>\n",
       "      <td>...</td>\n",
       "      <td>0</td>\n",
       "      <td>0</td>\n",
       "      <td>0</td>\n",
       "      <td>0</td>\n",
       "      <td>0</td>\n",
       "    </tr>\n",
       "    <tr>\n",
       "      <th>24</th>\n",
       "      <td>0</td>\n",
       "      <td>0</td>\n",
       "      <td>0</td>\n",
       "      <td>0</td>\n",
       "      <td>0</td>\n",
       "      <td>...</td>\n",
       "      <td>0</td>\n",
       "      <td>0</td>\n",
       "      <td>0</td>\n",
       "      <td>0</td>\n",
       "      <td>0</td>\n",
       "    </tr>\n",
       "    <tr>\n",
       "      <th>25</th>\n",
       "      <td>0</td>\n",
       "      <td>0</td>\n",
       "      <td>0</td>\n",
       "      <td>0</td>\n",
       "      <td>0</td>\n",
       "      <td>...</td>\n",
       "      <td>0</td>\n",
       "      <td>0</td>\n",
       "      <td>0</td>\n",
       "      <td>0</td>\n",
       "      <td>0</td>\n",
       "    </tr>\n",
       "    <tr>\n",
       "      <th>26</th>\n",
       "      <td>0</td>\n",
       "      <td>1</td>\n",
       "      <td>0</td>\n",
       "      <td>0</td>\n",
       "      <td>0</td>\n",
       "      <td>...</td>\n",
       "      <td>0</td>\n",
       "      <td>0</td>\n",
       "      <td>0</td>\n",
       "      <td>0</td>\n",
       "      <td>0</td>\n",
       "    </tr>\n",
       "    <tr>\n",
       "      <th>27</th>\n",
       "      <td>0</td>\n",
       "      <td>0</td>\n",
       "      <td>0</td>\n",
       "      <td>0</td>\n",
       "      <td>0</td>\n",
       "      <td>...</td>\n",
       "      <td>0</td>\n",
       "      <td>0</td>\n",
       "      <td>0</td>\n",
       "      <td>0</td>\n",
       "      <td>0</td>\n",
       "    </tr>\n",
       "    <tr>\n",
       "      <th>28</th>\n",
       "      <td>0</td>\n",
       "      <td>0</td>\n",
       "      <td>0</td>\n",
       "      <td>0</td>\n",
       "      <td>0</td>\n",
       "      <td>...</td>\n",
       "      <td>0</td>\n",
       "      <td>0</td>\n",
       "      <td>0</td>\n",
       "      <td>0</td>\n",
       "      <td>0</td>\n",
       "    </tr>\n",
       "    <tr>\n",
       "      <th>29</th>\n",
       "      <td>0</td>\n",
       "      <td>1</td>\n",
       "      <td>0</td>\n",
       "      <td>0</td>\n",
       "      <td>0</td>\n",
       "      <td>...</td>\n",
       "      <td>0</td>\n",
       "      <td>0</td>\n",
       "      <td>0</td>\n",
       "      <td>0</td>\n",
       "      <td>0</td>\n",
       "    </tr>\n",
       "    <tr>\n",
       "      <th>...</th>\n",
       "      <td>...</td>\n",
       "      <td>...</td>\n",
       "      <td>...</td>\n",
       "      <td>...</td>\n",
       "      <td>...</td>\n",
       "      <td>...</td>\n",
       "      <td>...</td>\n",
       "      <td>...</td>\n",
       "      <td>...</td>\n",
       "      <td>...</td>\n",
       "      <td>...</td>\n",
       "    </tr>\n",
       "    <tr>\n",
       "      <th>4538</th>\n",
       "      <td>1</td>\n",
       "      <td>1</td>\n",
       "      <td>0</td>\n",
       "      <td>0</td>\n",
       "      <td>0</td>\n",
       "      <td>...</td>\n",
       "      <td>0</td>\n",
       "      <td>0</td>\n",
       "      <td>0</td>\n",
       "      <td>0</td>\n",
       "      <td>0</td>\n",
       "    </tr>\n",
       "    <tr>\n",
       "      <th>4539</th>\n",
       "      <td>0</td>\n",
       "      <td>1</td>\n",
       "      <td>1</td>\n",
       "      <td>0</td>\n",
       "      <td>0</td>\n",
       "      <td>...</td>\n",
       "      <td>0</td>\n",
       "      <td>0</td>\n",
       "      <td>0</td>\n",
       "      <td>0</td>\n",
       "      <td>0</td>\n",
       "    </tr>\n",
       "    <tr>\n",
       "      <th>4540</th>\n",
       "      <td>0</td>\n",
       "      <td>1</td>\n",
       "      <td>1</td>\n",
       "      <td>0</td>\n",
       "      <td>0</td>\n",
       "      <td>...</td>\n",
       "      <td>0</td>\n",
       "      <td>0</td>\n",
       "      <td>0</td>\n",
       "      <td>0</td>\n",
       "      <td>0</td>\n",
       "    </tr>\n",
       "    <tr>\n",
       "      <th>4541</th>\n",
       "      <td>1</td>\n",
       "      <td>0</td>\n",
       "      <td>1</td>\n",
       "      <td>0</td>\n",
       "      <td>0</td>\n",
       "      <td>...</td>\n",
       "      <td>0</td>\n",
       "      <td>0</td>\n",
       "      <td>0</td>\n",
       "      <td>0</td>\n",
       "      <td>0</td>\n",
       "    </tr>\n",
       "    <tr>\n",
       "      <th>4542</th>\n",
       "      <td>1</td>\n",
       "      <td>1</td>\n",
       "      <td>0</td>\n",
       "      <td>0</td>\n",
       "      <td>0</td>\n",
       "      <td>...</td>\n",
       "      <td>0</td>\n",
       "      <td>0</td>\n",
       "      <td>0</td>\n",
       "      <td>0</td>\n",
       "      <td>0</td>\n",
       "    </tr>\n",
       "    <tr>\n",
       "      <th>4543</th>\n",
       "      <td>0</td>\n",
       "      <td>1</td>\n",
       "      <td>1</td>\n",
       "      <td>0</td>\n",
       "      <td>1</td>\n",
       "      <td>...</td>\n",
       "      <td>0</td>\n",
       "      <td>0</td>\n",
       "      <td>0</td>\n",
       "      <td>0</td>\n",
       "      <td>0</td>\n",
       "    </tr>\n",
       "    <tr>\n",
       "      <th>4544</th>\n",
       "      <td>0</td>\n",
       "      <td>0</td>\n",
       "      <td>1</td>\n",
       "      <td>0</td>\n",
       "      <td>0</td>\n",
       "      <td>...</td>\n",
       "      <td>0</td>\n",
       "      <td>0</td>\n",
       "      <td>0</td>\n",
       "      <td>0</td>\n",
       "      <td>0</td>\n",
       "    </tr>\n",
       "    <tr>\n",
       "      <th>4545</th>\n",
       "      <td>0</td>\n",
       "      <td>1</td>\n",
       "      <td>1</td>\n",
       "      <td>1</td>\n",
       "      <td>0</td>\n",
       "      <td>...</td>\n",
       "      <td>0</td>\n",
       "      <td>0</td>\n",
       "      <td>0</td>\n",
       "      <td>0</td>\n",
       "      <td>0</td>\n",
       "    </tr>\n",
       "    <tr>\n",
       "      <th>4546</th>\n",
       "      <td>0</td>\n",
       "      <td>1</td>\n",
       "      <td>1</td>\n",
       "      <td>0</td>\n",
       "      <td>0</td>\n",
       "      <td>...</td>\n",
       "      <td>0</td>\n",
       "      <td>0</td>\n",
       "      <td>0</td>\n",
       "      <td>0</td>\n",
       "      <td>0</td>\n",
       "    </tr>\n",
       "    <tr>\n",
       "      <th>4547</th>\n",
       "      <td>0</td>\n",
       "      <td>0</td>\n",
       "      <td>2</td>\n",
       "      <td>0</td>\n",
       "      <td>0</td>\n",
       "      <td>...</td>\n",
       "      <td>0</td>\n",
       "      <td>0</td>\n",
       "      <td>0</td>\n",
       "      <td>0</td>\n",
       "      <td>0</td>\n",
       "    </tr>\n",
       "    <tr>\n",
       "      <th>4548</th>\n",
       "      <td>0</td>\n",
       "      <td>1</td>\n",
       "      <td>1</td>\n",
       "      <td>0</td>\n",
       "      <td>0</td>\n",
       "      <td>...</td>\n",
       "      <td>0</td>\n",
       "      <td>0</td>\n",
       "      <td>0</td>\n",
       "      <td>0</td>\n",
       "      <td>0</td>\n",
       "    </tr>\n",
       "    <tr>\n",
       "      <th>4549</th>\n",
       "      <td>0</td>\n",
       "      <td>0</td>\n",
       "      <td>2</td>\n",
       "      <td>0</td>\n",
       "      <td>0</td>\n",
       "      <td>...</td>\n",
       "      <td>0</td>\n",
       "      <td>0</td>\n",
       "      <td>0</td>\n",
       "      <td>0</td>\n",
       "      <td>0</td>\n",
       "    </tr>\n",
       "    <tr>\n",
       "      <th>4550</th>\n",
       "      <td>0</td>\n",
       "      <td>0</td>\n",
       "      <td>2</td>\n",
       "      <td>0</td>\n",
       "      <td>0</td>\n",
       "      <td>...</td>\n",
       "      <td>0</td>\n",
       "      <td>0</td>\n",
       "      <td>0</td>\n",
       "      <td>0</td>\n",
       "      <td>0</td>\n",
       "    </tr>\n",
       "    <tr>\n",
       "      <th>4551</th>\n",
       "      <td>0</td>\n",
       "      <td>0</td>\n",
       "      <td>1</td>\n",
       "      <td>0</td>\n",
       "      <td>0</td>\n",
       "      <td>...</td>\n",
       "      <td>0</td>\n",
       "      <td>0</td>\n",
       "      <td>0</td>\n",
       "      <td>0</td>\n",
       "      <td>0</td>\n",
       "    </tr>\n",
       "    <tr>\n",
       "      <th>4552</th>\n",
       "      <td>0</td>\n",
       "      <td>0</td>\n",
       "      <td>2</td>\n",
       "      <td>0</td>\n",
       "      <td>0</td>\n",
       "      <td>...</td>\n",
       "      <td>0</td>\n",
       "      <td>0</td>\n",
       "      <td>0</td>\n",
       "      <td>0</td>\n",
       "      <td>0</td>\n",
       "    </tr>\n",
       "    <tr>\n",
       "      <th>4553</th>\n",
       "      <td>1</td>\n",
       "      <td>0</td>\n",
       "      <td>1</td>\n",
       "      <td>0</td>\n",
       "      <td>0</td>\n",
       "      <td>...</td>\n",
       "      <td>0</td>\n",
       "      <td>0</td>\n",
       "      <td>0</td>\n",
       "      <td>0</td>\n",
       "      <td>0</td>\n",
       "    </tr>\n",
       "    <tr>\n",
       "      <th>4554</th>\n",
       "      <td>1</td>\n",
       "      <td>0</td>\n",
       "      <td>1</td>\n",
       "      <td>0</td>\n",
       "      <td>0</td>\n",
       "      <td>...</td>\n",
       "      <td>0</td>\n",
       "      <td>0</td>\n",
       "      <td>0</td>\n",
       "      <td>0</td>\n",
       "      <td>0</td>\n",
       "    </tr>\n",
       "    <tr>\n",
       "      <th>4555</th>\n",
       "      <td>0</td>\n",
       "      <td>0</td>\n",
       "      <td>2</td>\n",
       "      <td>0</td>\n",
       "      <td>0</td>\n",
       "      <td>...</td>\n",
       "      <td>0</td>\n",
       "      <td>0</td>\n",
       "      <td>0</td>\n",
       "      <td>0</td>\n",
       "      <td>0</td>\n",
       "    </tr>\n",
       "    <tr>\n",
       "      <th>4556</th>\n",
       "      <td>0</td>\n",
       "      <td>0</td>\n",
       "      <td>2</td>\n",
       "      <td>0</td>\n",
       "      <td>0</td>\n",
       "      <td>...</td>\n",
       "      <td>0</td>\n",
       "      <td>0</td>\n",
       "      <td>0</td>\n",
       "      <td>0</td>\n",
       "      <td>0</td>\n",
       "    </tr>\n",
       "    <tr>\n",
       "      <th>4557</th>\n",
       "      <td>0</td>\n",
       "      <td>0</td>\n",
       "      <td>1</td>\n",
       "      <td>0</td>\n",
       "      <td>0</td>\n",
       "      <td>...</td>\n",
       "      <td>0</td>\n",
       "      <td>0</td>\n",
       "      <td>0</td>\n",
       "      <td>0</td>\n",
       "      <td>0</td>\n",
       "    </tr>\n",
       "    <tr>\n",
       "      <th>4558</th>\n",
       "      <td>0</td>\n",
       "      <td>0</td>\n",
       "      <td>2</td>\n",
       "      <td>0</td>\n",
       "      <td>0</td>\n",
       "      <td>...</td>\n",
       "      <td>0</td>\n",
       "      <td>0</td>\n",
       "      <td>0</td>\n",
       "      <td>0</td>\n",
       "      <td>0</td>\n",
       "    </tr>\n",
       "    <tr>\n",
       "      <th>4559</th>\n",
       "      <td>1</td>\n",
       "      <td>1</td>\n",
       "      <td>0</td>\n",
       "      <td>0</td>\n",
       "      <td>0</td>\n",
       "      <td>...</td>\n",
       "      <td>0</td>\n",
       "      <td>0</td>\n",
       "      <td>0</td>\n",
       "      <td>0</td>\n",
       "      <td>0</td>\n",
       "    </tr>\n",
       "    <tr>\n",
       "      <th>4560</th>\n",
       "      <td>0</td>\n",
       "      <td>1</td>\n",
       "      <td>1</td>\n",
       "      <td>0</td>\n",
       "      <td>0</td>\n",
       "      <td>...</td>\n",
       "      <td>0</td>\n",
       "      <td>0</td>\n",
       "      <td>0</td>\n",
       "      <td>0</td>\n",
       "      <td>0</td>\n",
       "    </tr>\n",
       "    <tr>\n",
       "      <th>4561</th>\n",
       "      <td>1</td>\n",
       "      <td>0</td>\n",
       "      <td>1</td>\n",
       "      <td>0</td>\n",
       "      <td>0</td>\n",
       "      <td>...</td>\n",
       "      <td>0</td>\n",
       "      <td>0</td>\n",
       "      <td>0</td>\n",
       "      <td>0</td>\n",
       "      <td>0</td>\n",
       "    </tr>\n",
       "    <tr>\n",
       "      <th>4562</th>\n",
       "      <td>0</td>\n",
       "      <td>1</td>\n",
       "      <td>0</td>\n",
       "      <td>0</td>\n",
       "      <td>0</td>\n",
       "      <td>...</td>\n",
       "      <td>0</td>\n",
       "      <td>0</td>\n",
       "      <td>0</td>\n",
       "      <td>0</td>\n",
       "      <td>0</td>\n",
       "    </tr>\n",
       "    <tr>\n",
       "      <th>4563</th>\n",
       "      <td>1</td>\n",
       "      <td>0</td>\n",
       "      <td>0</td>\n",
       "      <td>1</td>\n",
       "      <td>0</td>\n",
       "      <td>...</td>\n",
       "      <td>0</td>\n",
       "      <td>0</td>\n",
       "      <td>0</td>\n",
       "      <td>0</td>\n",
       "      <td>0</td>\n",
       "    </tr>\n",
       "    <tr>\n",
       "      <th>4564</th>\n",
       "      <td>1</td>\n",
       "      <td>1</td>\n",
       "      <td>0</td>\n",
       "      <td>0</td>\n",
       "      <td>0</td>\n",
       "      <td>...</td>\n",
       "      <td>0</td>\n",
       "      <td>0</td>\n",
       "      <td>0</td>\n",
       "      <td>0</td>\n",
       "      <td>0</td>\n",
       "    </tr>\n",
       "    <tr>\n",
       "      <th>4565</th>\n",
       "      <td>1</td>\n",
       "      <td>1</td>\n",
       "      <td>0</td>\n",
       "      <td>0</td>\n",
       "      <td>0</td>\n",
       "      <td>...</td>\n",
       "      <td>0</td>\n",
       "      <td>0</td>\n",
       "      <td>0</td>\n",
       "      <td>0</td>\n",
       "      <td>0</td>\n",
       "    </tr>\n",
       "    <tr>\n",
       "      <th>4566</th>\n",
       "      <td>0</td>\n",
       "      <td>0</td>\n",
       "      <td>2</td>\n",
       "      <td>0</td>\n",
       "      <td>1</td>\n",
       "      <td>...</td>\n",
       "      <td>0</td>\n",
       "      <td>0</td>\n",
       "      <td>0</td>\n",
       "      <td>0</td>\n",
       "      <td>0</td>\n",
       "    </tr>\n",
       "    <tr>\n",
       "      <th>4567</th>\n",
       "      <td>0</td>\n",
       "      <td>0</td>\n",
       "      <td>2</td>\n",
       "      <td>1</td>\n",
       "      <td>1</td>\n",
       "      <td>...</td>\n",
       "      <td>0</td>\n",
       "      <td>0</td>\n",
       "      <td>0</td>\n",
       "      <td>0</td>\n",
       "      <td>0</td>\n",
       "    </tr>\n",
       "  </tbody>\n",
       "</table>\n",
       "<p>4568 rows × 2235 columns</p>\n",
       "</div>"
      ],
      "text/plain": [
       "      법  요리  만들기  가지  볶음  ...  로그  피오  설렁탕  습격  인기가요\n",
       "0     0   1    0   0   0  ...   0   0    0   0     0\n",
       "1     0   1    0   0   0  ...   0   0    0   0     0\n",
       "2     0   1    0   0   0  ...   0   0    0   0     0\n",
       "3     0   1    0   0   0  ...   0   0    0   0     0\n",
       "4     0   1    0   0   0  ...   0   0    0   0     0\n",
       "5     0   1    0   0   0  ...   0   0    0   0     0\n",
       "6     0   1    0   0   0  ...   0   0    0   0     0\n",
       "7     0   0    0   0   0  ...   0   0    0   0     0\n",
       "8     0   1    0   0   0  ...   0   0    0   0     0\n",
       "9     0   1    0   0   0  ...   0   0    0   0     0\n",
       "10    0   1    0   0   0  ...   0   0    0   0     0\n",
       "11    0   1    0   0   0  ...   0   0    0   0     0\n",
       "12    1   2    0   0   0  ...   0   0    0   0     0\n",
       "13    0   1    0   0   0  ...   0   0    0   0     0\n",
       "14    0   1    0   0   0  ...   0   0    0   0     0\n",
       "15    0   1    0   0   0  ...   0   0    0   0     0\n",
       "16    0   1    0   0   0  ...   0   0    0   0     0\n",
       "17    0   0    0   0   0  ...   0   0    0   0     0\n",
       "18    0   2    0   0   0  ...   0   0    0   0     0\n",
       "19    0   1    0   0   0  ...   0   0    0   0     0\n",
       "20    0   0    0   0   0  ...   0   0    0   0     0\n",
       "21    0   1    0   0   0  ...   0   0    0   0     0\n",
       "22    0   1    0   0   0  ...   0   0    0   0     0\n",
       "23    0   1    0   0   0  ...   0   0    0   0     0\n",
       "24    0   0    0   0   0  ...   0   0    0   0     0\n",
       "25    0   0    0   0   0  ...   0   0    0   0     0\n",
       "26    0   1    0   0   0  ...   0   0    0   0     0\n",
       "27    0   0    0   0   0  ...   0   0    0   0     0\n",
       "28    0   0    0   0   0  ...   0   0    0   0     0\n",
       "29    0   1    0   0   0  ...   0   0    0   0     0\n",
       "...  ..  ..  ...  ..  ..  ...  ..  ..  ...  ..   ...\n",
       "4538  1   1    0   0   0  ...   0   0    0   0     0\n",
       "4539  0   1    1   0   0  ...   0   0    0   0     0\n",
       "4540  0   1    1   0   0  ...   0   0    0   0     0\n",
       "4541  1   0    1   0   0  ...   0   0    0   0     0\n",
       "4542  1   1    0   0   0  ...   0   0    0   0     0\n",
       "4543  0   1    1   0   1  ...   0   0    0   0     0\n",
       "4544  0   0    1   0   0  ...   0   0    0   0     0\n",
       "4545  0   1    1   1   0  ...   0   0    0   0     0\n",
       "4546  0   1    1   0   0  ...   0   0    0   0     0\n",
       "4547  0   0    2   0   0  ...   0   0    0   0     0\n",
       "4548  0   1    1   0   0  ...   0   0    0   0     0\n",
       "4549  0   0    2   0   0  ...   0   0    0   0     0\n",
       "4550  0   0    2   0   0  ...   0   0    0   0     0\n",
       "4551  0   0    1   0   0  ...   0   0    0   0     0\n",
       "4552  0   0    2   0   0  ...   0   0    0   0     0\n",
       "4553  1   0    1   0   0  ...   0   0    0   0     0\n",
       "4554  1   0    1   0   0  ...   0   0    0   0     0\n",
       "4555  0   0    2   0   0  ...   0   0    0   0     0\n",
       "4556  0   0    2   0   0  ...   0   0    0   0     0\n",
       "4557  0   0    1   0   0  ...   0   0    0   0     0\n",
       "4558  0   0    2   0   0  ...   0   0    0   0     0\n",
       "4559  1   1    0   0   0  ...   0   0    0   0     0\n",
       "4560  0   1    1   0   0  ...   0   0    0   0     0\n",
       "4561  1   0    1   0   0  ...   0   0    0   0     0\n",
       "4562  0   1    0   0   0  ...   0   0    0   0     0\n",
       "4563  1   0    0   1   0  ...   0   0    0   0     0\n",
       "4564  1   1    0   0   0  ...   0   0    0   0     0\n",
       "4565  1   1    0   0   0  ...   0   0    0   0     0\n",
       "4566  0   0    2   0   1  ...   0   0    0   0     0\n",
       "4567  0   0    2   1   1  ...   0   0    0   0     0\n",
       "\n",
       "[4568 rows x 2235 columns]"
      ]
     },
     "execution_count": 18,
     "metadata": {},
     "output_type": "execute_result"
    }
   ],
   "source": [
    "N = len(df_most_freq2)\n",
    "result = []\n",
    "for i in range(N): # 각 문서에 대해서 아래 명령을 수행\n",
    "    result.append([])\n",
    "    d = df_most_freq2['clean_name_most_freq2'][i]\n",
    "    for j in range(len(total_word_list2)):\n",
    "        t = total_word_list2[j]        \n",
    "        result[-1].append(tf(t, d))\n",
    "\n",
    "tf_ = pd.DataFrame(result, columns = total_word_list2)\n",
    "tf_"
   ]
  },
  {
   "cell_type": "markdown",
   "metadata": {
    "hidden": true
   },
   "source": [
    "- IDF"
   ]
  },
  {
   "cell_type": "code",
   "execution_count": 19,
   "metadata": {
    "hidden": true
   },
   "outputs": [
    {
     "data": {
      "text/html": [
       "<div>\n",
       "<style scoped>\n",
       "    .dataframe tbody tr th:only-of-type {\n",
       "        vertical-align: middle;\n",
       "    }\n",
       "\n",
       "    .dataframe tbody tr th {\n",
       "        vertical-align: top;\n",
       "    }\n",
       "\n",
       "    .dataframe thead th {\n",
       "        text-align: right;\n",
       "    }\n",
       "</style>\n",
       "<table border=\"1\" class=\"dataframe\">\n",
       "  <thead>\n",
       "    <tr style=\"text-align: right;\">\n",
       "      <th></th>\n",
       "      <th>IDF</th>\n",
       "    </tr>\n",
       "  </thead>\n",
       "  <tbody>\n",
       "    <tr>\n",
       "      <th>법</th>\n",
       "      <td>1.735988</td>\n",
       "    </tr>\n",
       "    <tr>\n",
       "      <th>요리</th>\n",
       "      <td>2.218241</td>\n",
       "    </tr>\n",
       "    <tr>\n",
       "      <th>만들기</th>\n",
       "      <td>2.377097</td>\n",
       "    </tr>\n",
       "    <tr>\n",
       "      <th>가지</th>\n",
       "      <td>2.612700</td>\n",
       "    </tr>\n",
       "    <tr>\n",
       "      <th>볶음</th>\n",
       "      <td>2.683828</td>\n",
       "    </tr>\n",
       "    <tr>\n",
       "      <th>밥</th>\n",
       "      <td>2.308734</td>\n",
       "    </tr>\n",
       "    <tr>\n",
       "      <th>맛</th>\n",
       "      <td>2.489295</td>\n",
       "    </tr>\n",
       "    <tr>\n",
       "      <th>노하우</th>\n",
       "      <td>3.201084</td>\n",
       "    </tr>\n",
       "    <tr>\n",
       "      <th>무치</th>\n",
       "      <td>3.450097</td>\n",
       "    </tr>\n",
       "    <tr>\n",
       "      <th>쉬</th>\n",
       "      <td>3.416195</td>\n",
       "    </tr>\n",
       "    <tr>\n",
       "      <th>황금</th>\n",
       "      <td>3.478071</td>\n",
       "    </tr>\n",
       "    <tr>\n",
       "      <th>집</th>\n",
       "      <td>2.962999</td>\n",
       "    </tr>\n",
       "    <tr>\n",
       "      <th>치즈</th>\n",
       "      <td>3.590549</td>\n",
       "    </tr>\n",
       "    <tr>\n",
       "      <th>오늘</th>\n",
       "      <td>3.647707</td>\n",
       "    </tr>\n",
       "    <tr>\n",
       "      <th>김치</th>\n",
       "      <td>3.153831</td>\n",
       "    </tr>\n",
       "    <tr>\n",
       "      <th>라면</th>\n",
       "      <td>3.872954</td>\n",
       "    </tr>\n",
       "    <tr>\n",
       "      <th>감자</th>\n",
       "      <td>3.726350</td>\n",
       "    </tr>\n",
       "    <tr>\n",
       "      <th>반찬</th>\n",
       "      <td>3.690632</td>\n",
       "    </tr>\n",
       "    <tr>\n",
       "      <th>방법</th>\n",
       "      <td>3.782440</td>\n",
       "    </tr>\n",
       "    <tr>\n",
       "      <th>매콤</th>\n",
       "      <td>3.905042</td>\n",
       "    </tr>\n",
       "    <tr>\n",
       "      <th>손질</th>\n",
       "      <td>3.972483</td>\n",
       "    </tr>\n",
       "    <tr>\n",
       "      <th>전</th>\n",
       "      <td>2.893441</td>\n",
       "    </tr>\n",
       "    <tr>\n",
       "      <th>샐러드</th>\n",
       "      <td>4.044804</td>\n",
       "    </tr>\n",
       "    <tr>\n",
       "      <th>조림</th>\n",
       "      <td>3.582644</td>\n",
       "    </tr>\n",
       "    <tr>\n",
       "      <th>파스타</th>\n",
       "      <td>4.122766</td>\n",
       "    </tr>\n",
       "    <tr>\n",
       "      <th>수</th>\n",
       "      <td>2.518748</td>\n",
       "    </tr>\n",
       "    <tr>\n",
       "      <th>두부</th>\n",
       "      <td>3.894231</td>\n",
       "    </tr>\n",
       "    <tr>\n",
       "      <th>것</th>\n",
       "      <td>3.938194</td>\n",
       "    </tr>\n",
       "    <tr>\n",
       "      <th>닭</th>\n",
       "      <td>3.233874</td>\n",
       "    </tr>\n",
       "    <tr>\n",
       "      <th>음식</th>\n",
       "      <td>4.083025</td>\n",
       "    </tr>\n",
       "    <tr>\n",
       "      <th>...</th>\n",
       "      <td>...</td>\n",
       "    </tr>\n",
       "    <tr>\n",
       "      <th>최고봉</th>\n",
       "      <td>7.328218</td>\n",
       "    </tr>\n",
       "    <tr>\n",
       "      <th>종셋트</th>\n",
       "      <td>7.328218</td>\n",
       "    </tr>\n",
       "    <tr>\n",
       "      <th>해소</th>\n",
       "      <td>7.328218</td>\n",
       "    </tr>\n",
       "    <tr>\n",
       "      <th>여기저기</th>\n",
       "      <td>7.328218</td>\n",
       "    </tr>\n",
       "    <tr>\n",
       "      <th>전혀</th>\n",
       "      <td>7.328218</td>\n",
       "    </tr>\n",
       "    <tr>\n",
       "      <th>실제</th>\n",
       "      <td>7.328218</td>\n",
       "    </tr>\n",
       "    <tr>\n",
       "      <th>처리</th>\n",
       "      <td>7.328218</td>\n",
       "    </tr>\n",
       "    <tr>\n",
       "      <th>미소</th>\n",
       "      <td>7.328218</td>\n",
       "    </tr>\n",
       "    <tr>\n",
       "      <th>동지</th>\n",
       "      <td>7.328218</td>\n",
       "    </tr>\n",
       "    <tr>\n",
       "      <th>바람</th>\n",
       "      <td>7.328218</td>\n",
       "    </tr>\n",
       "    <tr>\n",
       "      <th>차슈</th>\n",
       "      <td>7.328218</td>\n",
       "    </tr>\n",
       "    <tr>\n",
       "      <th>반장</th>\n",
       "      <td>7.328218</td>\n",
       "    </tr>\n",
       "    <tr>\n",
       "      <th>강아지</th>\n",
       "      <td>7.733684</td>\n",
       "    </tr>\n",
       "    <tr>\n",
       "      <th>정복기</th>\n",
       "      <td>7.328218</td>\n",
       "    </tr>\n",
       "    <tr>\n",
       "      <th>성지</th>\n",
       "      <td>7.328218</td>\n",
       "    </tr>\n",
       "    <tr>\n",
       "      <th>은근</th>\n",
       "      <td>7.328218</td>\n",
       "    </tr>\n",
       "    <tr>\n",
       "      <th>붕어빵</th>\n",
       "      <td>7.328218</td>\n",
       "    </tr>\n",
       "    <tr>\n",
       "      <th>약식</th>\n",
       "      <td>7.328218</td>\n",
       "    </tr>\n",
       "    <tr>\n",
       "      <th>풀드</th>\n",
       "      <td>7.328218</td>\n",
       "    </tr>\n",
       "    <tr>\n",
       "      <th>겹살</th>\n",
       "      <td>4.366388</td>\n",
       "    </tr>\n",
       "    <tr>\n",
       "      <th>홈런</th>\n",
       "      <td>7.328218</td>\n",
       "    </tr>\n",
       "    <tr>\n",
       "      <th>자연인</th>\n",
       "      <td>7.328218</td>\n",
       "    </tr>\n",
       "    <tr>\n",
       "      <th>요트</th>\n",
       "      <td>7.328218</td>\n",
       "    </tr>\n",
       "    <tr>\n",
       "      <th>옷차림</th>\n",
       "      <td>7.328218</td>\n",
       "    </tr>\n",
       "    <tr>\n",
       "      <th>샌드</th>\n",
       "      <td>4.419498</td>\n",
       "    </tr>\n",
       "    <tr>\n",
       "      <th>로그</th>\n",
       "      <td>7.328218</td>\n",
       "    </tr>\n",
       "    <tr>\n",
       "      <th>피오</th>\n",
       "      <td>7.328218</td>\n",
       "    </tr>\n",
       "    <tr>\n",
       "      <th>설렁탕</th>\n",
       "      <td>7.328218</td>\n",
       "    </tr>\n",
       "    <tr>\n",
       "      <th>습격</th>\n",
       "      <td>7.328218</td>\n",
       "    </tr>\n",
       "    <tr>\n",
       "      <th>인기가요</th>\n",
       "      <td>7.328218</td>\n",
       "    </tr>\n",
       "  </tbody>\n",
       "</table>\n",
       "<p>2235 rows × 1 columns</p>\n",
       "</div>"
      ],
      "text/plain": [
       "           IDF\n",
       "법     1.735988\n",
       "요리    2.218241\n",
       "만들기   2.377097\n",
       "가지    2.612700\n",
       "볶음    2.683828\n",
       "밥     2.308734\n",
       "맛     2.489295\n",
       "노하우   3.201084\n",
       "무치    3.450097\n",
       "쉬     3.416195\n",
       "황금    3.478071\n",
       "집     2.962999\n",
       "치즈    3.590549\n",
       "오늘    3.647707\n",
       "김치    3.153831\n",
       "라면    3.872954\n",
       "감자    3.726350\n",
       "반찬    3.690632\n",
       "방법    3.782440\n",
       "매콤    3.905042\n",
       "손질    3.972483\n",
       "전     2.893441\n",
       "샐러드   4.044804\n",
       "조림    3.582644\n",
       "파스타   4.122766\n",
       "수     2.518748\n",
       "두부    3.894231\n",
       "것     3.938194\n",
       "닭     3.233874\n",
       "음식    4.083025\n",
       "...        ...\n",
       "최고봉   7.328218\n",
       "종셋트   7.328218\n",
       "해소    7.328218\n",
       "여기저기  7.328218\n",
       "전혀    7.328218\n",
       "실제    7.328218\n",
       "처리    7.328218\n",
       "미소    7.328218\n",
       "동지    7.328218\n",
       "바람    7.328218\n",
       "차슈    7.328218\n",
       "반장    7.328218\n",
       "강아지   7.733684\n",
       "정복기   7.328218\n",
       "성지    7.328218\n",
       "은근    7.328218\n",
       "붕어빵   7.328218\n",
       "약식    7.328218\n",
       "풀드    7.328218\n",
       "겹살    4.366388\n",
       "홈런    7.328218\n",
       "자연인   7.328218\n",
       "요트    7.328218\n",
       "옷차림   7.328218\n",
       "샌드    4.419498\n",
       "로그    7.328218\n",
       "피오    7.328218\n",
       "설렁탕   7.328218\n",
       "습격    7.328218\n",
       "인기가요  7.328218\n",
       "\n",
       "[2235 rows x 1 columns]"
      ]
     },
     "execution_count": 19,
     "metadata": {},
     "output_type": "execute_result"
    }
   ],
   "source": [
    "result = []\n",
    "for j in range(len(total_word_list2)):\n",
    "    d = df_most_freq2['clean_name_most_freq2']\n",
    "    t = total_word_list2[j]\n",
    "    result.append(idf(t,d))\n",
    "\n",
    "idf_ = pd.DataFrame(result, index = total_word_list2, columns = [\"IDF\"])\n",
    "idf_"
   ]
  },
  {
   "cell_type": "markdown",
   "metadata": {
    "hidden": true
   },
   "source": [
    "- TF-IDF"
   ]
  },
  {
   "cell_type": "code",
   "execution_count": 20,
   "metadata": {
    "hidden": true
   },
   "outputs": [
    {
     "data": {
      "text/html": [
       "<div>\n",
       "<style scoped>\n",
       "    .dataframe tbody tr th:only-of-type {\n",
       "        vertical-align: middle;\n",
       "    }\n",
       "\n",
       "    .dataframe tbody tr th {\n",
       "        vertical-align: top;\n",
       "    }\n",
       "\n",
       "    .dataframe thead th {\n",
       "        text-align: right;\n",
       "    }\n",
       "</style>\n",
       "<table border=\"1\" class=\"dataframe\">\n",
       "  <thead>\n",
       "    <tr style=\"text-align: right;\">\n",
       "      <th></th>\n",
       "      <th>법</th>\n",
       "      <th>요리</th>\n",
       "      <th>만들기</th>\n",
       "      <th>가지</th>\n",
       "      <th>볶음</th>\n",
       "      <th>...</th>\n",
       "      <th>로그</th>\n",
       "      <th>피오</th>\n",
       "      <th>설렁탕</th>\n",
       "      <th>습격</th>\n",
       "      <th>인기가요</th>\n",
       "    </tr>\n",
       "  </thead>\n",
       "  <tbody>\n",
       "    <tr>\n",
       "      <th>0</th>\n",
       "      <td>0.000000</td>\n",
       "      <td>8.426831</td>\n",
       "      <td>0.000000</td>\n",
       "      <td>0.000000</td>\n",
       "      <td>0.000000</td>\n",
       "      <td>...</td>\n",
       "      <td>0.0</td>\n",
       "      <td>0.0</td>\n",
       "      <td>0.0</td>\n",
       "      <td>0.0</td>\n",
       "      <td>0.0</td>\n",
       "    </tr>\n",
       "    <tr>\n",
       "      <th>1</th>\n",
       "      <td>0.000000</td>\n",
       "      <td>8.426831</td>\n",
       "      <td>0.000000</td>\n",
       "      <td>0.000000</td>\n",
       "      <td>0.000000</td>\n",
       "      <td>...</td>\n",
       "      <td>0.0</td>\n",
       "      <td>0.0</td>\n",
       "      <td>0.0</td>\n",
       "      <td>0.0</td>\n",
       "      <td>0.0</td>\n",
       "    </tr>\n",
       "    <tr>\n",
       "      <th>2</th>\n",
       "      <td>0.000000</td>\n",
       "      <td>8.426831</td>\n",
       "      <td>0.000000</td>\n",
       "      <td>0.000000</td>\n",
       "      <td>0.000000</td>\n",
       "      <td>...</td>\n",
       "      <td>0.0</td>\n",
       "      <td>0.0</td>\n",
       "      <td>0.0</td>\n",
       "      <td>0.0</td>\n",
       "      <td>0.0</td>\n",
       "    </tr>\n",
       "    <tr>\n",
       "      <th>3</th>\n",
       "      <td>0.000000</td>\n",
       "      <td>8.426831</td>\n",
       "      <td>0.000000</td>\n",
       "      <td>0.000000</td>\n",
       "      <td>0.000000</td>\n",
       "      <td>...</td>\n",
       "      <td>0.0</td>\n",
       "      <td>0.0</td>\n",
       "      <td>0.0</td>\n",
       "      <td>0.0</td>\n",
       "      <td>0.0</td>\n",
       "    </tr>\n",
       "    <tr>\n",
       "      <th>4</th>\n",
       "      <td>0.000000</td>\n",
       "      <td>8.426831</td>\n",
       "      <td>0.000000</td>\n",
       "      <td>0.000000</td>\n",
       "      <td>0.000000</td>\n",
       "      <td>...</td>\n",
       "      <td>0.0</td>\n",
       "      <td>0.0</td>\n",
       "      <td>0.0</td>\n",
       "      <td>0.0</td>\n",
       "      <td>0.0</td>\n",
       "    </tr>\n",
       "    <tr>\n",
       "      <th>5</th>\n",
       "      <td>0.000000</td>\n",
       "      <td>8.426831</td>\n",
       "      <td>0.000000</td>\n",
       "      <td>0.000000</td>\n",
       "      <td>0.000000</td>\n",
       "      <td>...</td>\n",
       "      <td>0.0</td>\n",
       "      <td>0.0</td>\n",
       "      <td>0.0</td>\n",
       "      <td>0.0</td>\n",
       "      <td>0.0</td>\n",
       "    </tr>\n",
       "    <tr>\n",
       "      <th>6</th>\n",
       "      <td>0.000000</td>\n",
       "      <td>8.426831</td>\n",
       "      <td>0.000000</td>\n",
       "      <td>0.000000</td>\n",
       "      <td>0.000000</td>\n",
       "      <td>...</td>\n",
       "      <td>0.0</td>\n",
       "      <td>0.0</td>\n",
       "      <td>0.0</td>\n",
       "      <td>0.0</td>\n",
       "      <td>0.0</td>\n",
       "    </tr>\n",
       "    <tr>\n",
       "      <th>7</th>\n",
       "      <td>0.000000</td>\n",
       "      <td>0.000000</td>\n",
       "      <td>0.000000</td>\n",
       "      <td>0.000000</td>\n",
       "      <td>0.000000</td>\n",
       "      <td>...</td>\n",
       "      <td>0.0</td>\n",
       "      <td>0.0</td>\n",
       "      <td>0.0</td>\n",
       "      <td>0.0</td>\n",
       "      <td>0.0</td>\n",
       "    </tr>\n",
       "    <tr>\n",
       "      <th>8</th>\n",
       "      <td>0.000000</td>\n",
       "      <td>8.426831</td>\n",
       "      <td>0.000000</td>\n",
       "      <td>0.000000</td>\n",
       "      <td>0.000000</td>\n",
       "      <td>...</td>\n",
       "      <td>0.0</td>\n",
       "      <td>0.0</td>\n",
       "      <td>0.0</td>\n",
       "      <td>0.0</td>\n",
       "      <td>0.0</td>\n",
       "    </tr>\n",
       "    <tr>\n",
       "      <th>9</th>\n",
       "      <td>0.000000</td>\n",
       "      <td>8.426831</td>\n",
       "      <td>0.000000</td>\n",
       "      <td>0.000000</td>\n",
       "      <td>0.000000</td>\n",
       "      <td>...</td>\n",
       "      <td>0.0</td>\n",
       "      <td>0.0</td>\n",
       "      <td>0.0</td>\n",
       "      <td>0.0</td>\n",
       "      <td>0.0</td>\n",
       "    </tr>\n",
       "    <tr>\n",
       "      <th>10</th>\n",
       "      <td>0.000000</td>\n",
       "      <td>8.426831</td>\n",
       "      <td>0.000000</td>\n",
       "      <td>0.000000</td>\n",
       "      <td>0.000000</td>\n",
       "      <td>...</td>\n",
       "      <td>0.0</td>\n",
       "      <td>0.0</td>\n",
       "      <td>0.0</td>\n",
       "      <td>0.0</td>\n",
       "      <td>0.0</td>\n",
       "    </tr>\n",
       "    <tr>\n",
       "      <th>11</th>\n",
       "      <td>0.000000</td>\n",
       "      <td>8.426831</td>\n",
       "      <td>0.000000</td>\n",
       "      <td>0.000000</td>\n",
       "      <td>0.000000</td>\n",
       "      <td>...</td>\n",
       "      <td>0.0</td>\n",
       "      <td>0.0</td>\n",
       "      <td>0.0</td>\n",
       "      <td>0.0</td>\n",
       "      <td>0.0</td>\n",
       "    </tr>\n",
       "    <tr>\n",
       "      <th>12</th>\n",
       "      <td>7.733684</td>\n",
       "      <td>16.853662</td>\n",
       "      <td>0.000000</td>\n",
       "      <td>0.000000</td>\n",
       "      <td>0.000000</td>\n",
       "      <td>...</td>\n",
       "      <td>0.0</td>\n",
       "      <td>0.0</td>\n",
       "      <td>0.0</td>\n",
       "      <td>0.0</td>\n",
       "      <td>0.0</td>\n",
       "    </tr>\n",
       "    <tr>\n",
       "      <th>13</th>\n",
       "      <td>0.000000</td>\n",
       "      <td>8.426831</td>\n",
       "      <td>0.000000</td>\n",
       "      <td>0.000000</td>\n",
       "      <td>0.000000</td>\n",
       "      <td>...</td>\n",
       "      <td>0.0</td>\n",
       "      <td>0.0</td>\n",
       "      <td>0.0</td>\n",
       "      <td>0.0</td>\n",
       "      <td>0.0</td>\n",
       "    </tr>\n",
       "    <tr>\n",
       "      <th>14</th>\n",
       "      <td>0.000000</td>\n",
       "      <td>8.426831</td>\n",
       "      <td>0.000000</td>\n",
       "      <td>0.000000</td>\n",
       "      <td>0.000000</td>\n",
       "      <td>...</td>\n",
       "      <td>0.0</td>\n",
       "      <td>0.0</td>\n",
       "      <td>0.0</td>\n",
       "      <td>0.0</td>\n",
       "      <td>0.0</td>\n",
       "    </tr>\n",
       "    <tr>\n",
       "      <th>15</th>\n",
       "      <td>0.000000</td>\n",
       "      <td>8.426831</td>\n",
       "      <td>0.000000</td>\n",
       "      <td>0.000000</td>\n",
       "      <td>0.000000</td>\n",
       "      <td>...</td>\n",
       "      <td>0.0</td>\n",
       "      <td>0.0</td>\n",
       "      <td>0.0</td>\n",
       "      <td>0.0</td>\n",
       "      <td>0.0</td>\n",
       "    </tr>\n",
       "    <tr>\n",
       "      <th>16</th>\n",
       "      <td>0.000000</td>\n",
       "      <td>8.426831</td>\n",
       "      <td>0.000000</td>\n",
       "      <td>0.000000</td>\n",
       "      <td>0.000000</td>\n",
       "      <td>...</td>\n",
       "      <td>0.0</td>\n",
       "      <td>0.0</td>\n",
       "      <td>0.0</td>\n",
       "      <td>0.0</td>\n",
       "      <td>0.0</td>\n",
       "    </tr>\n",
       "    <tr>\n",
       "      <th>17</th>\n",
       "      <td>0.000000</td>\n",
       "      <td>0.000000</td>\n",
       "      <td>0.000000</td>\n",
       "      <td>0.000000</td>\n",
       "      <td>0.000000</td>\n",
       "      <td>...</td>\n",
       "      <td>0.0</td>\n",
       "      <td>0.0</td>\n",
       "      <td>0.0</td>\n",
       "      <td>0.0</td>\n",
       "      <td>0.0</td>\n",
       "    </tr>\n",
       "    <tr>\n",
       "      <th>18</th>\n",
       "      <td>0.000000</td>\n",
       "      <td>16.853662</td>\n",
       "      <td>0.000000</td>\n",
       "      <td>0.000000</td>\n",
       "      <td>0.000000</td>\n",
       "      <td>...</td>\n",
       "      <td>0.0</td>\n",
       "      <td>0.0</td>\n",
       "      <td>0.0</td>\n",
       "      <td>0.0</td>\n",
       "      <td>0.0</td>\n",
       "    </tr>\n",
       "    <tr>\n",
       "      <th>19</th>\n",
       "      <td>0.000000</td>\n",
       "      <td>8.426831</td>\n",
       "      <td>0.000000</td>\n",
       "      <td>0.000000</td>\n",
       "      <td>0.000000</td>\n",
       "      <td>...</td>\n",
       "      <td>0.0</td>\n",
       "      <td>0.0</td>\n",
       "      <td>0.0</td>\n",
       "      <td>0.0</td>\n",
       "      <td>0.0</td>\n",
       "    </tr>\n",
       "    <tr>\n",
       "      <th>20</th>\n",
       "      <td>0.000000</td>\n",
       "      <td>0.000000</td>\n",
       "      <td>0.000000</td>\n",
       "      <td>0.000000</td>\n",
       "      <td>0.000000</td>\n",
       "      <td>...</td>\n",
       "      <td>0.0</td>\n",
       "      <td>0.0</td>\n",
       "      <td>0.0</td>\n",
       "      <td>0.0</td>\n",
       "      <td>0.0</td>\n",
       "    </tr>\n",
       "    <tr>\n",
       "      <th>21</th>\n",
       "      <td>0.000000</td>\n",
       "      <td>8.426831</td>\n",
       "      <td>0.000000</td>\n",
       "      <td>0.000000</td>\n",
       "      <td>0.000000</td>\n",
       "      <td>...</td>\n",
       "      <td>0.0</td>\n",
       "      <td>0.0</td>\n",
       "      <td>0.0</td>\n",
       "      <td>0.0</td>\n",
       "      <td>0.0</td>\n",
       "    </tr>\n",
       "    <tr>\n",
       "      <th>22</th>\n",
       "      <td>0.000000</td>\n",
       "      <td>8.426831</td>\n",
       "      <td>0.000000</td>\n",
       "      <td>0.000000</td>\n",
       "      <td>0.000000</td>\n",
       "      <td>...</td>\n",
       "      <td>0.0</td>\n",
       "      <td>0.0</td>\n",
       "      <td>0.0</td>\n",
       "      <td>0.0</td>\n",
       "      <td>0.0</td>\n",
       "    </tr>\n",
       "    <tr>\n",
       "      <th>23</th>\n",
       "      <td>0.000000</td>\n",
       "      <td>8.426831</td>\n",
       "      <td>0.000000</td>\n",
       "      <td>0.000000</td>\n",
       "      <td>0.000000</td>\n",
       "      <td>...</td>\n",
       "      <td>0.0</td>\n",
       "      <td>0.0</td>\n",
       "      <td>0.0</td>\n",
       "      <td>0.0</td>\n",
       "      <td>0.0</td>\n",
       "    </tr>\n",
       "    <tr>\n",
       "      <th>24</th>\n",
       "      <td>0.000000</td>\n",
       "      <td>0.000000</td>\n",
       "      <td>0.000000</td>\n",
       "      <td>0.000000</td>\n",
       "      <td>0.000000</td>\n",
       "      <td>...</td>\n",
       "      <td>0.0</td>\n",
       "      <td>0.0</td>\n",
       "      <td>0.0</td>\n",
       "      <td>0.0</td>\n",
       "      <td>0.0</td>\n",
       "    </tr>\n",
       "    <tr>\n",
       "      <th>25</th>\n",
       "      <td>0.000000</td>\n",
       "      <td>0.000000</td>\n",
       "      <td>0.000000</td>\n",
       "      <td>0.000000</td>\n",
       "      <td>0.000000</td>\n",
       "      <td>...</td>\n",
       "      <td>0.0</td>\n",
       "      <td>0.0</td>\n",
       "      <td>0.0</td>\n",
       "      <td>0.0</td>\n",
       "      <td>0.0</td>\n",
       "    </tr>\n",
       "    <tr>\n",
       "      <th>26</th>\n",
       "      <td>0.000000</td>\n",
       "      <td>8.426831</td>\n",
       "      <td>0.000000</td>\n",
       "      <td>0.000000</td>\n",
       "      <td>0.000000</td>\n",
       "      <td>...</td>\n",
       "      <td>0.0</td>\n",
       "      <td>0.0</td>\n",
       "      <td>0.0</td>\n",
       "      <td>0.0</td>\n",
       "      <td>0.0</td>\n",
       "    </tr>\n",
       "    <tr>\n",
       "      <th>27</th>\n",
       "      <td>0.000000</td>\n",
       "      <td>0.000000</td>\n",
       "      <td>0.000000</td>\n",
       "      <td>0.000000</td>\n",
       "      <td>0.000000</td>\n",
       "      <td>...</td>\n",
       "      <td>0.0</td>\n",
       "      <td>0.0</td>\n",
       "      <td>0.0</td>\n",
       "      <td>0.0</td>\n",
       "      <td>0.0</td>\n",
       "    </tr>\n",
       "    <tr>\n",
       "      <th>28</th>\n",
       "      <td>0.000000</td>\n",
       "      <td>0.000000</td>\n",
       "      <td>0.000000</td>\n",
       "      <td>0.000000</td>\n",
       "      <td>0.000000</td>\n",
       "      <td>...</td>\n",
       "      <td>0.0</td>\n",
       "      <td>0.0</td>\n",
       "      <td>0.0</td>\n",
       "      <td>0.0</td>\n",
       "      <td>0.0</td>\n",
       "    </tr>\n",
       "    <tr>\n",
       "      <th>29</th>\n",
       "      <td>0.000000</td>\n",
       "      <td>8.426831</td>\n",
       "      <td>0.000000</td>\n",
       "      <td>0.000000</td>\n",
       "      <td>0.000000</td>\n",
       "      <td>...</td>\n",
       "      <td>0.0</td>\n",
       "      <td>0.0</td>\n",
       "      <td>0.0</td>\n",
       "      <td>0.0</td>\n",
       "      <td>0.0</td>\n",
       "    </tr>\n",
       "    <tr>\n",
       "      <th>...</th>\n",
       "      <td>...</td>\n",
       "      <td>...</td>\n",
       "      <td>...</td>\n",
       "      <td>...</td>\n",
       "      <td>...</td>\n",
       "      <td>...</td>\n",
       "      <td>...</td>\n",
       "      <td>...</td>\n",
       "      <td>...</td>\n",
       "      <td>...</td>\n",
       "      <td>...</td>\n",
       "    </tr>\n",
       "    <tr>\n",
       "      <th>4538</th>\n",
       "      <td>7.733684</td>\n",
       "      <td>8.426831</td>\n",
       "      <td>0.000000</td>\n",
       "      <td>0.000000</td>\n",
       "      <td>0.000000</td>\n",
       "      <td>...</td>\n",
       "      <td>0.0</td>\n",
       "      <td>0.0</td>\n",
       "      <td>0.0</td>\n",
       "      <td>0.0</td>\n",
       "      <td>0.0</td>\n",
       "    </tr>\n",
       "    <tr>\n",
       "      <th>4539</th>\n",
       "      <td>0.000000</td>\n",
       "      <td>8.426831</td>\n",
       "      <td>8.426831</td>\n",
       "      <td>0.000000</td>\n",
       "      <td>0.000000</td>\n",
       "      <td>...</td>\n",
       "      <td>0.0</td>\n",
       "      <td>0.0</td>\n",
       "      <td>0.0</td>\n",
       "      <td>0.0</td>\n",
       "      <td>0.0</td>\n",
       "    </tr>\n",
       "    <tr>\n",
       "      <th>4540</th>\n",
       "      <td>0.000000</td>\n",
       "      <td>8.426831</td>\n",
       "      <td>8.426831</td>\n",
       "      <td>0.000000</td>\n",
       "      <td>0.000000</td>\n",
       "      <td>...</td>\n",
       "      <td>0.0</td>\n",
       "      <td>0.0</td>\n",
       "      <td>0.0</td>\n",
       "      <td>0.0</td>\n",
       "      <td>0.0</td>\n",
       "    </tr>\n",
       "    <tr>\n",
       "      <th>4541</th>\n",
       "      <td>7.733684</td>\n",
       "      <td>0.000000</td>\n",
       "      <td>8.426831</td>\n",
       "      <td>0.000000</td>\n",
       "      <td>0.000000</td>\n",
       "      <td>...</td>\n",
       "      <td>0.0</td>\n",
       "      <td>0.0</td>\n",
       "      <td>0.0</td>\n",
       "      <td>0.0</td>\n",
       "      <td>0.0</td>\n",
       "    </tr>\n",
       "    <tr>\n",
       "      <th>4542</th>\n",
       "      <td>7.733684</td>\n",
       "      <td>8.426831</td>\n",
       "      <td>0.000000</td>\n",
       "      <td>0.000000</td>\n",
       "      <td>0.000000</td>\n",
       "      <td>...</td>\n",
       "      <td>0.0</td>\n",
       "      <td>0.0</td>\n",
       "      <td>0.0</td>\n",
       "      <td>0.0</td>\n",
       "      <td>0.0</td>\n",
       "    </tr>\n",
       "    <tr>\n",
       "      <th>4543</th>\n",
       "      <td>0.000000</td>\n",
       "      <td>8.426831</td>\n",
       "      <td>8.426831</td>\n",
       "      <td>0.000000</td>\n",
       "      <td>8.426831</td>\n",
       "      <td>...</td>\n",
       "      <td>0.0</td>\n",
       "      <td>0.0</td>\n",
       "      <td>0.0</td>\n",
       "      <td>0.0</td>\n",
       "      <td>0.0</td>\n",
       "    </tr>\n",
       "    <tr>\n",
       "      <th>4544</th>\n",
       "      <td>0.000000</td>\n",
       "      <td>0.000000</td>\n",
       "      <td>8.426831</td>\n",
       "      <td>0.000000</td>\n",
       "      <td>0.000000</td>\n",
       "      <td>...</td>\n",
       "      <td>0.0</td>\n",
       "      <td>0.0</td>\n",
       "      <td>0.0</td>\n",
       "      <td>0.0</td>\n",
       "      <td>0.0</td>\n",
       "    </tr>\n",
       "    <tr>\n",
       "      <th>4545</th>\n",
       "      <td>0.000000</td>\n",
       "      <td>8.426831</td>\n",
       "      <td>8.426831</td>\n",
       "      <td>8.426831</td>\n",
       "      <td>0.000000</td>\n",
       "      <td>...</td>\n",
       "      <td>0.0</td>\n",
       "      <td>0.0</td>\n",
       "      <td>0.0</td>\n",
       "      <td>0.0</td>\n",
       "      <td>0.0</td>\n",
       "    </tr>\n",
       "    <tr>\n",
       "      <th>4546</th>\n",
       "      <td>0.000000</td>\n",
       "      <td>8.426831</td>\n",
       "      <td>8.426831</td>\n",
       "      <td>0.000000</td>\n",
       "      <td>0.000000</td>\n",
       "      <td>...</td>\n",
       "      <td>0.0</td>\n",
       "      <td>0.0</td>\n",
       "      <td>0.0</td>\n",
       "      <td>0.0</td>\n",
       "      <td>0.0</td>\n",
       "    </tr>\n",
       "    <tr>\n",
       "      <th>4547</th>\n",
       "      <td>0.000000</td>\n",
       "      <td>0.000000</td>\n",
       "      <td>16.853662</td>\n",
       "      <td>0.000000</td>\n",
       "      <td>0.000000</td>\n",
       "      <td>...</td>\n",
       "      <td>0.0</td>\n",
       "      <td>0.0</td>\n",
       "      <td>0.0</td>\n",
       "      <td>0.0</td>\n",
       "      <td>0.0</td>\n",
       "    </tr>\n",
       "    <tr>\n",
       "      <th>4548</th>\n",
       "      <td>0.000000</td>\n",
       "      <td>8.426831</td>\n",
       "      <td>8.426831</td>\n",
       "      <td>0.000000</td>\n",
       "      <td>0.000000</td>\n",
       "      <td>...</td>\n",
       "      <td>0.0</td>\n",
       "      <td>0.0</td>\n",
       "      <td>0.0</td>\n",
       "      <td>0.0</td>\n",
       "      <td>0.0</td>\n",
       "    </tr>\n",
       "    <tr>\n",
       "      <th>4549</th>\n",
       "      <td>0.000000</td>\n",
       "      <td>0.000000</td>\n",
       "      <td>16.853662</td>\n",
       "      <td>0.000000</td>\n",
       "      <td>0.000000</td>\n",
       "      <td>...</td>\n",
       "      <td>0.0</td>\n",
       "      <td>0.0</td>\n",
       "      <td>0.0</td>\n",
       "      <td>0.0</td>\n",
       "      <td>0.0</td>\n",
       "    </tr>\n",
       "    <tr>\n",
       "      <th>4550</th>\n",
       "      <td>0.000000</td>\n",
       "      <td>0.000000</td>\n",
       "      <td>16.853662</td>\n",
       "      <td>0.000000</td>\n",
       "      <td>0.000000</td>\n",
       "      <td>...</td>\n",
       "      <td>0.0</td>\n",
       "      <td>0.0</td>\n",
       "      <td>0.0</td>\n",
       "      <td>0.0</td>\n",
       "      <td>0.0</td>\n",
       "    </tr>\n",
       "    <tr>\n",
       "      <th>4551</th>\n",
       "      <td>0.000000</td>\n",
       "      <td>0.000000</td>\n",
       "      <td>8.426831</td>\n",
       "      <td>0.000000</td>\n",
       "      <td>0.000000</td>\n",
       "      <td>...</td>\n",
       "      <td>0.0</td>\n",
       "      <td>0.0</td>\n",
       "      <td>0.0</td>\n",
       "      <td>0.0</td>\n",
       "      <td>0.0</td>\n",
       "    </tr>\n",
       "    <tr>\n",
       "      <th>4552</th>\n",
       "      <td>0.000000</td>\n",
       "      <td>0.000000</td>\n",
       "      <td>16.853662</td>\n",
       "      <td>0.000000</td>\n",
       "      <td>0.000000</td>\n",
       "      <td>...</td>\n",
       "      <td>0.0</td>\n",
       "      <td>0.0</td>\n",
       "      <td>0.0</td>\n",
       "      <td>0.0</td>\n",
       "      <td>0.0</td>\n",
       "    </tr>\n",
       "    <tr>\n",
       "      <th>4553</th>\n",
       "      <td>7.733684</td>\n",
       "      <td>0.000000</td>\n",
       "      <td>8.426831</td>\n",
       "      <td>0.000000</td>\n",
       "      <td>0.000000</td>\n",
       "      <td>...</td>\n",
       "      <td>0.0</td>\n",
       "      <td>0.0</td>\n",
       "      <td>0.0</td>\n",
       "      <td>0.0</td>\n",
       "      <td>0.0</td>\n",
       "    </tr>\n",
       "    <tr>\n",
       "      <th>4554</th>\n",
       "      <td>7.733684</td>\n",
       "      <td>0.000000</td>\n",
       "      <td>8.426831</td>\n",
       "      <td>0.000000</td>\n",
       "      <td>0.000000</td>\n",
       "      <td>...</td>\n",
       "      <td>0.0</td>\n",
       "      <td>0.0</td>\n",
       "      <td>0.0</td>\n",
       "      <td>0.0</td>\n",
       "      <td>0.0</td>\n",
       "    </tr>\n",
       "    <tr>\n",
       "      <th>4555</th>\n",
       "      <td>0.000000</td>\n",
       "      <td>0.000000</td>\n",
       "      <td>16.853662</td>\n",
       "      <td>0.000000</td>\n",
       "      <td>0.000000</td>\n",
       "      <td>...</td>\n",
       "      <td>0.0</td>\n",
       "      <td>0.0</td>\n",
       "      <td>0.0</td>\n",
       "      <td>0.0</td>\n",
       "      <td>0.0</td>\n",
       "    </tr>\n",
       "    <tr>\n",
       "      <th>4556</th>\n",
       "      <td>0.000000</td>\n",
       "      <td>0.000000</td>\n",
       "      <td>16.853662</td>\n",
       "      <td>0.000000</td>\n",
       "      <td>0.000000</td>\n",
       "      <td>...</td>\n",
       "      <td>0.0</td>\n",
       "      <td>0.0</td>\n",
       "      <td>0.0</td>\n",
       "      <td>0.0</td>\n",
       "      <td>0.0</td>\n",
       "    </tr>\n",
       "    <tr>\n",
       "      <th>4557</th>\n",
       "      <td>0.000000</td>\n",
       "      <td>0.000000</td>\n",
       "      <td>8.426831</td>\n",
       "      <td>0.000000</td>\n",
       "      <td>0.000000</td>\n",
       "      <td>...</td>\n",
       "      <td>0.0</td>\n",
       "      <td>0.0</td>\n",
       "      <td>0.0</td>\n",
       "      <td>0.0</td>\n",
       "      <td>0.0</td>\n",
       "    </tr>\n",
       "    <tr>\n",
       "      <th>4558</th>\n",
       "      <td>0.000000</td>\n",
       "      <td>0.000000</td>\n",
       "      <td>16.853662</td>\n",
       "      <td>0.000000</td>\n",
       "      <td>0.000000</td>\n",
       "      <td>...</td>\n",
       "      <td>0.0</td>\n",
       "      <td>0.0</td>\n",
       "      <td>0.0</td>\n",
       "      <td>0.0</td>\n",
       "      <td>0.0</td>\n",
       "    </tr>\n",
       "    <tr>\n",
       "      <th>4559</th>\n",
       "      <td>7.733684</td>\n",
       "      <td>8.426831</td>\n",
       "      <td>0.000000</td>\n",
       "      <td>0.000000</td>\n",
       "      <td>0.000000</td>\n",
       "      <td>...</td>\n",
       "      <td>0.0</td>\n",
       "      <td>0.0</td>\n",
       "      <td>0.0</td>\n",
       "      <td>0.0</td>\n",
       "      <td>0.0</td>\n",
       "    </tr>\n",
       "    <tr>\n",
       "      <th>4560</th>\n",
       "      <td>0.000000</td>\n",
       "      <td>8.426831</td>\n",
       "      <td>8.426831</td>\n",
       "      <td>0.000000</td>\n",
       "      <td>0.000000</td>\n",
       "      <td>...</td>\n",
       "      <td>0.0</td>\n",
       "      <td>0.0</td>\n",
       "      <td>0.0</td>\n",
       "      <td>0.0</td>\n",
       "      <td>0.0</td>\n",
       "    </tr>\n",
       "    <tr>\n",
       "      <th>4561</th>\n",
       "      <td>7.733684</td>\n",
       "      <td>0.000000</td>\n",
       "      <td>8.426831</td>\n",
       "      <td>0.000000</td>\n",
       "      <td>0.000000</td>\n",
       "      <td>...</td>\n",
       "      <td>0.0</td>\n",
       "      <td>0.0</td>\n",
       "      <td>0.0</td>\n",
       "      <td>0.0</td>\n",
       "      <td>0.0</td>\n",
       "    </tr>\n",
       "    <tr>\n",
       "      <th>4562</th>\n",
       "      <td>0.000000</td>\n",
       "      <td>8.426831</td>\n",
       "      <td>0.000000</td>\n",
       "      <td>0.000000</td>\n",
       "      <td>0.000000</td>\n",
       "      <td>...</td>\n",
       "      <td>0.0</td>\n",
       "      <td>0.0</td>\n",
       "      <td>0.0</td>\n",
       "      <td>0.0</td>\n",
       "      <td>0.0</td>\n",
       "    </tr>\n",
       "    <tr>\n",
       "      <th>4563</th>\n",
       "      <td>7.733684</td>\n",
       "      <td>0.000000</td>\n",
       "      <td>0.000000</td>\n",
       "      <td>8.426831</td>\n",
       "      <td>0.000000</td>\n",
       "      <td>...</td>\n",
       "      <td>0.0</td>\n",
       "      <td>0.0</td>\n",
       "      <td>0.0</td>\n",
       "      <td>0.0</td>\n",
       "      <td>0.0</td>\n",
       "    </tr>\n",
       "    <tr>\n",
       "      <th>4564</th>\n",
       "      <td>7.733684</td>\n",
       "      <td>8.426831</td>\n",
       "      <td>0.000000</td>\n",
       "      <td>0.000000</td>\n",
       "      <td>0.000000</td>\n",
       "      <td>...</td>\n",
       "      <td>0.0</td>\n",
       "      <td>0.0</td>\n",
       "      <td>0.0</td>\n",
       "      <td>0.0</td>\n",
       "      <td>0.0</td>\n",
       "    </tr>\n",
       "    <tr>\n",
       "      <th>4565</th>\n",
       "      <td>7.733684</td>\n",
       "      <td>8.426831</td>\n",
       "      <td>0.000000</td>\n",
       "      <td>0.000000</td>\n",
       "      <td>0.000000</td>\n",
       "      <td>...</td>\n",
       "      <td>0.0</td>\n",
       "      <td>0.0</td>\n",
       "      <td>0.0</td>\n",
       "      <td>0.0</td>\n",
       "      <td>0.0</td>\n",
       "    </tr>\n",
       "    <tr>\n",
       "      <th>4566</th>\n",
       "      <td>0.000000</td>\n",
       "      <td>0.000000</td>\n",
       "      <td>16.853662</td>\n",
       "      <td>0.000000</td>\n",
       "      <td>8.426831</td>\n",
       "      <td>...</td>\n",
       "      <td>0.0</td>\n",
       "      <td>0.0</td>\n",
       "      <td>0.0</td>\n",
       "      <td>0.0</td>\n",
       "      <td>0.0</td>\n",
       "    </tr>\n",
       "    <tr>\n",
       "      <th>4567</th>\n",
       "      <td>0.000000</td>\n",
       "      <td>0.000000</td>\n",
       "      <td>16.853662</td>\n",
       "      <td>8.426831</td>\n",
       "      <td>8.426831</td>\n",
       "      <td>...</td>\n",
       "      <td>0.0</td>\n",
       "      <td>0.0</td>\n",
       "      <td>0.0</td>\n",
       "      <td>0.0</td>\n",
       "      <td>0.0</td>\n",
       "    </tr>\n",
       "  </tbody>\n",
       "</table>\n",
       "<p>4568 rows × 2235 columns</p>\n",
       "</div>"
      ],
      "text/plain": [
       "             법         요리        만들기        가지        볶음  ...   로그   피오  설렁탕  \\\n",
       "0     0.000000   8.426831   0.000000  0.000000  0.000000  ...  0.0  0.0  0.0   \n",
       "1     0.000000   8.426831   0.000000  0.000000  0.000000  ...  0.0  0.0  0.0   \n",
       "2     0.000000   8.426831   0.000000  0.000000  0.000000  ...  0.0  0.0  0.0   \n",
       "3     0.000000   8.426831   0.000000  0.000000  0.000000  ...  0.0  0.0  0.0   \n",
       "4     0.000000   8.426831   0.000000  0.000000  0.000000  ...  0.0  0.0  0.0   \n",
       "5     0.000000   8.426831   0.000000  0.000000  0.000000  ...  0.0  0.0  0.0   \n",
       "6     0.000000   8.426831   0.000000  0.000000  0.000000  ...  0.0  0.0  0.0   \n",
       "7     0.000000   0.000000   0.000000  0.000000  0.000000  ...  0.0  0.0  0.0   \n",
       "8     0.000000   8.426831   0.000000  0.000000  0.000000  ...  0.0  0.0  0.0   \n",
       "9     0.000000   8.426831   0.000000  0.000000  0.000000  ...  0.0  0.0  0.0   \n",
       "10    0.000000   8.426831   0.000000  0.000000  0.000000  ...  0.0  0.0  0.0   \n",
       "11    0.000000   8.426831   0.000000  0.000000  0.000000  ...  0.0  0.0  0.0   \n",
       "12    7.733684  16.853662   0.000000  0.000000  0.000000  ...  0.0  0.0  0.0   \n",
       "13    0.000000   8.426831   0.000000  0.000000  0.000000  ...  0.0  0.0  0.0   \n",
       "14    0.000000   8.426831   0.000000  0.000000  0.000000  ...  0.0  0.0  0.0   \n",
       "15    0.000000   8.426831   0.000000  0.000000  0.000000  ...  0.0  0.0  0.0   \n",
       "16    0.000000   8.426831   0.000000  0.000000  0.000000  ...  0.0  0.0  0.0   \n",
       "17    0.000000   0.000000   0.000000  0.000000  0.000000  ...  0.0  0.0  0.0   \n",
       "18    0.000000  16.853662   0.000000  0.000000  0.000000  ...  0.0  0.0  0.0   \n",
       "19    0.000000   8.426831   0.000000  0.000000  0.000000  ...  0.0  0.0  0.0   \n",
       "20    0.000000   0.000000   0.000000  0.000000  0.000000  ...  0.0  0.0  0.0   \n",
       "21    0.000000   8.426831   0.000000  0.000000  0.000000  ...  0.0  0.0  0.0   \n",
       "22    0.000000   8.426831   0.000000  0.000000  0.000000  ...  0.0  0.0  0.0   \n",
       "23    0.000000   8.426831   0.000000  0.000000  0.000000  ...  0.0  0.0  0.0   \n",
       "24    0.000000   0.000000   0.000000  0.000000  0.000000  ...  0.0  0.0  0.0   \n",
       "25    0.000000   0.000000   0.000000  0.000000  0.000000  ...  0.0  0.0  0.0   \n",
       "26    0.000000   8.426831   0.000000  0.000000  0.000000  ...  0.0  0.0  0.0   \n",
       "27    0.000000   0.000000   0.000000  0.000000  0.000000  ...  0.0  0.0  0.0   \n",
       "28    0.000000   0.000000   0.000000  0.000000  0.000000  ...  0.0  0.0  0.0   \n",
       "29    0.000000   8.426831   0.000000  0.000000  0.000000  ...  0.0  0.0  0.0   \n",
       "...        ...        ...        ...       ...       ...  ...  ...  ...  ...   \n",
       "4538  7.733684   8.426831   0.000000  0.000000  0.000000  ...  0.0  0.0  0.0   \n",
       "4539  0.000000   8.426831   8.426831  0.000000  0.000000  ...  0.0  0.0  0.0   \n",
       "4540  0.000000   8.426831   8.426831  0.000000  0.000000  ...  0.0  0.0  0.0   \n",
       "4541  7.733684   0.000000   8.426831  0.000000  0.000000  ...  0.0  0.0  0.0   \n",
       "4542  7.733684   8.426831   0.000000  0.000000  0.000000  ...  0.0  0.0  0.0   \n",
       "4543  0.000000   8.426831   8.426831  0.000000  8.426831  ...  0.0  0.0  0.0   \n",
       "4544  0.000000   0.000000   8.426831  0.000000  0.000000  ...  0.0  0.0  0.0   \n",
       "4545  0.000000   8.426831   8.426831  8.426831  0.000000  ...  0.0  0.0  0.0   \n",
       "4546  0.000000   8.426831   8.426831  0.000000  0.000000  ...  0.0  0.0  0.0   \n",
       "4547  0.000000   0.000000  16.853662  0.000000  0.000000  ...  0.0  0.0  0.0   \n",
       "4548  0.000000   8.426831   8.426831  0.000000  0.000000  ...  0.0  0.0  0.0   \n",
       "4549  0.000000   0.000000  16.853662  0.000000  0.000000  ...  0.0  0.0  0.0   \n",
       "4550  0.000000   0.000000  16.853662  0.000000  0.000000  ...  0.0  0.0  0.0   \n",
       "4551  0.000000   0.000000   8.426831  0.000000  0.000000  ...  0.0  0.0  0.0   \n",
       "4552  0.000000   0.000000  16.853662  0.000000  0.000000  ...  0.0  0.0  0.0   \n",
       "4553  7.733684   0.000000   8.426831  0.000000  0.000000  ...  0.0  0.0  0.0   \n",
       "4554  7.733684   0.000000   8.426831  0.000000  0.000000  ...  0.0  0.0  0.0   \n",
       "4555  0.000000   0.000000  16.853662  0.000000  0.000000  ...  0.0  0.0  0.0   \n",
       "4556  0.000000   0.000000  16.853662  0.000000  0.000000  ...  0.0  0.0  0.0   \n",
       "4557  0.000000   0.000000   8.426831  0.000000  0.000000  ...  0.0  0.0  0.0   \n",
       "4558  0.000000   0.000000  16.853662  0.000000  0.000000  ...  0.0  0.0  0.0   \n",
       "4559  7.733684   8.426831   0.000000  0.000000  0.000000  ...  0.0  0.0  0.0   \n",
       "4560  0.000000   8.426831   8.426831  0.000000  0.000000  ...  0.0  0.0  0.0   \n",
       "4561  7.733684   0.000000   8.426831  0.000000  0.000000  ...  0.0  0.0  0.0   \n",
       "4562  0.000000   8.426831   0.000000  0.000000  0.000000  ...  0.0  0.0  0.0   \n",
       "4563  7.733684   0.000000   0.000000  8.426831  0.000000  ...  0.0  0.0  0.0   \n",
       "4564  7.733684   8.426831   0.000000  0.000000  0.000000  ...  0.0  0.0  0.0   \n",
       "4565  7.733684   8.426831   0.000000  0.000000  0.000000  ...  0.0  0.0  0.0   \n",
       "4566  0.000000   0.000000  16.853662  0.000000  8.426831  ...  0.0  0.0  0.0   \n",
       "4567  0.000000   0.000000  16.853662  8.426831  8.426831  ...  0.0  0.0  0.0   \n",
       "\n",
       "       습격  인기가요  \n",
       "0     0.0   0.0  \n",
       "1     0.0   0.0  \n",
       "2     0.0   0.0  \n",
       "3     0.0   0.0  \n",
       "4     0.0   0.0  \n",
       "5     0.0   0.0  \n",
       "6     0.0   0.0  \n",
       "7     0.0   0.0  \n",
       "8     0.0   0.0  \n",
       "9     0.0   0.0  \n",
       "10    0.0   0.0  \n",
       "11    0.0   0.0  \n",
       "12    0.0   0.0  \n",
       "13    0.0   0.0  \n",
       "14    0.0   0.0  \n",
       "15    0.0   0.0  \n",
       "16    0.0   0.0  \n",
       "17    0.0   0.0  \n",
       "18    0.0   0.0  \n",
       "19    0.0   0.0  \n",
       "20    0.0   0.0  \n",
       "21    0.0   0.0  \n",
       "22    0.0   0.0  \n",
       "23    0.0   0.0  \n",
       "24    0.0   0.0  \n",
       "25    0.0   0.0  \n",
       "26    0.0   0.0  \n",
       "27    0.0   0.0  \n",
       "28    0.0   0.0  \n",
       "29    0.0   0.0  \n",
       "...   ...   ...  \n",
       "4538  0.0   0.0  \n",
       "4539  0.0   0.0  \n",
       "4540  0.0   0.0  \n",
       "4541  0.0   0.0  \n",
       "4542  0.0   0.0  \n",
       "4543  0.0   0.0  \n",
       "4544  0.0   0.0  \n",
       "4545  0.0   0.0  \n",
       "4546  0.0   0.0  \n",
       "4547  0.0   0.0  \n",
       "4548  0.0   0.0  \n",
       "4549  0.0   0.0  \n",
       "4550  0.0   0.0  \n",
       "4551  0.0   0.0  \n",
       "4552  0.0   0.0  \n",
       "4553  0.0   0.0  \n",
       "4554  0.0   0.0  \n",
       "4555  0.0   0.0  \n",
       "4556  0.0   0.0  \n",
       "4557  0.0   0.0  \n",
       "4558  0.0   0.0  \n",
       "4559  0.0   0.0  \n",
       "4560  0.0   0.0  \n",
       "4561  0.0   0.0  \n",
       "4562  0.0   0.0  \n",
       "4563  0.0   0.0  \n",
       "4564  0.0   0.0  \n",
       "4565  0.0   0.0  \n",
       "4566  0.0   0.0  \n",
       "4567  0.0   0.0  \n",
       "\n",
       "[4568 rows x 2235 columns]"
      ]
     },
     "execution_count": 20,
     "metadata": {},
     "output_type": "execute_result"
    }
   ],
   "source": [
    "N = len(df_most_freq2)\n",
    "result = []\n",
    "for i in range(N):\n",
    "    result.append([])\n",
    "    d = df_most_freq2['clean_name_most_freq2'][i]\n",
    "    for j in range(len(total_word_list2)):\n",
    "        t = total_word_list2[j]       \n",
    "        result[-1].append(tfidf(t,d))\n",
    "\n",
    "tfidf_ = pd.DataFrame(result, columns = total_word_list2)\n",
    "tfidf_"
   ]
  },
  {
   "cell_type": "code",
   "execution_count": 21,
   "metadata": {
    "hidden": true
   },
   "outputs": [
    {
     "data": {
      "text/plain": [
       "(4568, 2235)"
      ]
     },
     "execution_count": 21,
     "metadata": {},
     "output_type": "execute_result"
    },
    {
     "data": {
      "text/html": [
       "<div>\n",
       "<style scoped>\n",
       "    .dataframe tbody tr th:only-of-type {\n",
       "        vertical-align: middle;\n",
       "    }\n",
       "\n",
       "    .dataframe tbody tr th {\n",
       "        vertical-align: top;\n",
       "    }\n",
       "\n",
       "    .dataframe thead th {\n",
       "        text-align: right;\n",
       "    }\n",
       "</style>\n",
       "<table border=\"1\" class=\"dataframe\">\n",
       "  <thead>\n",
       "    <tr style=\"text-align: right;\">\n",
       "      <th></th>\n",
       "      <th>법</th>\n",
       "      <th>요리</th>\n",
       "      <th>만들기</th>\n",
       "      <th>가지</th>\n",
       "      <th>볶음</th>\n",
       "      <th>...</th>\n",
       "      <th>로그</th>\n",
       "      <th>피오</th>\n",
       "      <th>설렁탕</th>\n",
       "      <th>습격</th>\n",
       "      <th>인기가요</th>\n",
       "    </tr>\n",
       "  </thead>\n",
       "  <tbody>\n",
       "    <tr>\n",
       "      <th>0</th>\n",
       "      <td>0.0</td>\n",
       "      <td>8.426831</td>\n",
       "      <td>0.0</td>\n",
       "      <td>0.0</td>\n",
       "      <td>0.0</td>\n",
       "      <td>...</td>\n",
       "      <td>0.0</td>\n",
       "      <td>0.0</td>\n",
       "      <td>0.0</td>\n",
       "      <td>0.0</td>\n",
       "      <td>0.0</td>\n",
       "    </tr>\n",
       "    <tr>\n",
       "      <th>1</th>\n",
       "      <td>0.0</td>\n",
       "      <td>8.426831</td>\n",
       "      <td>0.0</td>\n",
       "      <td>0.0</td>\n",
       "      <td>0.0</td>\n",
       "      <td>...</td>\n",
       "      <td>0.0</td>\n",
       "      <td>0.0</td>\n",
       "      <td>0.0</td>\n",
       "      <td>0.0</td>\n",
       "      <td>0.0</td>\n",
       "    </tr>\n",
       "    <tr>\n",
       "      <th>2</th>\n",
       "      <td>0.0</td>\n",
       "      <td>8.426831</td>\n",
       "      <td>0.0</td>\n",
       "      <td>0.0</td>\n",
       "      <td>0.0</td>\n",
       "      <td>...</td>\n",
       "      <td>0.0</td>\n",
       "      <td>0.0</td>\n",
       "      <td>0.0</td>\n",
       "      <td>0.0</td>\n",
       "      <td>0.0</td>\n",
       "    </tr>\n",
       "    <tr>\n",
       "      <th>3</th>\n",
       "      <td>0.0</td>\n",
       "      <td>8.426831</td>\n",
       "      <td>0.0</td>\n",
       "      <td>0.0</td>\n",
       "      <td>0.0</td>\n",
       "      <td>...</td>\n",
       "      <td>0.0</td>\n",
       "      <td>0.0</td>\n",
       "      <td>0.0</td>\n",
       "      <td>0.0</td>\n",
       "      <td>0.0</td>\n",
       "    </tr>\n",
       "    <tr>\n",
       "      <th>4</th>\n",
       "      <td>0.0</td>\n",
       "      <td>8.426831</td>\n",
       "      <td>0.0</td>\n",
       "      <td>0.0</td>\n",
       "      <td>0.0</td>\n",
       "      <td>...</td>\n",
       "      <td>0.0</td>\n",
       "      <td>0.0</td>\n",
       "      <td>0.0</td>\n",
       "      <td>0.0</td>\n",
       "      <td>0.0</td>\n",
       "    </tr>\n",
       "  </tbody>\n",
       "</table>\n",
       "<p>5 rows × 2235 columns</p>\n",
       "</div>"
      ],
      "text/plain": [
       "     법        요리  만들기   가지   볶음  ...   로그   피오  설렁탕   습격  인기가요\n",
       "0  0.0  8.426831  0.0  0.0  0.0  ...  0.0  0.0  0.0  0.0   0.0\n",
       "1  0.0  8.426831  0.0  0.0  0.0  ...  0.0  0.0  0.0  0.0   0.0\n",
       "2  0.0  8.426831  0.0  0.0  0.0  ...  0.0  0.0  0.0  0.0   0.0\n",
       "3  0.0  8.426831  0.0  0.0  0.0  ...  0.0  0.0  0.0  0.0   0.0\n",
       "4  0.0  8.426831  0.0  0.0  0.0  ...  0.0  0.0  0.0  0.0   0.0\n",
       "\n",
       "[5 rows x 2235 columns]"
      ]
     },
     "execution_count": 21,
     "metadata": {},
     "output_type": "execute_result"
    },
    {
     "data": {
      "text/html": [
       "<div>\n",
       "<style scoped>\n",
       "    .dataframe tbody tr th:only-of-type {\n",
       "        vertical-align: middle;\n",
       "    }\n",
       "\n",
       "    .dataframe tbody tr th {\n",
       "        vertical-align: top;\n",
       "    }\n",
       "\n",
       "    .dataframe thead th {\n",
       "        text-align: right;\n",
       "    }\n",
       "</style>\n",
       "<table border=\"1\" class=\"dataframe\">\n",
       "  <thead>\n",
       "    <tr style=\"text-align: right;\">\n",
       "      <th></th>\n",
       "      <th>법</th>\n",
       "      <th>요리</th>\n",
       "      <th>만들기</th>\n",
       "      <th>가지</th>\n",
       "      <th>볶음</th>\n",
       "      <th>...</th>\n",
       "      <th>로그</th>\n",
       "      <th>피오</th>\n",
       "      <th>설렁탕</th>\n",
       "      <th>습격</th>\n",
       "      <th>인기가요</th>\n",
       "    </tr>\n",
       "  </thead>\n",
       "  <tbody>\n",
       "    <tr>\n",
       "      <th>4563</th>\n",
       "      <td>7.733684</td>\n",
       "      <td>0.000000</td>\n",
       "      <td>0.000000</td>\n",
       "      <td>8.426831</td>\n",
       "      <td>0.000000</td>\n",
       "      <td>...</td>\n",
       "      <td>0.0</td>\n",
       "      <td>0.0</td>\n",
       "      <td>0.0</td>\n",
       "      <td>0.0</td>\n",
       "      <td>0.0</td>\n",
       "    </tr>\n",
       "    <tr>\n",
       "      <th>4564</th>\n",
       "      <td>7.733684</td>\n",
       "      <td>8.426831</td>\n",
       "      <td>0.000000</td>\n",
       "      <td>0.000000</td>\n",
       "      <td>0.000000</td>\n",
       "      <td>...</td>\n",
       "      <td>0.0</td>\n",
       "      <td>0.0</td>\n",
       "      <td>0.0</td>\n",
       "      <td>0.0</td>\n",
       "      <td>0.0</td>\n",
       "    </tr>\n",
       "    <tr>\n",
       "      <th>4565</th>\n",
       "      <td>7.733684</td>\n",
       "      <td>8.426831</td>\n",
       "      <td>0.000000</td>\n",
       "      <td>0.000000</td>\n",
       "      <td>0.000000</td>\n",
       "      <td>...</td>\n",
       "      <td>0.0</td>\n",
       "      <td>0.0</td>\n",
       "      <td>0.0</td>\n",
       "      <td>0.0</td>\n",
       "      <td>0.0</td>\n",
       "    </tr>\n",
       "    <tr>\n",
       "      <th>4566</th>\n",
       "      <td>0.000000</td>\n",
       "      <td>0.000000</td>\n",
       "      <td>16.853662</td>\n",
       "      <td>0.000000</td>\n",
       "      <td>8.426831</td>\n",
       "      <td>...</td>\n",
       "      <td>0.0</td>\n",
       "      <td>0.0</td>\n",
       "      <td>0.0</td>\n",
       "      <td>0.0</td>\n",
       "      <td>0.0</td>\n",
       "    </tr>\n",
       "    <tr>\n",
       "      <th>4567</th>\n",
       "      <td>0.000000</td>\n",
       "      <td>0.000000</td>\n",
       "      <td>16.853662</td>\n",
       "      <td>8.426831</td>\n",
       "      <td>8.426831</td>\n",
       "      <td>...</td>\n",
       "      <td>0.0</td>\n",
       "      <td>0.0</td>\n",
       "      <td>0.0</td>\n",
       "      <td>0.0</td>\n",
       "      <td>0.0</td>\n",
       "    </tr>\n",
       "  </tbody>\n",
       "</table>\n",
       "<p>5 rows × 2235 columns</p>\n",
       "</div>"
      ],
      "text/plain": [
       "             법        요리        만들기        가지        볶음  ...   로그   피오  설렁탕  \\\n",
       "4563  7.733684  0.000000   0.000000  8.426831  0.000000  ...  0.0  0.0  0.0   \n",
       "4564  7.733684  8.426831   0.000000  0.000000  0.000000  ...  0.0  0.0  0.0   \n",
       "4565  7.733684  8.426831   0.000000  0.000000  0.000000  ...  0.0  0.0  0.0   \n",
       "4566  0.000000  0.000000  16.853662  0.000000  8.426831  ...  0.0  0.0  0.0   \n",
       "4567  0.000000  0.000000  16.853662  8.426831  8.426831  ...  0.0  0.0  0.0   \n",
       "\n",
       "       습격  인기가요  \n",
       "4563  0.0   0.0  \n",
       "4564  0.0   0.0  \n",
       "4565  0.0   0.0  \n",
       "4566  0.0   0.0  \n",
       "4567  0.0   0.0  \n",
       "\n",
       "[5 rows x 2235 columns]"
      ]
     },
     "execution_count": 21,
     "metadata": {},
     "output_type": "execute_result"
    }
   ],
   "source": [
    "tfidf_.shape\n",
    "tfidf_.head()\n",
    "tfidf_.tail()"
   ]
  },
  {
   "cell_type": "code",
   "execution_count": 71,
   "metadata": {
    "hidden": true
   },
   "outputs": [
    {
     "data": {
      "text/html": [
       "<div>\n",
       "<style scoped>\n",
       "    .dataframe tbody tr th:only-of-type {\n",
       "        vertical-align: middle;\n",
       "    }\n",
       "\n",
       "    .dataframe tbody tr th {\n",
       "        vertical-align: top;\n",
       "    }\n",
       "\n",
       "    .dataframe thead th {\n",
       "        text-align: right;\n",
       "    }\n",
       "</style>\n",
       "<table border=\"1\" class=\"dataframe\">\n",
       "  <thead>\n",
       "    <tr style=\"text-align: right;\">\n",
       "      <th></th>\n",
       "      <th>youtuber_id</th>\n",
       "      <th>subscribers</th>\n",
       "      <th>days_after_upload</th>\n",
       "      <th>clean_name_noun</th>\n",
       "      <th>hits</th>\n",
       "      <th>clean_name_most_freq2</th>\n",
       "      <th>name*weight</th>\n",
       "    </tr>\n",
       "  </thead>\n",
       "  <tbody>\n",
       "    <tr>\n",
       "      <th>4539</th>\n",
       "      <td>6</td>\n",
       "      <td>195000000</td>\n",
       "      <td>884</td>\n",
       "      <td>[카레, 요리, 얼, 칼칼, 고구마, 카레, 만들기]</td>\n",
       "      <td>86</td>\n",
       "      <td>카레 요리 얼 칼칼 고구마 카레 만들기</td>\n",
       "      <td>0.056178</td>\n",
       "    </tr>\n",
       "    <tr>\n",
       "      <th>2195</th>\n",
       "      <td>3</td>\n",
       "      <td>356000000</td>\n",
       "      <td>401</td>\n",
       "      <td>[그냥, 콘치, 소시지, 콘치]</td>\n",
       "      <td>57491</td>\n",
       "      <td>그냥 콘치 소시지 콘치</td>\n",
       "      <td>0.038821</td>\n",
       "    </tr>\n",
       "    <tr>\n",
       "      <th>4353</th>\n",
       "      <td>6</td>\n",
       "      <td>195000000</td>\n",
       "      <td>597</td>\n",
       "      <td>[쉬, 느타리버섯, 볶음, 법]</td>\n",
       "      <td>182960</td>\n",
       "      <td>쉬 느타리버섯 볶음 법</td>\n",
       "      <td>0.029105</td>\n",
       "    </tr>\n",
       "    <tr>\n",
       "      <th>1281</th>\n",
       "      <td>3</td>\n",
       "      <td>356000000</td>\n",
       "      <td>226</td>\n",
       "      <td>[흑임자, 소스, 연, 두부, 만남, 연, 두부, 샐러드]</td>\n",
       "      <td>1971</td>\n",
       "      <td>소스 연 두부 만남 연 두부 샐러드</td>\n",
       "      <td>0.042615</td>\n",
       "    </tr>\n",
       "    <tr>\n",
       "      <th>4067</th>\n",
       "      <td>6</td>\n",
       "      <td>195000000</td>\n",
       "      <td>15</td>\n",
       "      <td>[계란, 가지, 요리]</td>\n",
       "      <td>262820</td>\n",
       "      <td>계란 가지 요리</td>\n",
       "      <td>0.014552</td>\n",
       "    </tr>\n",
       "    <tr>\n",
       "      <th>4358</th>\n",
       "      <td>6</td>\n",
       "      <td>195000000</td>\n",
       "      <td>603</td>\n",
       "      <td>[건, 새우, 마늘, 볶음, 만들기, 마늘, 향, 솔솔, 짭쪼롬하, 게]</td>\n",
       "      <td>10432</td>\n",
       "      <td>건 새우 마늘 볶음 만들기 마늘 향 솔솔 짭쪼롬하 게</td>\n",
       "      <td>0.057845</td>\n",
       "    </tr>\n",
       "    <tr>\n",
       "      <th>4418</th>\n",
       "      <td>6</td>\n",
       "      <td>195000000</td>\n",
       "      <td>700</td>\n",
       "      <td>[법, 쉬]</td>\n",
       "      <td>93110</td>\n",
       "      <td>법 쉬</td>\n",
       "      <td>0.006964</td>\n",
       "    </tr>\n",
       "    <tr>\n",
       "      <th>1406</th>\n",
       "      <td>3</td>\n",
       "      <td>356000000</td>\n",
       "      <td>251</td>\n",
       "      <td>[영양, 만점, 생선, 조림, 부터, 국물, 반찬, 오늘, 식단]</td>\n",
       "      <td>3233</td>\n",
       "      <td>영양 만점 생선 조림 부터 국물 반찬 오늘 식단</td>\n",
       "      <td>0.072450</td>\n",
       "    </tr>\n",
       "    <tr>\n",
       "      <th>232</th>\n",
       "      <td>1</td>\n",
       "      <td>442000000</td>\n",
       "      <td>291</td>\n",
       "      <td>[냉동, 만두, 계, 그, 제품, 리뷰]</td>\n",
       "      <td>113564</td>\n",
       "      <td>냉동 만두 계 그 제품 리뷰</td>\n",
       "      <td>0.036069</td>\n",
       "    </tr>\n",
       "    <tr>\n",
       "      <th>3990</th>\n",
       "      <td>5</td>\n",
       "      <td>127000000</td>\n",
       "      <td>252</td>\n",
       "      <td>[지금, 부산, 가장, 핫, 뉴웨이브, 컨셉, 분식, 맛집]</td>\n",
       "      <td>2311</td>\n",
       "      <td>지금 부산 가장 핫 분식 맛집</td>\n",
       "      <td>0.043345</td>\n",
       "    </tr>\n",
       "    <tr>\n",
       "      <th>666</th>\n",
       "      <td>3</td>\n",
       "      <td>356000000</td>\n",
       "      <td>60</td>\n",
       "      <td>[냉동, 실, 식빵, 틈, 식빵]</td>\n",
       "      <td>12024</td>\n",
       "      <td>냉동 실 식빵 틈 식빵</td>\n",
       "      <td>0.035027</td>\n",
       "    </tr>\n",
       "    <tr>\n",
       "      <th>3175</th>\n",
       "      <td>3</td>\n",
       "      <td>356000000</td>\n",
       "      <td>634</td>\n",
       "      <td>[상큼, 토마토소스, 미역, 냉채]</td>\n",
       "      <td>528</td>\n",
       "      <td>상큼 토마토소스 미역 냉채</td>\n",
       "      <td>0.046774</td>\n",
       "    </tr>\n",
       "    <tr>\n",
       "      <th>853</th>\n",
       "      <td>3</td>\n",
       "      <td>356000000</td>\n",
       "      <td>117</td>\n",
       "      <td>[두부, 젓국, 찌개, 한식, 자격증, 실기, 시험, 시간, 분]</td>\n",
       "      <td>1440</td>\n",
       "      <td>두부 찌개 한식 자격증 실기 시험 시간 분</td>\n",
       "      <td>0.057533</td>\n",
       "    </tr>\n",
       "    <tr>\n",
       "      <th>3384</th>\n",
       "      <td>3</td>\n",
       "      <td>356000000</td>\n",
       "      <td>691</td>\n",
       "      <td>[친구, 모이, 때, 밀푀유, 나, 베]</td>\n",
       "      <td>3496</td>\n",
       "      <td>친구 모이 때 밀푀유 나 베</td>\n",
       "      <td>0.028481</td>\n",
       "    </tr>\n",
       "    <tr>\n",
       "      <th>346</th>\n",
       "      <td>1</td>\n",
       "      <td>442000000</td>\n",
       "      <td>478</td>\n",
       "      <td>[구, 독자, 명, 명, 명]</td>\n",
       "      <td>16121</td>\n",
       "      <td>구 독자 명 명 명</td>\n",
       "      <td>0.016786</td>\n",
       "    </tr>\n",
       "  </tbody>\n",
       "</table>\n",
       "</div>"
      ],
      "text/plain": [
       "     youtuber_id  subscribers  days_after_upload  \\\n",
       "4539           6    195000000                884   \n",
       "2195           3    356000000                401   \n",
       "4353           6    195000000                597   \n",
       "1281           3    356000000                226   \n",
       "4067           6    195000000                 15   \n",
       "4358           6    195000000                603   \n",
       "4418           6    195000000                700   \n",
       "1406           3    356000000                251   \n",
       "232            1    442000000                291   \n",
       "3990           5    127000000                252   \n",
       "666            3    356000000                 60   \n",
       "3175           3    356000000                634   \n",
       "853            3    356000000                117   \n",
       "3384           3    356000000                691   \n",
       "346            1    442000000                478   \n",
       "\n",
       "                               clean_name_noun    hits  \\\n",
       "4539             [카레, 요리, 얼, 칼칼, 고구마, 카레, 만들기]      86   \n",
       "2195                         [그냥, 콘치, 소시지, 콘치]   57491   \n",
       "4353                         [쉬, 느타리버섯, 볶음, 법]  182960   \n",
       "1281          [흑임자, 소스, 연, 두부, 만남, 연, 두부, 샐러드]    1971   \n",
       "4067                              [계란, 가지, 요리]  262820   \n",
       "4358  [건, 새우, 마늘, 볶음, 만들기, 마늘, 향, 솔솔, 짭쪼롬하, 게]   10432   \n",
       "4418                                    [법, 쉬]   93110   \n",
       "1406      [영양, 만점, 생선, 조림, 부터, 국물, 반찬, 오늘, 식단]    3233   \n",
       "232                     [냉동, 만두, 계, 그, 제품, 리뷰]  113564   \n",
       "3990         [지금, 부산, 가장, 핫, 뉴웨이브, 컨셉, 분식, 맛집]    2311   \n",
       "666                         [냉동, 실, 식빵, 틈, 식빵]   12024   \n",
       "3175                       [상큼, 토마토소스, 미역, 냉채]     528   \n",
       "853       [두부, 젓국, 찌개, 한식, 자격증, 실기, 시험, 시간, 분]    1440   \n",
       "3384                    [친구, 모이, 때, 밀푀유, 나, 베]    3496   \n",
       "346                           [구, 독자, 명, 명, 명]   16121   \n",
       "\n",
       "              clean_name_most_freq2  name*weight  \n",
       "4539          카레 요리 얼 칼칼 고구마 카레 만들기     0.056178  \n",
       "2195                   그냥 콘치 소시지 콘치     0.038821  \n",
       "4353                   쉬 느타리버섯 볶음 법     0.029105  \n",
       "1281            소스 연 두부 만남 연 두부 샐러드     0.042615  \n",
       "4067                       계란 가지 요리     0.014552  \n",
       "4358  건 새우 마늘 볶음 만들기 마늘 향 솔솔 짭쪼롬하 게     0.057845  \n",
       "4418                            법 쉬     0.006964  \n",
       "1406     영양 만점 생선 조림 부터 국물 반찬 오늘 식단     0.072450  \n",
       "232                 냉동 만두 계 그 제품 리뷰     0.036069  \n",
       "3990               지금 부산 가장 핫 분식 맛집     0.043345  \n",
       "666                    냉동 실 식빵 틈 식빵     0.035027  \n",
       "3175                 상큼 토마토소스 미역 냉채     0.046774  \n",
       "853         두부 찌개 한식 자격증 실기 시험 시간 분     0.057533  \n",
       "3384                친구 모이 때 밀푀유 나 베     0.028481  \n",
       "346                      구 독자 명 명 명     0.016786  "
      ]
     },
     "execution_count": 71,
     "metadata": {},
     "output_type": "execute_result"
    }
   ],
   "source": [
    "df.sample(15,random_state=3)"
   ]
  },
  {
   "cell_type": "markdown",
   "metadata": {
    "hidden": true
   },
   "source": [
    "### 2) TF-IDF 패키지 활용"
   ]
  },
  {
   "cell_type": "code",
   "execution_count": null,
   "metadata": {
    "hidden": true
   },
   "outputs": [],
   "source": [
    "from sklearn.feature_extraction.text import TfidfVectorizer"
   ]
  },
  {
   "cell_type": "code",
   "execution_count": null,
   "metadata": {
    "hidden": true
   },
   "outputs": [],
   "source": [
    "tfidfv = TfidfVectorizer().fit(df_most_freq2['clean_name_most_freq2'])\n",
    "tfidf_df = tfidfv.transform(df_most_freq2['clean_name_most_freq2']).toarray()\n",
    "tfidf_voca = tfidfv.vocabulary_\n",
    "tfidf_df\n",
    "# tfidf_voca"
   ]
  },
  {
   "cell_type": "markdown",
   "metadata": {
    "heading_collapsed": true
   },
   "source": [
    "# 동영상 제목으로부터 hits를 예측할 수는 최적화 weights 찾기"
   ]
  },
  {
   "cell_type": "code",
   "execution_count": 23,
   "metadata": {
    "hidden": true
   },
   "outputs": [],
   "source": [
    "import scipy.optimize as sco"
   ]
  },
  {
   "cell_type": "code",
   "execution_count": 24,
   "metadata": {
    "hidden": true
   },
   "outputs": [],
   "source": [
    "def __predict_hits__(weights): \n",
    "    weights = np.array(weights)\n",
    "    hits = np.array(df['hits'])\n",
    "    subscribers = np.array(df['subscribers'])\n",
    "    predict_hits = tfidf_ @ weights + subscribers\n",
    "    result = (hits-(predict_hits.values))\n",
    "    return result"
   ]
  },
  {
   "cell_type": "code",
   "execution_count": 25,
   "metadata": {
    "hidden": true
   },
   "outputs": [
    {
     "data": {
      "text/plain": [
       "array([4.50247641e-04, 4.98187559e-12, 4.50247636e-04, ...,\n",
       "       4.50247636e-04, 4.50247636e-04, 4.50247636e-04])"
      ]
     },
     "execution_count": 25,
     "metadata": {},
     "output_type": "execute_result"
    }
   ],
   "source": [
    "# Optimization 제약식\n",
    "cons = ({'type': 'eq', 'fun': lambda x: np.sum(x) - 1})\n",
    "bnds = tuple((0, 1) for x in range(len(tfidf_.columns))) \n",
    "\n",
    "def min_hits_differ(weights):\n",
    "    return -(__predict_hits__(weights)[0])\n",
    "\n",
    "opt = sco.minimize(min_hits_differ, len(tfidf_.columns)*[1./len(tfidf_.columns),], method='SLSQP', bounds=bnds, constraints=cons)\n",
    "opt['x'] # x = 최적화 해 = weights임 "
   ]
  },
  {
   "cell_type": "code",
   "execution_count": 26,
   "metadata": {
    "hidden": true
   },
   "outputs": [
    {
     "data": {
      "text/plain": [
       "array([4.50247641e-04, 4.98187559e-12, 4.50247636e-04, ...,\n",
       "       4.50247636e-04, 4.50247636e-04, 4.50247636e-04])"
      ]
     },
     "execution_count": 26,
     "metadata": {},
     "output_type": "execute_result"
    }
   ],
   "source": [
    "word_weight = opt['x']\n",
    "word_weight"
   ]
  },
  {
   "cell_type": "code",
   "execution_count": 27,
   "metadata": {
    "hidden": true
   },
   "outputs": [],
   "source": [
    "df['name*weight'] = tfidf_ @ word_weight"
   ]
  },
  {
   "cell_type": "code",
   "execution_count": 28,
   "metadata": {
    "hidden": true
   },
   "outputs": [],
   "source": [
    "df['youtuber_id'] = df['youtuber_id'].astype(str)"
   ]
  },
  {
   "cell_type": "markdown",
   "metadata": {},
   "source": [
    "# Modeling\n",
    " ① 다중회귀분석  \n",
    "② Gradient Boosting regressor  \n",
    "③ Lasso regressor   \n",
    "④ XGBoost  \n",
    "⑤ RandomForest  "
   ]
  },
  {
   "cell_type": "code",
   "execution_count": 30,
   "metadata": {},
   "outputs": [],
   "source": [
    "from datetime import datetime\n",
    "import os\n",
    "import pandas as pd\n",
    "import pandas_datareader.data as web\n",
    "import numpy as np\n",
    "import matplotlib as mpl \n",
    "import matplotlib.pyplot as plt\n",
    "from sklearn.model_selection import train_test_split\n",
    "\n",
    "%matplotlib notebook\n",
    "%matplotlib inline\n",
    "\n",
    "# 회귀분석에 필요한 패키지\n",
    "import statsmodels.api as sm"
   ]
  },
  {
   "cell_type": "markdown",
   "metadata": {},
   "source": [
    "## 다중회귀분석\n",
    "R-squared:\t0.315  \n",
    "Adj. R-squared:\t0.310"
   ]
  },
  {
   "cell_type": "markdown",
   "metadata": {},
   "source": [
    "- 데이터셋 나누기"
   ]
  },
  {
   "cell_type": "code",
   "execution_count": 31,
   "metadata": {},
   "outputs": [],
   "source": [
    "df_final = df.drop(['clean_name_noun','clean_name_most_freq2'],axis=1)\n",
    "# df_final['name*weight'] = df_final['name*weight'].apply(lambda x: x >= np.finfo(np.float32).max)\n",
    "# np.where(df_final['name*weight'].values >= np.finfo(np.float32).max)\n",
    "# df_final['name*weight'].replace([np.inf, -np.inf], np.nan, inplace=True) "
   ]
  },
  {
   "cell_type": "code",
   "execution_count": 32,
   "metadata": {},
   "outputs": [
    {
     "data": {
      "text/html": [
       "<div>\n",
       "<style scoped>\n",
       "    .dataframe tbody tr th:only-of-type {\n",
       "        vertical-align: middle;\n",
       "    }\n",
       "\n",
       "    .dataframe tbody tr th {\n",
       "        vertical-align: top;\n",
       "    }\n",
       "\n",
       "    .dataframe thead th {\n",
       "        text-align: right;\n",
       "    }\n",
       "</style>\n",
       "<table border=\"1\" class=\"dataframe\">\n",
       "  <thead>\n",
       "    <tr style=\"text-align: right;\">\n",
       "      <th></th>\n",
       "      <th>subscribers</th>\n",
       "      <th>days_after_upload</th>\n",
       "      <th>hits</th>\n",
       "      <th>name*weight</th>\n",
       "      <th>youtuber_id_0</th>\n",
       "      <th>...</th>\n",
       "      <th>youtuber_id_2</th>\n",
       "      <th>youtuber_id_3</th>\n",
       "      <th>youtuber_id_4</th>\n",
       "      <th>youtuber_id_5</th>\n",
       "      <th>youtuber_id_6</th>\n",
       "    </tr>\n",
       "  </thead>\n",
       "  <tbody>\n",
       "    <tr>\n",
       "      <th>0</th>\n",
       "      <td>556000000</td>\n",
       "      <td>9</td>\n",
       "      <td>245137</td>\n",
       "      <td>1.430516e-09</td>\n",
       "      <td>1</td>\n",
       "      <td>...</td>\n",
       "      <td>0</td>\n",
       "      <td>0</td>\n",
       "      <td>0</td>\n",
       "      <td>0</td>\n",
       "      <td>0</td>\n",
       "    </tr>\n",
       "    <tr>\n",
       "      <th>1</th>\n",
       "      <td>556000000</td>\n",
       "      <td>30</td>\n",
       "      <td>630196</td>\n",
       "      <td>2.531077e-02</td>\n",
       "      <td>1</td>\n",
       "      <td>...</td>\n",
       "      <td>0</td>\n",
       "      <td>0</td>\n",
       "      <td>0</td>\n",
       "      <td>0</td>\n",
       "      <td>0</td>\n",
       "    </tr>\n",
       "    <tr>\n",
       "      <th>2</th>\n",
       "      <td>556000000</td>\n",
       "      <td>43</td>\n",
       "      <td>160997</td>\n",
       "      <td>2.151661e-02</td>\n",
       "      <td>1</td>\n",
       "      <td>...</td>\n",
       "      <td>0</td>\n",
       "      <td>0</td>\n",
       "      <td>0</td>\n",
       "      <td>0</td>\n",
       "      <td>0</td>\n",
       "    </tr>\n",
       "    <tr>\n",
       "      <th>3</th>\n",
       "      <td>556000000</td>\n",
       "      <td>59</td>\n",
       "      <td>1962881</td>\n",
       "      <td>9.316933e-10</td>\n",
       "      <td>1</td>\n",
       "      <td>...</td>\n",
       "      <td>0</td>\n",
       "      <td>0</td>\n",
       "      <td>0</td>\n",
       "      <td>0</td>\n",
       "      <td>0</td>\n",
       "    </tr>\n",
       "    <tr>\n",
       "      <th>4</th>\n",
       "      <td>556000000</td>\n",
       "      <td>71</td>\n",
       "      <td>720225</td>\n",
       "      <td>2.879285e-02</td>\n",
       "      <td>1</td>\n",
       "      <td>...</td>\n",
       "      <td>0</td>\n",
       "      <td>0</td>\n",
       "      <td>0</td>\n",
       "      <td>0</td>\n",
       "      <td>0</td>\n",
       "    </tr>\n",
       "  </tbody>\n",
       "</table>\n",
       "<p>5 rows × 11 columns</p>\n",
       "</div>"
      ],
      "text/plain": [
       "   subscribers  days_after_upload     hits   name*weight  youtuber_id_0  ...  \\\n",
       "0    556000000                  9   245137  1.430516e-09              1  ...   \n",
       "1    556000000                 30   630196  2.531077e-02              1  ...   \n",
       "2    556000000                 43   160997  2.151661e-02              1  ...   \n",
       "3    556000000                 59  1962881  9.316933e-10              1  ...   \n",
       "4    556000000                 71   720225  2.879285e-02              1  ...   \n",
       "\n",
       "   youtuber_id_2  youtuber_id_3  youtuber_id_4  youtuber_id_5  youtuber_id_6  \n",
       "0              0              0              0              0              0  \n",
       "1              0              0              0              0              0  \n",
       "2              0              0              0              0              0  \n",
       "3              0              0              0              0              0  \n",
       "4              0              0              0              0              0  \n",
       "\n",
       "[5 rows x 11 columns]"
      ]
     },
     "execution_count": 32,
     "metadata": {},
     "output_type": "execute_result"
    }
   ],
   "source": [
    "df_with_dummies = pd.get_dummies(df_final) \n",
    "df_with_dummies.head()"
   ]
  },
  {
   "cell_type": "code",
   "execution_count": 33,
   "metadata": {},
   "outputs": [
    {
     "name": "stderr",
     "output_type": "stream",
     "text": [
      "C:\\Users\\LG\\Anaconda3\\lib\\site-packages\\numpy\\core\\fromnumeric.py:2389: FutureWarning: Method .ptp is deprecated and will be removed in a future version. Use numpy.ptp instead.\n",
      "  return ptp(axis=axis, out=out, **kwargs)\n"
     ]
    }
   ],
   "source": [
    "X = df_with_dummies.drop(['hits'],axis=1)\n",
    "y = df_with_dummies['hits']\n",
    "X = sm.add_constant(X)\n",
    "X_train, X_test, y_train, y_test = train_test_split(X, y, test_size=0.2, random_state=42)"
   ]
  },
  {
   "cell_type": "code",
   "execution_count": 34,
   "metadata": {},
   "outputs": [
    {
     "data": {
      "text/plain": [
       "Index(['const', 'subscribers', 'days_after_upload', 'youtuber_id_0',\n",
       "       'youtuber_id_1', 'youtuber_id_2', 'youtuber_id_3', 'youtuber_id_4',\n",
       "       'youtuber_id_5', 'youtuber_id_6'],\n",
       "      dtype='object')"
      ]
     },
     "execution_count": 34,
     "metadata": {},
     "output_type": "execute_result"
    }
   ],
   "source": [
    "X.columns"
   ]
  },
  {
   "cell_type": "code",
   "execution_count": 35,
   "metadata": {},
   "outputs": [
    {
     "data": {
      "text/html": [
       "<div>\n",
       "<style scoped>\n",
       "    .dataframe tbody tr th:only-of-type {\n",
       "        vertical-align: middle;\n",
       "    }\n",
       "\n",
       "    .dataframe tbody tr th {\n",
       "        vertical-align: top;\n",
       "    }\n",
       "\n",
       "    .dataframe thead th {\n",
       "        text-align: right;\n",
       "    }\n",
       "</style>\n",
       "<table border=\"1\" class=\"dataframe\">\n",
       "  <thead>\n",
       "    <tr style=\"text-align: right;\">\n",
       "      <th></th>\n",
       "      <th>const</th>\n",
       "      <th>subscribers</th>\n",
       "      <th>days_after_upload</th>\n",
       "      <th>youtuber_id_0</th>\n",
       "      <th>youtuber_id_1</th>\n",
       "      <th>youtuber_id_2</th>\n",
       "      <th>youtuber_id_3</th>\n",
       "      <th>youtuber_id_4</th>\n",
       "      <th>youtuber_id_5</th>\n",
       "      <th>youtuber_id_6</th>\n",
       "    </tr>\n",
       "  </thead>\n",
       "  <tbody>\n",
       "    <tr>\n",
       "      <th>783</th>\n",
       "      <td>1.0</td>\n",
       "      <td>356000000</td>\n",
       "      <td>97</td>\n",
       "      <td>0</td>\n",
       "      <td>0</td>\n",
       "      <td>0</td>\n",
       "      <td>1</td>\n",
       "      <td>0</td>\n",
       "      <td>0</td>\n",
       "      <td>0</td>\n",
       "    </tr>\n",
       "    <tr>\n",
       "      <th>1572</th>\n",
       "      <td>1.0</td>\n",
       "      <td>356000000</td>\n",
       "      <td>281</td>\n",
       "      <td>0</td>\n",
       "      <td>0</td>\n",
       "      <td>0</td>\n",
       "      <td>1</td>\n",
       "      <td>0</td>\n",
       "      <td>0</td>\n",
       "      <td>0</td>\n",
       "    </tr>\n",
       "    <tr>\n",
       "      <th>3163</th>\n",
       "      <td>1.0</td>\n",
       "      <td>356000000</td>\n",
       "      <td>632</td>\n",
       "      <td>0</td>\n",
       "      <td>0</td>\n",
       "      <td>0</td>\n",
       "      <td>1</td>\n",
       "      <td>0</td>\n",
       "      <td>0</td>\n",
       "      <td>0</td>\n",
       "    </tr>\n",
       "    <tr>\n",
       "      <th>3159</th>\n",
       "      <td>1.0</td>\n",
       "      <td>356000000</td>\n",
       "      <td>631</td>\n",
       "      <td>0</td>\n",
       "      <td>0</td>\n",
       "      <td>0</td>\n",
       "      <td>1</td>\n",
       "      <td>0</td>\n",
       "      <td>0</td>\n",
       "      <td>0</td>\n",
       "    </tr>\n",
       "    <tr>\n",
       "      <th>1268</th>\n",
       "      <td>1.0</td>\n",
       "      <td>356000000</td>\n",
       "      <td>223</td>\n",
       "      <td>0</td>\n",
       "      <td>0</td>\n",
       "      <td>0</td>\n",
       "      <td>1</td>\n",
       "      <td>0</td>\n",
       "      <td>0</td>\n",
       "      <td>0</td>\n",
       "    </tr>\n",
       "  </tbody>\n",
       "</table>\n",
       "</div>"
      ],
      "text/plain": [
       "      const  subscribers  days_after_upload  youtuber_id_0  youtuber_id_1  \\\n",
       "783     1.0    356000000                 97              0              0   \n",
       "1572    1.0    356000000                281              0              0   \n",
       "3163    1.0    356000000                632              0              0   \n",
       "3159    1.0    356000000                631              0              0   \n",
       "1268    1.0    356000000                223              0              0   \n",
       "\n",
       "      youtuber_id_2  youtuber_id_3  youtuber_id_4  youtuber_id_5  \\\n",
       "783               0              1              0              0   \n",
       "1572              0              1              0              0   \n",
       "3163              0              1              0              0   \n",
       "3159              0              1              0              0   \n",
       "1268              0              1              0              0   \n",
       "\n",
       "      youtuber_id_6  \n",
       "783               0  \n",
       "1572              0  \n",
       "3163              0  \n",
       "3159              0  \n",
       "1268              0  "
      ]
     },
     "execution_count": 35,
     "metadata": {},
     "output_type": "execute_result"
    },
    {
     "data": {
      "text/plain": [
       "783      3550\n",
       "1572     1702\n",
       "3163    62101\n",
       "3159      602\n",
       "1268     1475\n",
       "Name: hits, dtype: int64"
      ]
     },
     "execution_count": 35,
     "metadata": {},
     "output_type": "execute_result"
    }
   ],
   "source": [
    "X_train.head()\n",
    "y_train.head()"
   ]
  },
  {
   "cell_type": "code",
   "execution_count": 36,
   "metadata": {},
   "outputs": [
    {
     "data": {
      "text/html": [
       "<table class=\"simpletable\">\n",
       "<caption>OLS Regression Results</caption>\n",
       "<tr>\n",
       "  <th>Dep. Variable:</th>          <td>hits</td>       <th>  R-squared:         </th> <td>   0.297</td> \n",
       "</tr>\n",
       "<tr>\n",
       "  <th>Model:</th>                   <td>OLS</td>       <th>  Adj. R-squared:    </th> <td>   0.296</td> \n",
       "</tr>\n",
       "<tr>\n",
       "  <th>Method:</th>             <td>Least Squares</td>  <th>  F-statistic:       </th> <td>   220.5</td> \n",
       "</tr>\n",
       "<tr>\n",
       "  <th>Date:</th>             <td>Sun, 05 Apr 2020</td> <th>  Prob (F-statistic):</th> <td>6.91e-274</td>\n",
       "</tr>\n",
       "<tr>\n",
       "  <th>Time:</th>                 <td>05:09:54</td>     <th>  Log-Likelihood:    </th> <td> -49469.</td> \n",
       "</tr>\n",
       "<tr>\n",
       "  <th>No. Observations:</th>      <td>  3654</td>      <th>  AIC:               </th> <td>9.895e+04</td>\n",
       "</tr>\n",
       "<tr>\n",
       "  <th>Df Residuals:</th>          <td>  3646</td>      <th>  BIC:               </th> <td>9.900e+04</td>\n",
       "</tr>\n",
       "<tr>\n",
       "  <th>Df Model:</th>              <td>     7</td>      <th>                     </th>     <td> </td>    \n",
       "</tr>\n",
       "<tr>\n",
       "  <th>Covariance Type:</th>      <td>nonrobust</td>    <th>                     </th>     <td> </td>    \n",
       "</tr>\n",
       "</table>\n",
       "<table class=\"simpletable\">\n",
       "<tr>\n",
       "          <td></td>             <th>coef</th>     <th>std err</th>      <th>t</th>      <th>P>|t|</th>  <th>[0.025</th>    <th>0.975]</th>  \n",
       "</tr>\n",
       "<tr>\n",
       "  <th>const</th>             <td>  -1.3e+05</td> <td> 8314.769</td> <td>  -15.630</td> <td> 0.000</td> <td>-1.46e+05</td> <td>-1.14e+05</td>\n",
       "</tr>\n",
       "<tr>\n",
       "  <th>subscribers</th>       <td>    0.0011</td> <td> 3.26e-05</td> <td>   33.830</td> <td> 0.000</td> <td>    0.001</td> <td>    0.001</td>\n",
       "</tr>\n",
       "<tr>\n",
       "  <th>days_after_upload</th> <td>   22.6051</td> <td>   14.825</td> <td>    1.525</td> <td> 0.127</td> <td>   -6.461</td> <td>   51.671</td>\n",
       "</tr>\n",
       "<tr>\n",
       "  <th>youtuber_id_0</th>     <td> 2.249e+05</td> <td> 2.36e+04</td> <td>    9.533</td> <td> 0.000</td> <td> 1.79e+05</td> <td> 2.71e+05</td>\n",
       "</tr>\n",
       "<tr>\n",
       "  <th>youtuber_id_1</th>     <td>-2.142e+05</td> <td> 1.24e+04</td> <td>  -17.233</td> <td> 0.000</td> <td>-2.39e+05</td> <td> -1.9e+05</td>\n",
       "</tr>\n",
       "<tr>\n",
       "  <th>youtuber_id_2</th>     <td>  1.51e+05</td> <td> 1.83e+04</td> <td>    8.259</td> <td> 0.000</td> <td> 1.15e+05</td> <td> 1.87e+05</td>\n",
       "</tr>\n",
       "<tr>\n",
       "  <th>youtuber_id_3</th>     <td>-2.587e+05</td> <td> 7140.641</td> <td>  -36.225</td> <td> 0.000</td> <td>-2.73e+05</td> <td>-2.45e+05</td>\n",
       "</tr>\n",
       "<tr>\n",
       "  <th>youtuber_id_4</th>     <td>-1.051e+05</td> <td> 1.14e+04</td> <td>   -9.209</td> <td> 0.000</td> <td>-1.27e+05</td> <td>-8.27e+04</td>\n",
       "</tr>\n",
       "<tr>\n",
       "  <th>youtuber_id_5</th>     <td> 8.878e+04</td> <td> 1.07e+04</td> <td>    8.295</td> <td> 0.000</td> <td> 6.78e+04</td> <td>  1.1e+05</td>\n",
       "</tr>\n",
       "<tr>\n",
       "  <th>youtuber_id_6</th>     <td>-1.667e+04</td> <td> 8930.155</td> <td>   -1.866</td> <td> 0.062</td> <td>-3.42e+04</td> <td>  840.918</td>\n",
       "</tr>\n",
       "</table>\n",
       "<table class=\"simpletable\">\n",
       "<tr>\n",
       "  <th>Omnibus:</th>       <td>5098.013</td> <th>  Durbin-Watson:     </th>  <td>   2.035</td>  \n",
       "</tr>\n",
       "<tr>\n",
       "  <th>Prob(Omnibus):</th>  <td> 0.000</td>  <th>  Jarque-Bera (JB):  </th> <td>1539869.267</td>\n",
       "</tr>\n",
       "<tr>\n",
       "  <th>Skew:</th>           <td> 8.061</td>  <th>  Prob(JB):          </th>  <td>    0.00</td>  \n",
       "</tr>\n",
       "<tr>\n",
       "  <th>Kurtosis:</th>       <td>102.268</td> <th>  Cond. No.          </th>  <td>2.22e+24</td>  \n",
       "</tr>\n",
       "</table><br/><br/>Warnings:<br/>[1] Standard Errors assume that the covariance matrix of the errors is correctly specified.<br/>[2] The smallest eigenvalue is 9.14e-29. This might indicate that there are<br/>strong multicollinearity problems or that the design matrix is singular."
      ],
      "text/plain": [
       "<class 'statsmodels.iolib.summary.Summary'>\n",
       "\"\"\"\n",
       "                            OLS Regression Results                            \n",
       "==============================================================================\n",
       "Dep. Variable:                   hits   R-squared:                       0.297\n",
       "Model:                            OLS   Adj. R-squared:                  0.296\n",
       "Method:                 Least Squares   F-statistic:                     220.5\n",
       "Date:                Sun, 05 Apr 2020   Prob (F-statistic):          6.91e-274\n",
       "Time:                        05:09:54   Log-Likelihood:                -49469.\n",
       "No. Observations:                3654   AIC:                         9.895e+04\n",
       "Df Residuals:                    3646   BIC:                         9.900e+04\n",
       "Df Model:                           7                                         \n",
       "Covariance Type:            nonrobust                                         \n",
       "=====================================================================================\n",
       "                        coef    std err          t      P>|t|      [0.025      0.975]\n",
       "-------------------------------------------------------------------------------------\n",
       "const               -1.3e+05   8314.769    -15.630      0.000   -1.46e+05   -1.14e+05\n",
       "subscribers           0.0011   3.26e-05     33.830      0.000       0.001       0.001\n",
       "days_after_upload    22.6051     14.825      1.525      0.127      -6.461      51.671\n",
       "youtuber_id_0      2.249e+05   2.36e+04      9.533      0.000    1.79e+05    2.71e+05\n",
       "youtuber_id_1     -2.142e+05   1.24e+04    -17.233      0.000   -2.39e+05    -1.9e+05\n",
       "youtuber_id_2       1.51e+05   1.83e+04      8.259      0.000    1.15e+05    1.87e+05\n",
       "youtuber_id_3     -2.587e+05   7140.641    -36.225      0.000   -2.73e+05   -2.45e+05\n",
       "youtuber_id_4     -1.051e+05   1.14e+04     -9.209      0.000   -1.27e+05   -8.27e+04\n",
       "youtuber_id_5      8.878e+04   1.07e+04      8.295      0.000    6.78e+04     1.1e+05\n",
       "youtuber_id_6     -1.667e+04   8930.155     -1.866      0.062   -3.42e+04     840.918\n",
       "==============================================================================\n",
       "Omnibus:                     5098.013   Durbin-Watson:                   2.035\n",
       "Prob(Omnibus):                  0.000   Jarque-Bera (JB):          1539869.267\n",
       "Skew:                           8.061   Prob(JB):                         0.00\n",
       "Kurtosis:                     102.268   Cond. No.                     2.22e+24\n",
       "==============================================================================\n",
       "\n",
       "Warnings:\n",
       "[1] Standard Errors assume that the covariance matrix of the errors is correctly specified.\n",
       "[2] The smallest eigenvalue is 9.14e-29. This might indicate that there are\n",
       "strong multicollinearity problems or that the design matrix is singular.\n",
       "\"\"\""
      ]
     },
     "execution_count": 36,
     "metadata": {},
     "output_type": "execute_result"
    }
   ],
   "source": [
    "model = sm.OLS(y_train,X_train).fit()\n",
    "model.summary()"
   ]
  },
  {
   "cell_type": "markdown",
   "metadata": {},
   "source": [
    "- test셋 결과 "
   ]
  },
  {
   "cell_type": "code",
   "execution_count": 37,
   "metadata": {},
   "outputs": [
    {
     "data": {
      "text/html": [
       "<table class=\"simpletable\">\n",
       "<caption>OLS Regression Results</caption>\n",
       "<tr>\n",
       "  <th>Dep. Variable:</th>          <td>hits</td>       <th>  R-squared:         </th> <td>   0.315</td> \n",
       "</tr>\n",
       "<tr>\n",
       "  <th>Model:</th>                   <td>OLS</td>       <th>  Adj. R-squared:    </th> <td>   0.310</td> \n",
       "</tr>\n",
       "<tr>\n",
       "  <th>Method:</th>             <td>Least Squares</td>  <th>  F-statistic:       </th> <td>   59.48</td> \n",
       "</tr>\n",
       "<tr>\n",
       "  <th>Date:</th>             <td>Sun, 05 Apr 2020</td> <th>  Prob (F-statistic):</th> <td>3.03e-70</td> \n",
       "</tr>\n",
       "<tr>\n",
       "  <th>Time:</th>                 <td>05:09:55</td>     <th>  Log-Likelihood:    </th> <td> -12450.</td> \n",
       "</tr>\n",
       "<tr>\n",
       "  <th>No. Observations:</th>      <td>   914</td>      <th>  AIC:               </th> <td>2.492e+04</td>\n",
       "</tr>\n",
       "<tr>\n",
       "  <th>Df Residuals:</th>          <td>   906</td>      <th>  BIC:               </th> <td>2.495e+04</td>\n",
       "</tr>\n",
       "<tr>\n",
       "  <th>Df Model:</th>              <td>     7</td>      <th>                     </th>     <td> </td>    \n",
       "</tr>\n",
       "<tr>\n",
       "  <th>Covariance Type:</th>      <td>nonrobust</td>    <th>                     </th>     <td> </td>    \n",
       "</tr>\n",
       "</table>\n",
       "<table class=\"simpletable\">\n",
       "<tr>\n",
       "          <td></td>             <th>coef</th>     <th>std err</th>      <th>t</th>      <th>P>|t|</th>  <th>[0.025</th>    <th>0.975]</th>  \n",
       "</tr>\n",
       "<tr>\n",
       "  <th>const</th>             <td>-1.402e+05</td> <td> 1.81e+04</td> <td>   -7.734</td> <td> 0.000</td> <td>-1.76e+05</td> <td>-1.05e+05</td>\n",
       "</tr>\n",
       "<tr>\n",
       "  <th>subscribers</th>       <td>    0.0011</td> <td> 6.58e-05</td> <td>   16.630</td> <td> 0.000</td> <td>    0.001</td> <td>    0.001</td>\n",
       "</tr>\n",
       "<tr>\n",
       "  <th>days_after_upload</th> <td>   34.2093</td> <td>   34.363</td> <td>    0.996</td> <td> 0.320</td> <td>  -33.230</td> <td>  101.649</td>\n",
       "</tr>\n",
       "<tr>\n",
       "  <th>youtuber_id_0</th>     <td> 1.371e+05</td> <td> 4.98e+04</td> <td>    2.752</td> <td> 0.006</td> <td> 3.93e+04</td> <td> 2.35e+05</td>\n",
       "</tr>\n",
       "<tr>\n",
       "  <th>youtuber_id_1</th>     <td>-1.957e+05</td> <td> 2.52e+04</td> <td>   -7.770</td> <td> 0.000</td> <td>-2.45e+05</td> <td>-1.46e+05</td>\n",
       "</tr>\n",
       "<tr>\n",
       "  <th>youtuber_id_2</th>     <td> 2.067e+05</td> <td> 3.51e+04</td> <td>    5.883</td> <td> 0.000</td> <td> 1.38e+05</td> <td> 2.76e+05</td>\n",
       "</tr>\n",
       "<tr>\n",
       "  <th>youtuber_id_3</th>     <td> -2.51e+05</td> <td> 1.49e+04</td> <td>  -16.873</td> <td> 0.000</td> <td> -2.8e+05</td> <td>-2.22e+05</td>\n",
       "</tr>\n",
       "<tr>\n",
       "  <th>youtuber_id_4</th>     <td>-8.314e+04</td> <td> 2.61e+04</td> <td>   -3.187</td> <td> 0.001</td> <td>-1.34e+05</td> <td>-3.19e+04</td>\n",
       "</tr>\n",
       "<tr>\n",
       "  <th>youtuber_id_5</th>     <td> 7.258e+04</td> <td> 2.46e+04</td> <td>    2.955</td> <td> 0.003</td> <td> 2.44e+04</td> <td> 1.21e+05</td>\n",
       "</tr>\n",
       "<tr>\n",
       "  <th>youtuber_id_6</th>     <td>-2.676e+04</td> <td> 2.06e+04</td> <td>   -1.296</td> <td> 0.195</td> <td>-6.73e+04</td> <td> 1.38e+04</td>\n",
       "</tr>\n",
       "</table>\n",
       "<table class=\"simpletable\">\n",
       "<tr>\n",
       "  <th>Omnibus:</th>       <td>1358.255</td> <th>  Durbin-Watson:     </th>  <td>   2.001</td> \n",
       "</tr>\n",
       "<tr>\n",
       "  <th>Prob(Omnibus):</th>  <td> 0.000</td>  <th>  Jarque-Bera (JB):  </th> <td>470102.634</td>\n",
       "</tr>\n",
       "<tr>\n",
       "  <th>Skew:</th>           <td> 8.457</td>  <th>  Prob(JB):          </th>  <td>    0.00</td> \n",
       "</tr>\n",
       "<tr>\n",
       "  <th>Kurtosis:</th>       <td>112.809</td> <th>  Cond. No.          </th>  <td>6.39e+24</td> \n",
       "</tr>\n",
       "</table><br/><br/>Warnings:<br/>[1] Standard Errors assume that the covariance matrix of the errors is correctly specified.<br/>[2] The smallest eigenvalue is 2.85e-30. This might indicate that there are<br/>strong multicollinearity problems or that the design matrix is singular."
      ],
      "text/plain": [
       "<class 'statsmodels.iolib.summary.Summary'>\n",
       "\"\"\"\n",
       "                            OLS Regression Results                            \n",
       "==============================================================================\n",
       "Dep. Variable:                   hits   R-squared:                       0.315\n",
       "Model:                            OLS   Adj. R-squared:                  0.310\n",
       "Method:                 Least Squares   F-statistic:                     59.48\n",
       "Date:                Sun, 05 Apr 2020   Prob (F-statistic):           3.03e-70\n",
       "Time:                        05:09:55   Log-Likelihood:                -12450.\n",
       "No. Observations:                 914   AIC:                         2.492e+04\n",
       "Df Residuals:                     906   BIC:                         2.495e+04\n",
       "Df Model:                           7                                         \n",
       "Covariance Type:            nonrobust                                         \n",
       "=====================================================================================\n",
       "                        coef    std err          t      P>|t|      [0.025      0.975]\n",
       "-------------------------------------------------------------------------------------\n",
       "const             -1.402e+05   1.81e+04     -7.734      0.000   -1.76e+05   -1.05e+05\n",
       "subscribers           0.0011   6.58e-05     16.630      0.000       0.001       0.001\n",
       "days_after_upload    34.2093     34.363      0.996      0.320     -33.230     101.649\n",
       "youtuber_id_0      1.371e+05   4.98e+04      2.752      0.006    3.93e+04    2.35e+05\n",
       "youtuber_id_1     -1.957e+05   2.52e+04     -7.770      0.000   -2.45e+05   -1.46e+05\n",
       "youtuber_id_2      2.067e+05   3.51e+04      5.883      0.000    1.38e+05    2.76e+05\n",
       "youtuber_id_3      -2.51e+05   1.49e+04    -16.873      0.000    -2.8e+05   -2.22e+05\n",
       "youtuber_id_4     -8.314e+04   2.61e+04     -3.187      0.001   -1.34e+05   -3.19e+04\n",
       "youtuber_id_5      7.258e+04   2.46e+04      2.955      0.003    2.44e+04    1.21e+05\n",
       "youtuber_id_6     -2.676e+04   2.06e+04     -1.296      0.195   -6.73e+04    1.38e+04\n",
       "==============================================================================\n",
       "Omnibus:                     1358.255   Durbin-Watson:                   2.001\n",
       "Prob(Omnibus):                  0.000   Jarque-Bera (JB):           470102.634\n",
       "Skew:                           8.457   Prob(JB):                         0.00\n",
       "Kurtosis:                     112.809   Cond. No.                     6.39e+24\n",
       "==============================================================================\n",
       "\n",
       "Warnings:\n",
       "[1] Standard Errors assume that the covariance matrix of the errors is correctly specified.\n",
       "[2] The smallest eigenvalue is 2.85e-30. This might indicate that there are\n",
       "strong multicollinearity problems or that the design matrix is singular.\n",
       "\"\"\""
      ]
     },
     "execution_count": 37,
     "metadata": {},
     "output_type": "execute_result"
    }
   ],
   "source": [
    "model = sm.OLS(y_test,X_test).fit()\n",
    "model.summary() "
   ]
  },
  {
   "cell_type": "markdown",
   "metadata": {
    "heading_collapsed": true
   },
   "source": [
    "## Gradient Boosting regressor\n",
    "Score on training set:0.562  \n",
    "Score on test set:0.358\n",
    "\n",
    " "
   ]
  },
  {
   "cell_type": "code",
   "execution_count": 38,
   "metadata": {
    "hidden": true,
    "scrolled": false
   },
   "outputs": [],
   "source": [
    "# export_graphviz:나무 구조 생성 및 저장\n",
    "from sklearn.tree import export_graphviz\n",
    "# graphviz : 나무 구조 시각화 (.dot 확장자 파일 불러오기 등)\n",
    "import graphviz\n",
    "# 데이터 분할 : train, test\n",
    "from sklearn.model_selection import train_test_split\n",
    "from sklearn.ensemble import GradientBoostingRegressor\n",
    "# 최적 모델, 파라미터 탐색\n",
    "from sklearn.model_selection import GridSearchCV"
   ]
  },
  {
   "cell_type": "markdown",
   "metadata": {
    "hidden": true
   },
   "source": [
    "- 데이터셋 나누기"
   ]
  },
  {
   "cell_type": "code",
   "execution_count": 39,
   "metadata": {
    "hidden": true
   },
   "outputs": [
    {
     "name": "stdout",
     "output_type": "stream",
     "text": [
      "train data X size : (3654, 10)\n",
      "train data Y size : (3654,)\n",
      "test data X size : (914, 10)\n",
      "test data X size : (914,)\n"
     ]
    }
   ],
   "source": [
    "df_get_dummies = pd.get_dummies(df_final)\n",
    "X = df_get_dummies .drop(['hits'],axis=1)\n",
    "y = df_get_dummies ['hits']\n",
    "X_train, X_test, y_train, y_test = train_test_split(X, y, test_size=0.2, random_state=42)\n",
    "\n",
    "print('train data X size : {}'.format(X_train.shape))\n",
    "print('train data Y size : {}'.format(y_train.shape))\n",
    "print('test data X size : {}'.format(X_test.shape))\n",
    "print('test data X size : {}'.format(y_test.shape))"
   ]
  },
  {
   "cell_type": "markdown",
   "metadata": {
    "hidden": true
   },
   "source": [
    "- 기본 옵션으로 모델 생성해보기"
   ]
  },
  {
   "cell_type": "code",
   "execution_count": 40,
   "metadata": {
    "hidden": true
   },
   "outputs": [
    {
     "data": {
      "text/plain": [
       "GradientBoostingRegressor(alpha=0.9, criterion='friedman_mse', init=None,\n",
       "             learning_rate=0.1, loss='ls', max_depth=3, max_features=None,\n",
       "             max_leaf_nodes=None, min_impurity_decrease=0.0,\n",
       "             min_impurity_split=None, min_samples_leaf=1,\n",
       "             min_samples_split=2, min_weight_fraction_leaf=0.0,\n",
       "             n_estimators=100, n_iter_no_change=None, presort='auto',\n",
       "             random_state=1234, subsample=1.0, tol=0.0001,\n",
       "             validation_fraction=0.1, verbose=0, warm_start=False)"
      ]
     },
     "execution_count": 40,
     "metadata": {},
     "output_type": "execute_result"
    },
    {
     "name": "stdout",
     "output_type": "stream",
     "text": [
      "Score on training set:0.595\n",
      "Score on test set:0.333\n"
     ]
    }
   ],
   "source": [
    "gb_uncustomized=GradientBoostingRegressor(random_state=1234)\n",
    "gb_uncustomized.fit(X_train,y_train)\n",
    "print('Score on training set:{:.3f}'.format(gb_uncustomized.score(X_train,y_train)))\n",
    "print('Score on test set:{:.3f}'.format(gb_uncustomized.score(X_test,y_test)))"
   ]
  },
  {
   "cell_type": "markdown",
   "metadata": {
    "heading_collapsed": true,
    "hidden": true
   },
   "source": [
    "### try"
   ]
  },
  {
   "cell_type": "markdown",
   "metadata": {
    "hidden": true
   },
   "source": [
    "#### n-estimator"
   ]
  },
  {
   "cell_type": "code",
   "execution_count": 41,
   "metadata": {
    "hidden": true
   },
   "outputs": [
    {
     "data": {
      "text/plain": [
       "GradientBoostingRegressor(alpha=0.9, criterion='friedman_mse', init=None,\n",
       "             learning_rate=0.1, loss='ls', max_depth=3, max_features=None,\n",
       "             max_leaf_nodes=None, min_impurity_decrease=0.0,\n",
       "             min_impurity_split=None, min_samples_leaf=1,\n",
       "             min_samples_split=2, min_weight_fraction_leaf=0.0,\n",
       "             n_estimators=10, n_iter_no_change=None, presort='auto',\n",
       "             random_state=1234, subsample=1.0, tol=0.0001,\n",
       "             validation_fraction=0.1, verbose=0, warm_start=False)"
      ]
     },
     "execution_count": 41,
     "metadata": {},
     "output_type": "execute_result"
    },
    {
     "data": {
      "text/plain": [
       "GradientBoostingRegressor(alpha=0.9, criterion='friedman_mse', init=None,\n",
       "             learning_rate=0.1, loss='ls', max_depth=3, max_features=None,\n",
       "             max_leaf_nodes=None, min_impurity_decrease=0.0,\n",
       "             min_impurity_split=None, min_samples_leaf=1,\n",
       "             min_samples_split=2, min_weight_fraction_leaf=0.0,\n",
       "             n_estimators=20, n_iter_no_change=None, presort='auto',\n",
       "             random_state=1234, subsample=1.0, tol=0.0001,\n",
       "             validation_fraction=0.1, verbose=0, warm_start=False)"
      ]
     },
     "execution_count": 41,
     "metadata": {},
     "output_type": "execute_result"
    },
    {
     "data": {
      "text/plain": [
       "GradientBoostingRegressor(alpha=0.9, criterion='friedman_mse', init=None,\n",
       "             learning_rate=0.1, loss='ls', max_depth=3, max_features=None,\n",
       "             max_leaf_nodes=None, min_impurity_decrease=0.0,\n",
       "             min_impurity_split=None, min_samples_leaf=1,\n",
       "             min_samples_split=2, min_weight_fraction_leaf=0.0,\n",
       "             n_estimators=30, n_iter_no_change=None, presort='auto',\n",
       "             random_state=1234, subsample=1.0, tol=0.0001,\n",
       "             validation_fraction=0.1, verbose=0, warm_start=False)"
      ]
     },
     "execution_count": 41,
     "metadata": {},
     "output_type": "execute_result"
    },
    {
     "data": {
      "text/plain": [
       "GradientBoostingRegressor(alpha=0.9, criterion='friedman_mse', init=None,\n",
       "             learning_rate=0.1, loss='ls', max_depth=3, max_features=None,\n",
       "             max_leaf_nodes=None, min_impurity_decrease=0.0,\n",
       "             min_impurity_split=None, min_samples_leaf=1,\n",
       "             min_samples_split=2, min_weight_fraction_leaf=0.0,\n",
       "             n_estimators=40, n_iter_no_change=None, presort='auto',\n",
       "             random_state=1234, subsample=1.0, tol=0.0001,\n",
       "             validation_fraction=0.1, verbose=0, warm_start=False)"
      ]
     },
     "execution_count": 41,
     "metadata": {},
     "output_type": "execute_result"
    },
    {
     "data": {
      "text/plain": [
       "GradientBoostingRegressor(alpha=0.9, criterion='friedman_mse', init=None,\n",
       "             learning_rate=0.1, loss='ls', max_depth=3, max_features=None,\n",
       "             max_leaf_nodes=None, min_impurity_decrease=0.0,\n",
       "             min_impurity_split=None, min_samples_leaf=1,\n",
       "             min_samples_split=2, min_weight_fraction_leaf=0.0,\n",
       "             n_estimators=50, n_iter_no_change=None, presort='auto',\n",
       "             random_state=1234, subsample=1.0, tol=0.0001,\n",
       "             validation_fraction=0.1, verbose=0, warm_start=False)"
      ]
     },
     "execution_count": 41,
     "metadata": {},
     "output_type": "execute_result"
    },
    {
     "data": {
      "text/plain": [
       "GradientBoostingRegressor(alpha=0.9, criterion='friedman_mse', init=None,\n",
       "             learning_rate=0.1, loss='ls', max_depth=3, max_features=None,\n",
       "             max_leaf_nodes=None, min_impurity_decrease=0.0,\n",
       "             min_impurity_split=None, min_samples_leaf=1,\n",
       "             min_samples_split=2, min_weight_fraction_leaf=0.0,\n",
       "             n_estimators=60, n_iter_no_change=None, presort='auto',\n",
       "             random_state=1234, subsample=1.0, tol=0.0001,\n",
       "             validation_fraction=0.1, verbose=0, warm_start=False)"
      ]
     },
     "execution_count": 41,
     "metadata": {},
     "output_type": "execute_result"
    },
    {
     "data": {
      "text/plain": [
       "GradientBoostingRegressor(alpha=0.9, criterion='friedman_mse', init=None,\n",
       "             learning_rate=0.1, loss='ls', max_depth=3, max_features=None,\n",
       "             max_leaf_nodes=None, min_impurity_decrease=0.0,\n",
       "             min_impurity_split=None, min_samples_leaf=1,\n",
       "             min_samples_split=2, min_weight_fraction_leaf=0.0,\n",
       "             n_estimators=70, n_iter_no_change=None, presort='auto',\n",
       "             random_state=1234, subsample=1.0, tol=0.0001,\n",
       "             validation_fraction=0.1, verbose=0, warm_start=False)"
      ]
     },
     "execution_count": 41,
     "metadata": {},
     "output_type": "execute_result"
    },
    {
     "data": {
      "text/plain": [
       "GradientBoostingRegressor(alpha=0.9, criterion='friedman_mse', init=None,\n",
       "             learning_rate=0.1, loss='ls', max_depth=3, max_features=None,\n",
       "             max_leaf_nodes=None, min_impurity_decrease=0.0,\n",
       "             min_impurity_split=None, min_samples_leaf=1,\n",
       "             min_samples_split=2, min_weight_fraction_leaf=0.0,\n",
       "             n_estimators=80, n_iter_no_change=None, presort='auto',\n",
       "             random_state=1234, subsample=1.0, tol=0.0001,\n",
       "             validation_fraction=0.1, verbose=0, warm_start=False)"
      ]
     },
     "execution_count": 41,
     "metadata": {},
     "output_type": "execute_result"
    },
    {
     "data": {
      "text/plain": [
       "GradientBoostingRegressor(alpha=0.9, criterion='friedman_mse', init=None,\n",
       "             learning_rate=0.1, loss='ls', max_depth=3, max_features=None,\n",
       "             max_leaf_nodes=None, min_impurity_decrease=0.0,\n",
       "             min_impurity_split=None, min_samples_leaf=1,\n",
       "             min_samples_split=2, min_weight_fraction_leaf=0.0,\n",
       "             n_estimators=90, n_iter_no_change=None, presort='auto',\n",
       "             random_state=1234, subsample=1.0, tol=0.0001,\n",
       "             validation_fraction=0.1, verbose=0, warm_start=False)"
      ]
     },
     "execution_count": 41,
     "metadata": {},
     "output_type": "execute_result"
    },
    {
     "data": {
      "text/plain": [
       "GradientBoostingRegressor(alpha=0.9, criterion='friedman_mse', init=None,\n",
       "             learning_rate=0.1, loss='ls', max_depth=3, max_features=None,\n",
       "             max_leaf_nodes=None, min_impurity_decrease=0.0,\n",
       "             min_impurity_split=None, min_samples_leaf=1,\n",
       "             min_samples_split=2, min_weight_fraction_leaf=0.0,\n",
       "             n_estimators=100, n_iter_no_change=None, presort='auto',\n",
       "             random_state=1234, subsample=1.0, tol=0.0001,\n",
       "             validation_fraction=0.1, verbose=0, warm_start=False)"
      ]
     },
     "execution_count": 41,
     "metadata": {},
     "output_type": "execute_result"
    }
   ],
   "source": [
    "# train 및 test 설명력 결과 저장\n",
    "train_score=[]; test_score=[]\n",
    "\n",
    "para_n_tree=[n_tree*10 for n_tree in range(1,11)]\n",
    "\n",
    "for v_n_estimators in para_n_tree:\n",
    "    gb=GradientBoostingRegressor(random_state=1234,n_estimators=v_n_estimators)\n",
    "    gb.fit(X_train,y_train)\n",
    "    train_score.append(gb.score(X_train,y_train))\n",
    "    test_score.append(gb.score(X_test,y_test))\n",
    "    \n",
    "df_score_n=pd.DataFrame()\n",
    "df_score_n['n_estimators']=para_n_tree\n",
    "df_score_n['TrainScore']=train_score\n",
    "df_score_n['TestScore']=test_score"
   ]
  },
  {
   "cell_type": "code",
   "execution_count": 42,
   "metadata": {
    "hidden": true
   },
   "outputs": [
    {
     "data": {
      "text/html": [
       "<div>\n",
       "<style scoped>\n",
       "    .dataframe tbody tr th:only-of-type {\n",
       "        vertical-align: middle;\n",
       "    }\n",
       "\n",
       "    .dataframe tbody tr th {\n",
       "        vertical-align: top;\n",
       "    }\n",
       "\n",
       "    .dataframe thead th {\n",
       "        text-align: right;\n",
       "    }\n",
       "</style>\n",
       "<table border=\"1\" class=\"dataframe\">\n",
       "  <thead>\n",
       "    <tr style=\"text-align: right;\">\n",
       "      <th></th>\n",
       "      <th>n_estimators</th>\n",
       "      <th>TrainScore</th>\n",
       "      <th>TestScore</th>\n",
       "    </tr>\n",
       "  </thead>\n",
       "  <tbody>\n",
       "    <tr>\n",
       "      <th>0</th>\n",
       "      <td>10</td>\n",
       "      <td>0.343</td>\n",
       "      <td>0.288</td>\n",
       "    </tr>\n",
       "    <tr>\n",
       "      <th>1</th>\n",
       "      <td>20</td>\n",
       "      <td>0.407</td>\n",
       "      <td>0.330</td>\n",
       "    </tr>\n",
       "    <tr>\n",
       "      <th>2</th>\n",
       "      <td>30</td>\n",
       "      <td>0.445</td>\n",
       "      <td>0.341</td>\n",
       "    </tr>\n",
       "    <tr>\n",
       "      <th>3</th>\n",
       "      <td>40</td>\n",
       "      <td>0.477</td>\n",
       "      <td>0.347</td>\n",
       "    </tr>\n",
       "    <tr>\n",
       "      <th>4</th>\n",
       "      <td>50</td>\n",
       "      <td>0.502</td>\n",
       "      <td>0.343</td>\n",
       "    </tr>\n",
       "    <tr>\n",
       "      <th>5</th>\n",
       "      <td>60</td>\n",
       "      <td>0.528</td>\n",
       "      <td>0.345</td>\n",
       "    </tr>\n",
       "    <tr>\n",
       "      <th>6</th>\n",
       "      <td>70</td>\n",
       "      <td>0.544</td>\n",
       "      <td>0.343</td>\n",
       "    </tr>\n",
       "    <tr>\n",
       "      <th>7</th>\n",
       "      <td>80</td>\n",
       "      <td>0.561</td>\n",
       "      <td>0.342</td>\n",
       "    </tr>\n",
       "    <tr>\n",
       "      <th>8</th>\n",
       "      <td>90</td>\n",
       "      <td>0.572</td>\n",
       "      <td>0.342</td>\n",
       "    </tr>\n",
       "    <tr>\n",
       "      <th>9</th>\n",
       "      <td>100</td>\n",
       "      <td>0.595</td>\n",
       "      <td>0.333</td>\n",
       "    </tr>\n",
       "  </tbody>\n",
       "</table>\n",
       "</div>"
      ],
      "text/plain": [
       "   n_estimators  TrainScore  TestScore\n",
       "0            10       0.343      0.288\n",
       "1            20       0.407      0.330\n",
       "2            30       0.445      0.341\n",
       "3            40       0.477      0.347\n",
       "4            50       0.502      0.343\n",
       "5            60       0.528      0.345\n",
       "6            70       0.544      0.343\n",
       "7            80       0.561      0.342\n",
       "8            90       0.572      0.342\n",
       "9           100       0.595      0.333"
      ]
     },
     "execution_count": 42,
     "metadata": {},
     "output_type": "execute_result"
    },
    {
     "data": {
      "text/plain": [
       "[<matplotlib.lines.Line2D at 0x3082435be0>]"
      ]
     },
     "execution_count": 42,
     "metadata": {},
     "output_type": "execute_result"
    },
    {
     "data": {
      "text/plain": [
       "[<matplotlib.lines.Line2D at 0x308169e9b0>]"
      ]
     },
     "execution_count": 42,
     "metadata": {},
     "output_type": "execute_result"
    },
    {
     "data": {
      "text/plain": [
       "<matplotlib.legend.Legend at 0x3082416358>"
      ]
     },
     "execution_count": 42,
     "metadata": {},
     "output_type": "execute_result"
    },
    {
     "data": {
      "image/png": "[encoded data removed]",
      "text/plain": [
       "<Figure size 432x288 with 1 Axes>"
      ]
     },
     "metadata": {
      "needs_background": "light"
     },
     "output_type": "display_data"
    }
   ],
   "source": [
    "# 모델 설명력 그래프 확인\n",
    "df_score_n.round(3)\n",
    "plt.plot(para_n_tree,train_score,linestyle='-',label='Train Score')\n",
    "plt.plot(para_n_tree,test_score,linestyle='--',label='Test Score')\n",
    "plt.legend()"
   ]
  },
  {
   "cell_type": "markdown",
   "metadata": {
    "hidden": true
   },
   "source": [
    "- 1) 40\n",
    "- 2) 50\n",
    "- 3) 40"
   ]
  },
  {
   "cell_type": "markdown",
   "metadata": {
    "heading_collapsed": true,
    "hidden": true
   },
   "source": [
    "#### min_samples_leaf"
   ]
  },
  {
   "cell_type": "code",
   "execution_count": 43,
   "metadata": {
    "hidden": true
   },
   "outputs": [
    {
     "data": {
      "text/plain": [
       "GradientBoostingRegressor(alpha=0.9, criterion='friedman_mse', init=None,\n",
       "             learning_rate=0.1, loss='ls', max_depth=3, max_features=None,\n",
       "             max_leaf_nodes=None, min_impurity_decrease=0.0,\n",
       "             min_impurity_split=None, min_samples_leaf=1,\n",
       "             min_samples_split=2, min_weight_fraction_leaf=0.0,\n",
       "             n_estimators=40, n_iter_no_change=None, presort='auto',\n",
       "             random_state=1234, subsample=1.0, tol=0.0001,\n",
       "             validation_fraction=0.1, verbose=0, warm_start=False)"
      ]
     },
     "execution_count": 43,
     "metadata": {},
     "output_type": "execute_result"
    },
    {
     "data": {
      "text/plain": [
       "GradientBoostingRegressor(alpha=0.9, criterion='friedman_mse', init=None,\n",
       "             learning_rate=0.1, loss='ls', max_depth=3, max_features=None,\n",
       "             max_leaf_nodes=None, min_impurity_decrease=0.0,\n",
       "             min_impurity_split=None, min_samples_leaf=2,\n",
       "             min_samples_split=2, min_weight_fraction_leaf=0.0,\n",
       "             n_estimators=40, n_iter_no_change=None, presort='auto',\n",
       "             random_state=1234, subsample=1.0, tol=0.0001,\n",
       "             validation_fraction=0.1, verbose=0, warm_start=False)"
      ]
     },
     "execution_count": 43,
     "metadata": {},
     "output_type": "execute_result"
    },
    {
     "data": {
      "text/plain": [
       "GradientBoostingRegressor(alpha=0.9, criterion='friedman_mse', init=None,\n",
       "             learning_rate=0.1, loss='ls', max_depth=3, max_features=None,\n",
       "             max_leaf_nodes=None, min_impurity_decrease=0.0,\n",
       "             min_impurity_split=None, min_samples_leaf=3,\n",
       "             min_samples_split=2, min_weight_fraction_leaf=0.0,\n",
       "             n_estimators=40, n_iter_no_change=None, presort='auto',\n",
       "             random_state=1234, subsample=1.0, tol=0.0001,\n",
       "             validation_fraction=0.1, verbose=0, warm_start=False)"
      ]
     },
     "execution_count": 43,
     "metadata": {},
     "output_type": "execute_result"
    },
    {
     "data": {
      "text/plain": [
       "GradientBoostingRegressor(alpha=0.9, criterion='friedman_mse', init=None,\n",
       "             learning_rate=0.1, loss='ls', max_depth=3, max_features=None,\n",
       "             max_leaf_nodes=None, min_impurity_decrease=0.0,\n",
       "             min_impurity_split=None, min_samples_leaf=4,\n",
       "             min_samples_split=2, min_weight_fraction_leaf=0.0,\n",
       "             n_estimators=40, n_iter_no_change=None, presort='auto',\n",
       "             random_state=1234, subsample=1.0, tol=0.0001,\n",
       "             validation_fraction=0.1, verbose=0, warm_start=False)"
      ]
     },
     "execution_count": 43,
     "metadata": {},
     "output_type": "execute_result"
    },
    {
     "data": {
      "text/plain": [
       "GradientBoostingRegressor(alpha=0.9, criterion='friedman_mse', init=None,\n",
       "             learning_rate=0.1, loss='ls', max_depth=3, max_features=None,\n",
       "             max_leaf_nodes=None, min_impurity_decrease=0.0,\n",
       "             min_impurity_split=None, min_samples_leaf=5,\n",
       "             min_samples_split=2, min_weight_fraction_leaf=0.0,\n",
       "             n_estimators=40, n_iter_no_change=None, presort='auto',\n",
       "             random_state=1234, subsample=1.0, tol=0.0001,\n",
       "             validation_fraction=0.1, verbose=0, warm_start=False)"
      ]
     },
     "execution_count": 43,
     "metadata": {},
     "output_type": "execute_result"
    },
    {
     "data": {
      "text/plain": [
       "GradientBoostingRegressor(alpha=0.9, criterion='friedman_mse', init=None,\n",
       "             learning_rate=0.1, loss='ls', max_depth=3, max_features=None,\n",
       "             max_leaf_nodes=None, min_impurity_decrease=0.0,\n",
       "             min_impurity_split=None, min_samples_leaf=6,\n",
       "             min_samples_split=2, min_weight_fraction_leaf=0.0,\n",
       "             n_estimators=40, n_iter_no_change=None, presort='auto',\n",
       "             random_state=1234, subsample=1.0, tol=0.0001,\n",
       "             validation_fraction=0.1, verbose=0, warm_start=False)"
      ]
     },
     "execution_count": 43,
     "metadata": {},
     "output_type": "execute_result"
    },
    {
     "data": {
      "text/plain": [
       "GradientBoostingRegressor(alpha=0.9, criterion='friedman_mse', init=None,\n",
       "             learning_rate=0.1, loss='ls', max_depth=3, max_features=None,\n",
       "             max_leaf_nodes=None, min_impurity_decrease=0.0,\n",
       "             min_impurity_split=None, min_samples_leaf=7,\n",
       "             min_samples_split=2, min_weight_fraction_leaf=0.0,\n",
       "             n_estimators=40, n_iter_no_change=None, presort='auto',\n",
       "             random_state=1234, subsample=1.0, tol=0.0001,\n",
       "             validation_fraction=0.1, verbose=0, warm_start=False)"
      ]
     },
     "execution_count": 43,
     "metadata": {},
     "output_type": "execute_result"
    },
    {
     "data": {
      "text/plain": [
       "GradientBoostingRegressor(alpha=0.9, criterion='friedman_mse', init=None,\n",
       "             learning_rate=0.1, loss='ls', max_depth=3, max_features=None,\n",
       "             max_leaf_nodes=None, min_impurity_decrease=0.0,\n",
       "             min_impurity_split=None, min_samples_leaf=8,\n",
       "             min_samples_split=2, min_weight_fraction_leaf=0.0,\n",
       "             n_estimators=40, n_iter_no_change=None, presort='auto',\n",
       "             random_state=1234, subsample=1.0, tol=0.0001,\n",
       "             validation_fraction=0.1, verbose=0, warm_start=False)"
      ]
     },
     "execution_count": 43,
     "metadata": {},
     "output_type": "execute_result"
    },
    {
     "data": {
      "text/plain": [
       "GradientBoostingRegressor(alpha=0.9, criterion='friedman_mse', init=None,\n",
       "             learning_rate=0.1, loss='ls', max_depth=3, max_features=None,\n",
       "             max_leaf_nodes=None, min_impurity_decrease=0.0,\n",
       "             min_impurity_split=None, min_samples_leaf=9,\n",
       "             min_samples_split=2, min_weight_fraction_leaf=0.0,\n",
       "             n_estimators=40, n_iter_no_change=None, presort='auto',\n",
       "             random_state=1234, subsample=1.0, tol=0.0001,\n",
       "             validation_fraction=0.1, verbose=0, warm_start=False)"
      ]
     },
     "execution_count": 43,
     "metadata": {},
     "output_type": "execute_result"
    },
    {
     "data": {
      "text/plain": [
       "GradientBoostingRegressor(alpha=0.9, criterion='friedman_mse', init=None,\n",
       "             learning_rate=0.1, loss='ls', max_depth=3, max_features=None,\n",
       "             max_leaf_nodes=None, min_impurity_decrease=0.0,\n",
       "             min_impurity_split=None, min_samples_leaf=10,\n",
       "             min_samples_split=2, min_weight_fraction_leaf=0.0,\n",
       "             n_estimators=40, n_iter_no_change=None, presort='auto',\n",
       "             random_state=1234, subsample=1.0, tol=0.0001,\n",
       "             validation_fraction=0.1, verbose=0, warm_start=False)"
      ]
     },
     "execution_count": 43,
     "metadata": {},
     "output_type": "execute_result"
    },
    {
     "data": {
      "text/plain": [
       "GradientBoostingRegressor(alpha=0.9, criterion='friedman_mse', init=None,\n",
       "             learning_rate=0.1, loss='ls', max_depth=3, max_features=None,\n",
       "             max_leaf_nodes=None, min_impurity_decrease=0.0,\n",
       "             min_impurity_split=None, min_samples_leaf=11,\n",
       "             min_samples_split=2, min_weight_fraction_leaf=0.0,\n",
       "             n_estimators=40, n_iter_no_change=None, presort='auto',\n",
       "             random_state=1234, subsample=1.0, tol=0.0001,\n",
       "             validation_fraction=0.1, verbose=0, warm_start=False)"
      ]
     },
     "execution_count": 43,
     "metadata": {},
     "output_type": "execute_result"
    },
    {
     "data": {
      "text/plain": [
       "GradientBoostingRegressor(alpha=0.9, criterion='friedman_mse', init=None,\n",
       "             learning_rate=0.1, loss='ls', max_depth=3, max_features=None,\n",
       "             max_leaf_nodes=None, min_impurity_decrease=0.0,\n",
       "             min_impurity_split=None, min_samples_leaf=12,\n",
       "             min_samples_split=2, min_weight_fraction_leaf=0.0,\n",
       "             n_estimators=40, n_iter_no_change=None, presort='auto',\n",
       "             random_state=1234, subsample=1.0, tol=0.0001,\n",
       "             validation_fraction=0.1, verbose=0, warm_start=False)"
      ]
     },
     "execution_count": 43,
     "metadata": {},
     "output_type": "execute_result"
    },
    {
     "data": {
      "text/plain": [
       "GradientBoostingRegressor(alpha=0.9, criterion='friedman_mse', init=None,\n",
       "             learning_rate=0.1, loss='ls', max_depth=3, max_features=None,\n",
       "             max_leaf_nodes=None, min_impurity_decrease=0.0,\n",
       "             min_impurity_split=None, min_samples_leaf=13,\n",
       "             min_samples_split=2, min_weight_fraction_leaf=0.0,\n",
       "             n_estimators=40, n_iter_no_change=None, presort='auto',\n",
       "             random_state=1234, subsample=1.0, tol=0.0001,\n",
       "             validation_fraction=0.1, verbose=0, warm_start=False)"
      ]
     },
     "execution_count": 43,
     "metadata": {},
     "output_type": "execute_result"
    },
    {
     "data": {
      "text/plain": [
       "GradientBoostingRegressor(alpha=0.9, criterion='friedman_mse', init=None,\n",
       "             learning_rate=0.1, loss='ls', max_depth=3, max_features=None,\n",
       "             max_leaf_nodes=None, min_impurity_decrease=0.0,\n",
       "             min_impurity_split=None, min_samples_leaf=14,\n",
       "             min_samples_split=2, min_weight_fraction_leaf=0.0,\n",
       "             n_estimators=40, n_iter_no_change=None, presort='auto',\n",
       "             random_state=1234, subsample=1.0, tol=0.0001,\n",
       "             validation_fraction=0.1, verbose=0, warm_start=False)"
      ]
     },
     "execution_count": 43,
     "metadata": {},
     "output_type": "execute_result"
    },
    {
     "data": {
      "text/plain": [
       "GradientBoostingRegressor(alpha=0.9, criterion='friedman_mse', init=None,\n",
       "             learning_rate=0.1, loss='ls', max_depth=3, max_features=None,\n",
       "             max_leaf_nodes=None, min_impurity_decrease=0.0,\n",
       "             min_impurity_split=None, min_samples_leaf=15,\n",
       "             min_samples_split=2, min_weight_fraction_leaf=0.0,\n",
       "             n_estimators=40, n_iter_no_change=None, presort='auto',\n",
       "             random_state=1234, subsample=1.0, tol=0.0001,\n",
       "             validation_fraction=0.1, verbose=0, warm_start=False)"
      ]
     },
     "execution_count": 43,
     "metadata": {},
     "output_type": "execute_result"
    },
    {
     "data": {
      "text/plain": [
       "GradientBoostingRegressor(alpha=0.9, criterion='friedman_mse', init=None,\n",
       "             learning_rate=0.1, loss='ls', max_depth=3, max_features=None,\n",
       "             max_leaf_nodes=None, min_impurity_decrease=0.0,\n",
       "             min_impurity_split=None, min_samples_leaf=16,\n",
       "             min_samples_split=2, min_weight_fraction_leaf=0.0,\n",
       "             n_estimators=40, n_iter_no_change=None, presort='auto',\n",
       "             random_state=1234, subsample=1.0, tol=0.0001,\n",
       "             validation_fraction=0.1, verbose=0, warm_start=False)"
      ]
     },
     "execution_count": 43,
     "metadata": {},
     "output_type": "execute_result"
    },
    {
     "data": {
      "text/plain": [
       "GradientBoostingRegressor(alpha=0.9, criterion='friedman_mse', init=None,\n",
       "             learning_rate=0.1, loss='ls', max_depth=3, max_features=None,\n",
       "             max_leaf_nodes=None, min_impurity_decrease=0.0,\n",
       "             min_impurity_split=None, min_samples_leaf=17,\n",
       "             min_samples_split=2, min_weight_fraction_leaf=0.0,\n",
       "             n_estimators=40, n_iter_no_change=None, presort='auto',\n",
       "             random_state=1234, subsample=1.0, tol=0.0001,\n",
       "             validation_fraction=0.1, verbose=0, warm_start=False)"
      ]
     },
     "execution_count": 43,
     "metadata": {},
     "output_type": "execute_result"
    },
    {
     "data": {
      "text/plain": [
       "GradientBoostingRegressor(alpha=0.9, criterion='friedman_mse', init=None,\n",
       "             learning_rate=0.1, loss='ls', max_depth=3, max_features=None,\n",
       "             max_leaf_nodes=None, min_impurity_decrease=0.0,\n",
       "             min_impurity_split=None, min_samples_leaf=18,\n",
       "             min_samples_split=2, min_weight_fraction_leaf=0.0,\n",
       "             n_estimators=40, n_iter_no_change=None, presort='auto',\n",
       "             random_state=1234, subsample=1.0, tol=0.0001,\n",
       "             validation_fraction=0.1, verbose=0, warm_start=False)"
      ]
     },
     "execution_count": 43,
     "metadata": {},
     "output_type": "execute_result"
    },
    {
     "data": {
      "text/plain": [
       "GradientBoostingRegressor(alpha=0.9, criterion='friedman_mse', init=None,\n",
       "             learning_rate=0.1, loss='ls', max_depth=3, max_features=None,\n",
       "             max_leaf_nodes=None, min_impurity_decrease=0.0,\n",
       "             min_impurity_split=None, min_samples_leaf=19,\n",
       "             min_samples_split=2, min_weight_fraction_leaf=0.0,\n",
       "             n_estimators=40, n_iter_no_change=None, presort='auto',\n",
       "             random_state=1234, subsample=1.0, tol=0.0001,\n",
       "             validation_fraction=0.1, verbose=0, warm_start=False)"
      ]
     },
     "execution_count": 43,
     "metadata": {},
     "output_type": "execute_result"
    },
    {
     "data": {
      "text/plain": [
       "GradientBoostingRegressor(alpha=0.9, criterion='friedman_mse', init=None,\n",
       "             learning_rate=0.1, loss='ls', max_depth=3, max_features=None,\n",
       "             max_leaf_nodes=None, min_impurity_decrease=0.0,\n",
       "             min_impurity_split=None, min_samples_leaf=20,\n",
       "             min_samples_split=2, min_weight_fraction_leaf=0.0,\n",
       "             n_estimators=40, n_iter_no_change=None, presort='auto',\n",
       "             random_state=1234, subsample=1.0, tol=0.0001,\n",
       "             validation_fraction=0.1, verbose=0, warm_start=False)"
      ]
     },
     "execution_count": 43,
     "metadata": {},
     "output_type": "execute_result"
    }
   ],
   "source": [
    "train_score=[]; test_score=[]\n",
    "\n",
    "para_leaf=[n_leaf*1 for n_leaf in range(1,21)]\n",
    "\n",
    "for v_min_samples_leaf in para_leaf:\n",
    "    gb=GradientBoostingRegressor(random_state=1234, n_estimators=40, min_samples_leaf=v_min_samples_leaf)\n",
    "    gb.fit(X_train,y_train)\n",
    "    train_score.append(gb.score(X_train,y_train))\n",
    "    test_score.append(gb.score(X_test,y_test))\n",
    "    \n",
    "df_score_leaf=pd.DataFrame()\n",
    "df_score_leaf['MinSamplesLeaf']=para_leaf\n",
    "df_score_leaf['TrainScore']=train_score\n",
    "df_score_leaf['TestScore']=test_score"
   ]
  },
  {
   "cell_type": "code",
   "execution_count": 44,
   "metadata": {
    "hidden": true
   },
   "outputs": [
    {
     "data": {
      "text/html": [
       "<div>\n",
       "<style scoped>\n",
       "    .dataframe tbody tr th:only-of-type {\n",
       "        vertical-align: middle;\n",
       "    }\n",
       "\n",
       "    .dataframe tbody tr th {\n",
       "        vertical-align: top;\n",
       "    }\n",
       "\n",
       "    .dataframe thead th {\n",
       "        text-align: right;\n",
       "    }\n",
       "</style>\n",
       "<table border=\"1\" class=\"dataframe\">\n",
       "  <thead>\n",
       "    <tr style=\"text-align: right;\">\n",
       "      <th></th>\n",
       "      <th>MinSamplesLeaf</th>\n",
       "      <th>TrainScore</th>\n",
       "      <th>TestScore</th>\n",
       "    </tr>\n",
       "  </thead>\n",
       "  <tbody>\n",
       "    <tr>\n",
       "      <th>0</th>\n",
       "      <td>1</td>\n",
       "      <td>0.477</td>\n",
       "      <td>0.347</td>\n",
       "    </tr>\n",
       "    <tr>\n",
       "      <th>1</th>\n",
       "      <td>2</td>\n",
       "      <td>0.468</td>\n",
       "      <td>0.333</td>\n",
       "    </tr>\n",
       "    <tr>\n",
       "      <th>2</th>\n",
       "      <td>3</td>\n",
       "      <td>0.473</td>\n",
       "      <td>0.325</td>\n",
       "    </tr>\n",
       "    <tr>\n",
       "      <th>3</th>\n",
       "      <td>4</td>\n",
       "      <td>0.464</td>\n",
       "      <td>0.326</td>\n",
       "    </tr>\n",
       "    <tr>\n",
       "      <th>4</th>\n",
       "      <td>5</td>\n",
       "      <td>0.455</td>\n",
       "      <td>0.328</td>\n",
       "    </tr>\n",
       "    <tr>\n",
       "      <th>5</th>\n",
       "      <td>6</td>\n",
       "      <td>0.447</td>\n",
       "      <td>0.327</td>\n",
       "    </tr>\n",
       "    <tr>\n",
       "      <th>6</th>\n",
       "      <td>7</td>\n",
       "      <td>0.449</td>\n",
       "      <td>0.333</td>\n",
       "    </tr>\n",
       "    <tr>\n",
       "      <th>7</th>\n",
       "      <td>8</td>\n",
       "      <td>0.444</td>\n",
       "      <td>0.342</td>\n",
       "    </tr>\n",
       "    <tr>\n",
       "      <th>8</th>\n",
       "      <td>9</td>\n",
       "      <td>0.441</td>\n",
       "      <td>0.339</td>\n",
       "    </tr>\n",
       "    <tr>\n",
       "      <th>9</th>\n",
       "      <td>10</td>\n",
       "      <td>0.441</td>\n",
       "      <td>0.342</td>\n",
       "    </tr>\n",
       "    <tr>\n",
       "      <th>10</th>\n",
       "      <td>11</td>\n",
       "      <td>0.442</td>\n",
       "      <td>0.336</td>\n",
       "    </tr>\n",
       "    <tr>\n",
       "      <th>11</th>\n",
       "      <td>12</td>\n",
       "      <td>0.433</td>\n",
       "      <td>0.328</td>\n",
       "    </tr>\n",
       "    <tr>\n",
       "      <th>12</th>\n",
       "      <td>13</td>\n",
       "      <td>0.427</td>\n",
       "      <td>0.328</td>\n",
       "    </tr>\n",
       "    <tr>\n",
       "      <th>13</th>\n",
       "      <td>14</td>\n",
       "      <td>0.432</td>\n",
       "      <td>0.330</td>\n",
       "    </tr>\n",
       "    <tr>\n",
       "      <th>14</th>\n",
       "      <td>15</td>\n",
       "      <td>0.433</td>\n",
       "      <td>0.332</td>\n",
       "    </tr>\n",
       "    <tr>\n",
       "      <th>15</th>\n",
       "      <td>16</td>\n",
       "      <td>0.425</td>\n",
       "      <td>0.329</td>\n",
       "    </tr>\n",
       "    <tr>\n",
       "      <th>16</th>\n",
       "      <td>17</td>\n",
       "      <td>0.426</td>\n",
       "      <td>0.333</td>\n",
       "    </tr>\n",
       "    <tr>\n",
       "      <th>17</th>\n",
       "      <td>18</td>\n",
       "      <td>0.424</td>\n",
       "      <td>0.332</td>\n",
       "    </tr>\n",
       "    <tr>\n",
       "      <th>18</th>\n",
       "      <td>19</td>\n",
       "      <td>0.417</td>\n",
       "      <td>0.341</td>\n",
       "    </tr>\n",
       "    <tr>\n",
       "      <th>19</th>\n",
       "      <td>20</td>\n",
       "      <td>0.418</td>\n",
       "      <td>0.338</td>\n",
       "    </tr>\n",
       "  </tbody>\n",
       "</table>\n",
       "</div>"
      ],
      "text/plain": [
       "    MinSamplesLeaf  TrainScore  TestScore\n",
       "0                1       0.477      0.347\n",
       "1                2       0.468      0.333\n",
       "2                3       0.473      0.325\n",
       "3                4       0.464      0.326\n",
       "4                5       0.455      0.328\n",
       "5                6       0.447      0.327\n",
       "6                7       0.449      0.333\n",
       "7                8       0.444      0.342\n",
       "8                9       0.441      0.339\n",
       "9               10       0.441      0.342\n",
       "10              11       0.442      0.336\n",
       "11              12       0.433      0.328\n",
       "12              13       0.427      0.328\n",
       "13              14       0.432      0.330\n",
       "14              15       0.433      0.332\n",
       "15              16       0.425      0.329\n",
       "16              17       0.426      0.333\n",
       "17              18       0.424      0.332\n",
       "18              19       0.417      0.341\n",
       "19              20       0.418      0.338"
      ]
     },
     "execution_count": 44,
     "metadata": {},
     "output_type": "execute_result"
    }
   ],
   "source": [
    "df_score_leaf.round(3)"
   ]
  },
  {
   "cell_type": "markdown",
   "metadata": {
    "hidden": true
   },
   "source": [
    "- 1) 8\n",
    "- 2) 10\n",
    "- 3) 8"
   ]
  },
  {
   "cell_type": "markdown",
   "metadata": {
    "heading_collapsed": true,
    "hidden": true
   },
   "source": [
    "#### min_samples_split"
   ]
  },
  {
   "cell_type": "code",
   "execution_count": 45,
   "metadata": {
    "hidden": true
   },
   "outputs": [
    {
     "data": {
      "text/plain": [
       "GradientBoostingRegressor(alpha=0.9, criterion='friedman_mse', init=None,\n",
       "             learning_rate=0.1, loss='ls', max_depth=3, max_features=None,\n",
       "             max_leaf_nodes=None, min_impurity_decrease=0.0,\n",
       "             min_impurity_split=None, min_samples_leaf=8,\n",
       "             min_samples_split=10, min_weight_fraction_leaf=0.0,\n",
       "             n_estimators=40, n_iter_no_change=None, presort='auto',\n",
       "             random_state=1234, subsample=1.0, tol=0.0001,\n",
       "             validation_fraction=0.1, verbose=0, warm_start=False)"
      ]
     },
     "execution_count": 45,
     "metadata": {},
     "output_type": "execute_result"
    },
    {
     "data": {
      "text/plain": [
       "GradientBoostingRegressor(alpha=0.9, criterion='friedman_mse', init=None,\n",
       "             learning_rate=0.1, loss='ls', max_depth=3, max_features=None,\n",
       "             max_leaf_nodes=None, min_impurity_decrease=0.0,\n",
       "             min_impurity_split=None, min_samples_leaf=8,\n",
       "             min_samples_split=12, min_weight_fraction_leaf=0.0,\n",
       "             n_estimators=40, n_iter_no_change=None, presort='auto',\n",
       "             random_state=1234, subsample=1.0, tol=0.0001,\n",
       "             validation_fraction=0.1, verbose=0, warm_start=False)"
      ]
     },
     "execution_count": 45,
     "metadata": {},
     "output_type": "execute_result"
    },
    {
     "data": {
      "text/plain": [
       "GradientBoostingRegressor(alpha=0.9, criterion='friedman_mse', init=None,\n",
       "             learning_rate=0.1, loss='ls', max_depth=3, max_features=None,\n",
       "             max_leaf_nodes=None, min_impurity_decrease=0.0,\n",
       "             min_impurity_split=None, min_samples_leaf=8,\n",
       "             min_samples_split=14, min_weight_fraction_leaf=0.0,\n",
       "             n_estimators=40, n_iter_no_change=None, presort='auto',\n",
       "             random_state=1234, subsample=1.0, tol=0.0001,\n",
       "             validation_fraction=0.1, verbose=0, warm_start=False)"
      ]
     },
     "execution_count": 45,
     "metadata": {},
     "output_type": "execute_result"
    },
    {
     "data": {
      "text/plain": [
       "GradientBoostingRegressor(alpha=0.9, criterion='friedman_mse', init=None,\n",
       "             learning_rate=0.1, loss='ls', max_depth=3, max_features=None,\n",
       "             max_leaf_nodes=None, min_impurity_decrease=0.0,\n",
       "             min_impurity_split=None, min_samples_leaf=8,\n",
       "             min_samples_split=16, min_weight_fraction_leaf=0.0,\n",
       "             n_estimators=40, n_iter_no_change=None, presort='auto',\n",
       "             random_state=1234, subsample=1.0, tol=0.0001,\n",
       "             validation_fraction=0.1, verbose=0, warm_start=False)"
      ]
     },
     "execution_count": 45,
     "metadata": {},
     "output_type": "execute_result"
    },
    {
     "data": {
      "text/plain": [
       "GradientBoostingRegressor(alpha=0.9, criterion='friedman_mse', init=None,\n",
       "             learning_rate=0.1, loss='ls', max_depth=3, max_features=None,\n",
       "             max_leaf_nodes=None, min_impurity_decrease=0.0,\n",
       "             min_impurity_split=None, min_samples_leaf=8,\n",
       "             min_samples_split=18, min_weight_fraction_leaf=0.0,\n",
       "             n_estimators=40, n_iter_no_change=None, presort='auto',\n",
       "             random_state=1234, subsample=1.0, tol=0.0001,\n",
       "             validation_fraction=0.1, verbose=0, warm_start=False)"
      ]
     },
     "execution_count": 45,
     "metadata": {},
     "output_type": "execute_result"
    },
    {
     "data": {
      "text/plain": [
       "GradientBoostingRegressor(alpha=0.9, criterion='friedman_mse', init=None,\n",
       "             learning_rate=0.1, loss='ls', max_depth=3, max_features=None,\n",
       "             max_leaf_nodes=None, min_impurity_decrease=0.0,\n",
       "             min_impurity_split=None, min_samples_leaf=8,\n",
       "             min_samples_split=20, min_weight_fraction_leaf=0.0,\n",
       "             n_estimators=40, n_iter_no_change=None, presort='auto',\n",
       "             random_state=1234, subsample=1.0, tol=0.0001,\n",
       "             validation_fraction=0.1, verbose=0, warm_start=False)"
      ]
     },
     "execution_count": 45,
     "metadata": {},
     "output_type": "execute_result"
    },
    {
     "data": {
      "text/plain": [
       "GradientBoostingRegressor(alpha=0.9, criterion='friedman_mse', init=None,\n",
       "             learning_rate=0.1, loss='ls', max_depth=3, max_features=None,\n",
       "             max_leaf_nodes=None, min_impurity_decrease=0.0,\n",
       "             min_impurity_split=None, min_samples_leaf=8,\n",
       "             min_samples_split=22, min_weight_fraction_leaf=0.0,\n",
       "             n_estimators=40, n_iter_no_change=None, presort='auto',\n",
       "             random_state=1234, subsample=1.0, tol=0.0001,\n",
       "             validation_fraction=0.1, verbose=0, warm_start=False)"
      ]
     },
     "execution_count": 45,
     "metadata": {},
     "output_type": "execute_result"
    },
    {
     "data": {
      "text/plain": [
       "GradientBoostingRegressor(alpha=0.9, criterion='friedman_mse', init=None,\n",
       "             learning_rate=0.1, loss='ls', max_depth=3, max_features=None,\n",
       "             max_leaf_nodes=None, min_impurity_decrease=0.0,\n",
       "             min_impurity_split=None, min_samples_leaf=8,\n",
       "             min_samples_split=24, min_weight_fraction_leaf=0.0,\n",
       "             n_estimators=40, n_iter_no_change=None, presort='auto',\n",
       "             random_state=1234, subsample=1.0, tol=0.0001,\n",
       "             validation_fraction=0.1, verbose=0, warm_start=False)"
      ]
     },
     "execution_count": 45,
     "metadata": {},
     "output_type": "execute_result"
    },
    {
     "data": {
      "text/plain": [
       "GradientBoostingRegressor(alpha=0.9, criterion='friedman_mse', init=None,\n",
       "             learning_rate=0.1, loss='ls', max_depth=3, max_features=None,\n",
       "             max_leaf_nodes=None, min_impurity_decrease=0.0,\n",
       "             min_impurity_split=None, min_samples_leaf=8,\n",
       "             min_samples_split=26, min_weight_fraction_leaf=0.0,\n",
       "             n_estimators=40, n_iter_no_change=None, presort='auto',\n",
       "             random_state=1234, subsample=1.0, tol=0.0001,\n",
       "             validation_fraction=0.1, verbose=0, warm_start=False)"
      ]
     },
     "execution_count": 45,
     "metadata": {},
     "output_type": "execute_result"
    },
    {
     "data": {
      "text/plain": [
       "GradientBoostingRegressor(alpha=0.9, criterion='friedman_mse', init=None,\n",
       "             learning_rate=0.1, loss='ls', max_depth=3, max_features=None,\n",
       "             max_leaf_nodes=None, min_impurity_decrease=0.0,\n",
       "             min_impurity_split=None, min_samples_leaf=8,\n",
       "             min_samples_split=28, min_weight_fraction_leaf=0.0,\n",
       "             n_estimators=40, n_iter_no_change=None, presort='auto',\n",
       "             random_state=1234, subsample=1.0, tol=0.0001,\n",
       "             validation_fraction=0.1, verbose=0, warm_start=False)"
      ]
     },
     "execution_count": 45,
     "metadata": {},
     "output_type": "execute_result"
    },
    {
     "data": {
      "text/plain": [
       "GradientBoostingRegressor(alpha=0.9, criterion='friedman_mse', init=None,\n",
       "             learning_rate=0.1, loss='ls', max_depth=3, max_features=None,\n",
       "             max_leaf_nodes=None, min_impurity_decrease=0.0,\n",
       "             min_impurity_split=None, min_samples_leaf=8,\n",
       "             min_samples_split=30, min_weight_fraction_leaf=0.0,\n",
       "             n_estimators=40, n_iter_no_change=None, presort='auto',\n",
       "             random_state=1234, subsample=1.0, tol=0.0001,\n",
       "             validation_fraction=0.1, verbose=0, warm_start=False)"
      ]
     },
     "execution_count": 45,
     "metadata": {},
     "output_type": "execute_result"
    },
    {
     "data": {
      "text/plain": [
       "GradientBoostingRegressor(alpha=0.9, criterion='friedman_mse', init=None,\n",
       "             learning_rate=0.1, loss='ls', max_depth=3, max_features=None,\n",
       "             max_leaf_nodes=None, min_impurity_decrease=0.0,\n",
       "             min_impurity_split=None, min_samples_leaf=8,\n",
       "             min_samples_split=32, min_weight_fraction_leaf=0.0,\n",
       "             n_estimators=40, n_iter_no_change=None, presort='auto',\n",
       "             random_state=1234, subsample=1.0, tol=0.0001,\n",
       "             validation_fraction=0.1, verbose=0, warm_start=False)"
      ]
     },
     "execution_count": 45,
     "metadata": {},
     "output_type": "execute_result"
    },
    {
     "data": {
      "text/plain": [
       "GradientBoostingRegressor(alpha=0.9, criterion='friedman_mse', init=None,\n",
       "             learning_rate=0.1, loss='ls', max_depth=3, max_features=None,\n",
       "             max_leaf_nodes=None, min_impurity_decrease=0.0,\n",
       "             min_impurity_split=None, min_samples_leaf=8,\n",
       "             min_samples_split=34, min_weight_fraction_leaf=0.0,\n",
       "             n_estimators=40, n_iter_no_change=None, presort='auto',\n",
       "             random_state=1234, subsample=1.0, tol=0.0001,\n",
       "             validation_fraction=0.1, verbose=0, warm_start=False)"
      ]
     },
     "execution_count": 45,
     "metadata": {},
     "output_type": "execute_result"
    },
    {
     "data": {
      "text/plain": [
       "GradientBoostingRegressor(alpha=0.9, criterion='friedman_mse', init=None,\n",
       "             learning_rate=0.1, loss='ls', max_depth=3, max_features=None,\n",
       "             max_leaf_nodes=None, min_impurity_decrease=0.0,\n",
       "             min_impurity_split=None, min_samples_leaf=8,\n",
       "             min_samples_split=36, min_weight_fraction_leaf=0.0,\n",
       "             n_estimators=40, n_iter_no_change=None, presort='auto',\n",
       "             random_state=1234, subsample=1.0, tol=0.0001,\n",
       "             validation_fraction=0.1, verbose=0, warm_start=False)"
      ]
     },
     "execution_count": 45,
     "metadata": {},
     "output_type": "execute_result"
    },
    {
     "data": {
      "text/plain": [
       "GradientBoostingRegressor(alpha=0.9, criterion='friedman_mse', init=None,\n",
       "             learning_rate=0.1, loss='ls', max_depth=3, max_features=None,\n",
       "             max_leaf_nodes=None, min_impurity_decrease=0.0,\n",
       "             min_impurity_split=None, min_samples_leaf=8,\n",
       "             min_samples_split=38, min_weight_fraction_leaf=0.0,\n",
       "             n_estimators=40, n_iter_no_change=None, presort='auto',\n",
       "             random_state=1234, subsample=1.0, tol=0.0001,\n",
       "             validation_fraction=0.1, verbose=0, warm_start=False)"
      ]
     },
     "execution_count": 45,
     "metadata": {},
     "output_type": "execute_result"
    },
    {
     "data": {
      "text/plain": [
       "GradientBoostingRegressor(alpha=0.9, criterion='friedman_mse', init=None,\n",
       "             learning_rate=0.1, loss='ls', max_depth=3, max_features=None,\n",
       "             max_leaf_nodes=None, min_impurity_decrease=0.0,\n",
       "             min_impurity_split=None, min_samples_leaf=8,\n",
       "             min_samples_split=40, min_weight_fraction_leaf=0.0,\n",
       "             n_estimators=40, n_iter_no_change=None, presort='auto',\n",
       "             random_state=1234, subsample=1.0, tol=0.0001,\n",
       "             validation_fraction=0.1, verbose=0, warm_start=False)"
      ]
     },
     "execution_count": 45,
     "metadata": {},
     "output_type": "execute_result"
    },
    {
     "data": {
      "text/plain": [
       "GradientBoostingRegressor(alpha=0.9, criterion='friedman_mse', init=None,\n",
       "             learning_rate=0.1, loss='ls', max_depth=3, max_features=None,\n",
       "             max_leaf_nodes=None, min_impurity_decrease=0.0,\n",
       "             min_impurity_split=None, min_samples_leaf=8,\n",
       "             min_samples_split=42, min_weight_fraction_leaf=0.0,\n",
       "             n_estimators=40, n_iter_no_change=None, presort='auto',\n",
       "             random_state=1234, subsample=1.0, tol=0.0001,\n",
       "             validation_fraction=0.1, verbose=0, warm_start=False)"
      ]
     },
     "execution_count": 45,
     "metadata": {},
     "output_type": "execute_result"
    },
    {
     "data": {
      "text/plain": [
       "GradientBoostingRegressor(alpha=0.9, criterion='friedman_mse', init=None,\n",
       "             learning_rate=0.1, loss='ls', max_depth=3, max_features=None,\n",
       "             max_leaf_nodes=None, min_impurity_decrease=0.0,\n",
       "             min_impurity_split=None, min_samples_leaf=8,\n",
       "             min_samples_split=44, min_weight_fraction_leaf=0.0,\n",
       "             n_estimators=40, n_iter_no_change=None, presort='auto',\n",
       "             random_state=1234, subsample=1.0, tol=0.0001,\n",
       "             validation_fraction=0.1, verbose=0, warm_start=False)"
      ]
     },
     "execution_count": 45,
     "metadata": {},
     "output_type": "execute_result"
    },
    {
     "data": {
      "text/plain": [
       "GradientBoostingRegressor(alpha=0.9, criterion='friedman_mse', init=None,\n",
       "             learning_rate=0.1, loss='ls', max_depth=3, max_features=None,\n",
       "             max_leaf_nodes=None, min_impurity_decrease=0.0,\n",
       "             min_impurity_split=None, min_samples_leaf=8,\n",
       "             min_samples_split=46, min_weight_fraction_leaf=0.0,\n",
       "             n_estimators=40, n_iter_no_change=None, presort='auto',\n",
       "             random_state=1234, subsample=1.0, tol=0.0001,\n",
       "             validation_fraction=0.1, verbose=0, warm_start=False)"
      ]
     },
     "execution_count": 45,
     "metadata": {},
     "output_type": "execute_result"
    },
    {
     "data": {
      "text/plain": [
       "GradientBoostingRegressor(alpha=0.9, criterion='friedman_mse', init=None,\n",
       "             learning_rate=0.1, loss='ls', max_depth=3, max_features=None,\n",
       "             max_leaf_nodes=None, min_impurity_decrease=0.0,\n",
       "             min_impurity_split=None, min_samples_leaf=8,\n",
       "             min_samples_split=48, min_weight_fraction_leaf=0.0,\n",
       "             n_estimators=40, n_iter_no_change=None, presort='auto',\n",
       "             random_state=1234, subsample=1.0, tol=0.0001,\n",
       "             validation_fraction=0.1, verbose=0, warm_start=False)"
      ]
     },
     "execution_count": 45,
     "metadata": {},
     "output_type": "execute_result"
    },
    {
     "data": {
      "text/plain": [
       "GradientBoostingRegressor(alpha=0.9, criterion='friedman_mse', init=None,\n",
       "             learning_rate=0.1, loss='ls', max_depth=3, max_features=None,\n",
       "             max_leaf_nodes=None, min_impurity_decrease=0.0,\n",
       "             min_impurity_split=None, min_samples_leaf=8,\n",
       "             min_samples_split=50, min_weight_fraction_leaf=0.0,\n",
       "             n_estimators=40, n_iter_no_change=None, presort='auto',\n",
       "             random_state=1234, subsample=1.0, tol=0.0001,\n",
       "             validation_fraction=0.1, verbose=0, warm_start=False)"
      ]
     },
     "execution_count": 45,
     "metadata": {},
     "output_type": "execute_result"
    },
    {
     "data": {
      "text/plain": [
       "GradientBoostingRegressor(alpha=0.9, criterion='friedman_mse', init=None,\n",
       "             learning_rate=0.1, loss='ls', max_depth=3, max_features=None,\n",
       "             max_leaf_nodes=None, min_impurity_decrease=0.0,\n",
       "             min_impurity_split=None, min_samples_leaf=8,\n",
       "             min_samples_split=52, min_weight_fraction_leaf=0.0,\n",
       "             n_estimators=40, n_iter_no_change=None, presort='auto',\n",
       "             random_state=1234, subsample=1.0, tol=0.0001,\n",
       "             validation_fraction=0.1, verbose=0, warm_start=False)"
      ]
     },
     "execution_count": 45,
     "metadata": {},
     "output_type": "execute_result"
    },
    {
     "data": {
      "text/plain": [
       "GradientBoostingRegressor(alpha=0.9, criterion='friedman_mse', init=None,\n",
       "             learning_rate=0.1, loss='ls', max_depth=3, max_features=None,\n",
       "             max_leaf_nodes=None, min_impurity_decrease=0.0,\n",
       "             min_impurity_split=None, min_samples_leaf=8,\n",
       "             min_samples_split=54, min_weight_fraction_leaf=0.0,\n",
       "             n_estimators=40, n_iter_no_change=None, presort='auto',\n",
       "             random_state=1234, subsample=1.0, tol=0.0001,\n",
       "             validation_fraction=0.1, verbose=0, warm_start=False)"
      ]
     },
     "execution_count": 45,
     "metadata": {},
     "output_type": "execute_result"
    },
    {
     "data": {
      "text/plain": [
       "GradientBoostingRegressor(alpha=0.9, criterion='friedman_mse', init=None,\n",
       "             learning_rate=0.1, loss='ls', max_depth=3, max_features=None,\n",
       "             max_leaf_nodes=None, min_impurity_decrease=0.0,\n",
       "             min_impurity_split=None, min_samples_leaf=8,\n",
       "             min_samples_split=56, min_weight_fraction_leaf=0.0,\n",
       "             n_estimators=40, n_iter_no_change=None, presort='auto',\n",
       "             random_state=1234, subsample=1.0, tol=0.0001,\n",
       "             validation_fraction=0.1, verbose=0, warm_start=False)"
      ]
     },
     "execution_count": 45,
     "metadata": {},
     "output_type": "execute_result"
    },
    {
     "data": {
      "text/plain": [
       "GradientBoostingRegressor(alpha=0.9, criterion='friedman_mse', init=None,\n",
       "             learning_rate=0.1, loss='ls', max_depth=3, max_features=None,\n",
       "             max_leaf_nodes=None, min_impurity_decrease=0.0,\n",
       "             min_impurity_split=None, min_samples_leaf=8,\n",
       "             min_samples_split=58, min_weight_fraction_leaf=0.0,\n",
       "             n_estimators=40, n_iter_no_change=None, presort='auto',\n",
       "             random_state=1234, subsample=1.0, tol=0.0001,\n",
       "             validation_fraction=0.1, verbose=0, warm_start=False)"
      ]
     },
     "execution_count": 45,
     "metadata": {},
     "output_type": "execute_result"
    }
   ],
   "source": [
    "# train 및 test 설명력 결과 저장\n",
    "train_score=[]; test_score=[]\n",
    "\n",
    "para_split=[n_split*2 for n_split in range(5,30)]\n",
    "\n",
    "for v_min_samples_split in para_split:\n",
    "    gb=GradientBoostingRegressor(random_state=1234,n_estimators=40,min_samples_leaf=8, min_samples_split=v_min_samples_split)\n",
    "    gb.fit(X_train,y_train)\n",
    "    train_score.append(gb.score(X_train,y_train))\n",
    "    test_score.append(gb.score(X_test,y_test))\n",
    "    \n",
    "df_score_split=pd.DataFrame()\n",
    "df_score_split['MinSamplesSmplit']=para_split\n",
    "df_score_split['TrainScore']=train_score\n",
    "df_score_split['TestScore']=test_score"
   ]
  },
  {
   "cell_type": "code",
   "execution_count": 46,
   "metadata": {
    "hidden": true
   },
   "outputs": [
    {
     "data": {
      "text/html": [
       "<div>\n",
       "<style scoped>\n",
       "    .dataframe tbody tr th:only-of-type {\n",
       "        vertical-align: middle;\n",
       "    }\n",
       "\n",
       "    .dataframe tbody tr th {\n",
       "        vertical-align: top;\n",
       "    }\n",
       "\n",
       "    .dataframe thead th {\n",
       "        text-align: right;\n",
       "    }\n",
       "</style>\n",
       "<table border=\"1\" class=\"dataframe\">\n",
       "  <thead>\n",
       "    <tr style=\"text-align: right;\">\n",
       "      <th></th>\n",
       "      <th>MinSamplesSmplit</th>\n",
       "      <th>TrainScore</th>\n",
       "      <th>TestScore</th>\n",
       "    </tr>\n",
       "  </thead>\n",
       "  <tbody>\n",
       "    <tr>\n",
       "      <th>0</th>\n",
       "      <td>10</td>\n",
       "      <td>0.444</td>\n",
       "      <td>0.342</td>\n",
       "    </tr>\n",
       "    <tr>\n",
       "      <th>1</th>\n",
       "      <td>12</td>\n",
       "      <td>0.444</td>\n",
       "      <td>0.342</td>\n",
       "    </tr>\n",
       "    <tr>\n",
       "      <th>2</th>\n",
       "      <td>14</td>\n",
       "      <td>0.444</td>\n",
       "      <td>0.342</td>\n",
       "    </tr>\n",
       "    <tr>\n",
       "      <th>3</th>\n",
       "      <td>16</td>\n",
       "      <td>0.444</td>\n",
       "      <td>0.342</td>\n",
       "    </tr>\n",
       "    <tr>\n",
       "      <th>4</th>\n",
       "      <td>18</td>\n",
       "      <td>0.444</td>\n",
       "      <td>0.342</td>\n",
       "    </tr>\n",
       "    <tr>\n",
       "      <th>5</th>\n",
       "      <td>20</td>\n",
       "      <td>0.441</td>\n",
       "      <td>0.339</td>\n",
       "    </tr>\n",
       "    <tr>\n",
       "      <th>6</th>\n",
       "      <td>22</td>\n",
       "      <td>0.442</td>\n",
       "      <td>0.340</td>\n",
       "    </tr>\n",
       "    <tr>\n",
       "      <th>7</th>\n",
       "      <td>24</td>\n",
       "      <td>0.443</td>\n",
       "      <td>0.339</td>\n",
       "    </tr>\n",
       "    <tr>\n",
       "      <th>8</th>\n",
       "      <td>26</td>\n",
       "      <td>0.443</td>\n",
       "      <td>0.339</td>\n",
       "    </tr>\n",
       "    <tr>\n",
       "      <th>9</th>\n",
       "      <td>28</td>\n",
       "      <td>0.437</td>\n",
       "      <td>0.343</td>\n",
       "    </tr>\n",
       "    <tr>\n",
       "      <th>10</th>\n",
       "      <td>30</td>\n",
       "      <td>0.437</td>\n",
       "      <td>0.343</td>\n",
       "    </tr>\n",
       "    <tr>\n",
       "      <th>11</th>\n",
       "      <td>32</td>\n",
       "      <td>0.437</td>\n",
       "      <td>0.343</td>\n",
       "    </tr>\n",
       "    <tr>\n",
       "      <th>12</th>\n",
       "      <td>34</td>\n",
       "      <td>0.432</td>\n",
       "      <td>0.338</td>\n",
       "    </tr>\n",
       "    <tr>\n",
       "      <th>13</th>\n",
       "      <td>36</td>\n",
       "      <td>0.431</td>\n",
       "      <td>0.340</td>\n",
       "    </tr>\n",
       "    <tr>\n",
       "      <th>14</th>\n",
       "      <td>38</td>\n",
       "      <td>0.434</td>\n",
       "      <td>0.343</td>\n",
       "    </tr>\n",
       "    <tr>\n",
       "      <th>15</th>\n",
       "      <td>40</td>\n",
       "      <td>0.434</td>\n",
       "      <td>0.343</td>\n",
       "    </tr>\n",
       "    <tr>\n",
       "      <th>16</th>\n",
       "      <td>42</td>\n",
       "      <td>0.434</td>\n",
       "      <td>0.343</td>\n",
       "    </tr>\n",
       "    <tr>\n",
       "      <th>17</th>\n",
       "      <td>44</td>\n",
       "      <td>0.431</td>\n",
       "      <td>0.341</td>\n",
       "    </tr>\n",
       "    <tr>\n",
       "      <th>18</th>\n",
       "      <td>46</td>\n",
       "      <td>0.431</td>\n",
       "      <td>0.341</td>\n",
       "    </tr>\n",
       "    <tr>\n",
       "      <th>19</th>\n",
       "      <td>48</td>\n",
       "      <td>0.431</td>\n",
       "      <td>0.341</td>\n",
       "    </tr>\n",
       "    <tr>\n",
       "      <th>20</th>\n",
       "      <td>50</td>\n",
       "      <td>0.430</td>\n",
       "      <td>0.342</td>\n",
       "    </tr>\n",
       "    <tr>\n",
       "      <th>21</th>\n",
       "      <td>52</td>\n",
       "      <td>0.430</td>\n",
       "      <td>0.342</td>\n",
       "    </tr>\n",
       "    <tr>\n",
       "      <th>22</th>\n",
       "      <td>54</td>\n",
       "      <td>0.429</td>\n",
       "      <td>0.342</td>\n",
       "    </tr>\n",
       "    <tr>\n",
       "      <th>23</th>\n",
       "      <td>56</td>\n",
       "      <td>0.429</td>\n",
       "      <td>0.342</td>\n",
       "    </tr>\n",
       "    <tr>\n",
       "      <th>24</th>\n",
       "      <td>58</td>\n",
       "      <td>0.429</td>\n",
       "      <td>0.342</td>\n",
       "    </tr>\n",
       "  </tbody>\n",
       "</table>\n",
       "</div>"
      ],
      "text/plain": [
       "    MinSamplesSmplit  TrainScore  TestScore\n",
       "0                 10       0.444      0.342\n",
       "1                 12       0.444      0.342\n",
       "2                 14       0.444      0.342\n",
       "3                 16       0.444      0.342\n",
       "4                 18       0.444      0.342\n",
       "5                 20       0.441      0.339\n",
       "6                 22       0.442      0.340\n",
       "7                 24       0.443      0.339\n",
       "8                 26       0.443      0.339\n",
       "9                 28       0.437      0.343\n",
       "10                30       0.437      0.343\n",
       "11                32       0.437      0.343\n",
       "12                34       0.432      0.338\n",
       "13                36       0.431      0.340\n",
       "14                38       0.434      0.343\n",
       "15                40       0.434      0.343\n",
       "16                42       0.434      0.343\n",
       "17                44       0.431      0.341\n",
       "18                46       0.431      0.341\n",
       "19                48       0.431      0.341\n",
       "20                50       0.430      0.342\n",
       "21                52       0.430      0.342\n",
       "22                54       0.429      0.342\n",
       "23                56       0.429      0.342\n",
       "24                58       0.429      0.342"
      ]
     },
     "execution_count": 46,
     "metadata": {},
     "output_type": "execute_result"
    }
   ],
   "source": [
    "df_score_split.round(3)"
   ]
  },
  {
   "cell_type": "markdown",
   "metadata": {
    "hidden": true
   },
   "source": [
    "- 1) 20\n",
    "- 2) 26\n",
    "- 3) 28"
   ]
  },
  {
   "cell_type": "markdown",
   "metadata": {
    "heading_collapsed": true,
    "hidden": true
   },
   "source": [
    "#### max_depth"
   ]
  },
  {
   "cell_type": "code",
   "execution_count": 47,
   "metadata": {
    "hidden": true
   },
   "outputs": [
    {
     "data": {
      "text/plain": [
       "GradientBoostingRegressor(alpha=0.9, criterion='friedman_mse', init=None,\n",
       "             learning_rate=0.1, loss='ls', max_depth=3, max_features=None,\n",
       "             max_leaf_nodes=None, min_impurity_decrease=0.0,\n",
       "             min_impurity_split=None, min_samples_leaf=8,\n",
       "             min_samples_split=28, min_weight_fraction_leaf=0.0,\n",
       "             n_estimators=40, n_iter_no_change=None, presort='auto',\n",
       "             random_state=1234, subsample=1.0, tol=0.0001,\n",
       "             validation_fraction=0.1, verbose=0, warm_start=False)"
      ]
     },
     "execution_count": 47,
     "metadata": {},
     "output_type": "execute_result"
    },
    {
     "data": {
      "text/plain": [
       "GradientBoostingRegressor(alpha=0.9, criterion='friedman_mse', init=None,\n",
       "             learning_rate=0.1, loss='ls', max_depth=4, max_features=None,\n",
       "             max_leaf_nodes=None, min_impurity_decrease=0.0,\n",
       "             min_impurity_split=None, min_samples_leaf=8,\n",
       "             min_samples_split=28, min_weight_fraction_leaf=0.0,\n",
       "             n_estimators=40, n_iter_no_change=None, presort='auto',\n",
       "             random_state=1234, subsample=1.0, tol=0.0001,\n",
       "             validation_fraction=0.1, verbose=0, warm_start=False)"
      ]
     },
     "execution_count": 47,
     "metadata": {},
     "output_type": "execute_result"
    },
    {
     "data": {
      "text/plain": [
       "GradientBoostingRegressor(alpha=0.9, criterion='friedman_mse', init=None,\n",
       "             learning_rate=0.1, loss='ls', max_depth=5, max_features=None,\n",
       "             max_leaf_nodes=None, min_impurity_decrease=0.0,\n",
       "             min_impurity_split=None, min_samples_leaf=8,\n",
       "             min_samples_split=28, min_weight_fraction_leaf=0.0,\n",
       "             n_estimators=40, n_iter_no_change=None, presort='auto',\n",
       "             random_state=1234, subsample=1.0, tol=0.0001,\n",
       "             validation_fraction=0.1, verbose=0, warm_start=False)"
      ]
     },
     "execution_count": 47,
     "metadata": {},
     "output_type": "execute_result"
    },
    {
     "data": {
      "text/plain": [
       "GradientBoostingRegressor(alpha=0.9, criterion='friedman_mse', init=None,\n",
       "             learning_rate=0.1, loss='ls', max_depth=6, max_features=None,\n",
       "             max_leaf_nodes=None, min_impurity_decrease=0.0,\n",
       "             min_impurity_split=None, min_samples_leaf=8,\n",
       "             min_samples_split=28, min_weight_fraction_leaf=0.0,\n",
       "             n_estimators=40, n_iter_no_change=None, presort='auto',\n",
       "             random_state=1234, subsample=1.0, tol=0.0001,\n",
       "             validation_fraction=0.1, verbose=0, warm_start=False)"
      ]
     },
     "execution_count": 47,
     "metadata": {},
     "output_type": "execute_result"
    },
    {
     "data": {
      "text/plain": [
       "GradientBoostingRegressor(alpha=0.9, criterion='friedman_mse', init=None,\n",
       "             learning_rate=0.1, loss='ls', max_depth=7, max_features=None,\n",
       "             max_leaf_nodes=None, min_impurity_decrease=0.0,\n",
       "             min_impurity_split=None, min_samples_leaf=8,\n",
       "             min_samples_split=28, min_weight_fraction_leaf=0.0,\n",
       "             n_estimators=40, n_iter_no_change=None, presort='auto',\n",
       "             random_state=1234, subsample=1.0, tol=0.0001,\n",
       "             validation_fraction=0.1, verbose=0, warm_start=False)"
      ]
     },
     "execution_count": 47,
     "metadata": {},
     "output_type": "execute_result"
    },
    {
     "data": {
      "text/plain": [
       "GradientBoostingRegressor(alpha=0.9, criterion='friedman_mse', init=None,\n",
       "             learning_rate=0.1, loss='ls', max_depth=8, max_features=None,\n",
       "             max_leaf_nodes=None, min_impurity_decrease=0.0,\n",
       "             min_impurity_split=None, min_samples_leaf=8,\n",
       "             min_samples_split=28, min_weight_fraction_leaf=0.0,\n",
       "             n_estimators=40, n_iter_no_change=None, presort='auto',\n",
       "             random_state=1234, subsample=1.0, tol=0.0001,\n",
       "             validation_fraction=0.1, verbose=0, warm_start=False)"
      ]
     },
     "execution_count": 47,
     "metadata": {},
     "output_type": "execute_result"
    },
    {
     "data": {
      "text/plain": [
       "GradientBoostingRegressor(alpha=0.9, criterion='friedman_mse', init=None,\n",
       "             learning_rate=0.1, loss='ls', max_depth=9, max_features=None,\n",
       "             max_leaf_nodes=None, min_impurity_decrease=0.0,\n",
       "             min_impurity_split=None, min_samples_leaf=8,\n",
       "             min_samples_split=28, min_weight_fraction_leaf=0.0,\n",
       "             n_estimators=40, n_iter_no_change=None, presort='auto',\n",
       "             random_state=1234, subsample=1.0, tol=0.0001,\n",
       "             validation_fraction=0.1, verbose=0, warm_start=False)"
      ]
     },
     "execution_count": 47,
     "metadata": {},
     "output_type": "execute_result"
    }
   ],
   "source": [
    "# train 및 test 설명력 결과 저장\n",
    "train_score=[]; test_score=[]\n",
    "\n",
    "para_depth=[depth for depth in range(3,10)]\n",
    "\n",
    "for v_max_depth in para_depth:\n",
    "    gb=GradientBoostingRegressor(random_state=1234,n_estimators=40,min_samples_leaf=8, min_samples_split=28,max_depth=v_max_depth)\n",
    "    gb.fit(X_train,y_train)\n",
    "    train_score.append(gb.score(X_train,y_train))\n",
    "    test_score.append(gb.score(X_test,y_test))\n",
    "    \n",
    "df_score_depth=pd.DataFrame()\n",
    "df_score_depth['Depth']=para_depth\n",
    "df_score_depth['TrainScore']=train_score\n",
    "df_score_depth['TestScore']=test_score"
   ]
  },
  {
   "cell_type": "code",
   "execution_count": 48,
   "metadata": {
    "hidden": true
   },
   "outputs": [
    {
     "data": {
      "text/html": [
       "<div>\n",
       "<style scoped>\n",
       "    .dataframe tbody tr th:only-of-type {\n",
       "        vertical-align: middle;\n",
       "    }\n",
       "\n",
       "    .dataframe tbody tr th {\n",
       "        vertical-align: top;\n",
       "    }\n",
       "\n",
       "    .dataframe thead th {\n",
       "        text-align: right;\n",
       "    }\n",
       "</style>\n",
       "<table border=\"1\" class=\"dataframe\">\n",
       "  <thead>\n",
       "    <tr style=\"text-align: right;\">\n",
       "      <th></th>\n",
       "      <th>Depth</th>\n",
       "      <th>TrainScore</th>\n",
       "      <th>TestScore</th>\n",
       "    </tr>\n",
       "  </thead>\n",
       "  <tbody>\n",
       "    <tr>\n",
       "      <th>0</th>\n",
       "      <td>3</td>\n",
       "      <td>0.437</td>\n",
       "      <td>0.343</td>\n",
       "    </tr>\n",
       "    <tr>\n",
       "      <th>1</th>\n",
       "      <td>4</td>\n",
       "      <td>0.489</td>\n",
       "      <td>0.350</td>\n",
       "    </tr>\n",
       "    <tr>\n",
       "      <th>2</th>\n",
       "      <td>5</td>\n",
       "      <td>0.520</td>\n",
       "      <td>0.353</td>\n",
       "    </tr>\n",
       "    <tr>\n",
       "      <th>3</th>\n",
       "      <td>6</td>\n",
       "      <td>0.549</td>\n",
       "      <td>0.348</td>\n",
       "    </tr>\n",
       "    <tr>\n",
       "      <th>4</th>\n",
       "      <td>7</td>\n",
       "      <td>0.565</td>\n",
       "      <td>0.343</td>\n",
       "    </tr>\n",
       "    <tr>\n",
       "      <th>5</th>\n",
       "      <td>8</td>\n",
       "      <td>0.588</td>\n",
       "      <td>0.341</td>\n",
       "    </tr>\n",
       "    <tr>\n",
       "      <th>6</th>\n",
       "      <td>9</td>\n",
       "      <td>0.607</td>\n",
       "      <td>0.338</td>\n",
       "    </tr>\n",
       "  </tbody>\n",
       "</table>\n",
       "</div>"
      ],
      "text/plain": [
       "   Depth  TrainScore  TestScore\n",
       "0      3       0.437      0.343\n",
       "1      4       0.489      0.350\n",
       "2      5       0.520      0.353\n",
       "3      6       0.549      0.348\n",
       "4      7       0.565      0.343\n",
       "5      8       0.588      0.341\n",
       "6      9       0.607      0.338"
      ]
     },
     "execution_count": 48,
     "metadata": {},
     "output_type": "execute_result"
    },
    {
     "data": {
      "text/plain": [
       "[<matplotlib.lines.Line2D at 0x30824bbb70>]"
      ]
     },
     "execution_count": 48,
     "metadata": {},
     "output_type": "execute_result"
    },
    {
     "data": {
      "text/plain": [
       "[<matplotlib.lines.Line2D at 0x30823ded30>]"
      ]
     },
     "execution_count": 48,
     "metadata": {},
     "output_type": "execute_result"
    },
    {
     "data": {
      "text/plain": [
       "<matplotlib.legend.Legend at 0x3082459390>"
      ]
     },
     "execution_count": 48,
     "metadata": {},
     "output_type": "execute_result"
    },
    {
     "data": {
      "image/png": "[encoded data removed]",
      "text/plain": [
       "<Figure size 432x288 with 1 Axes>"
      ]
     },
     "metadata": {
      "needs_background": "light"
     },
     "output_type": "display_data"
    }
   ],
   "source": [
    "# 모델 설명력 확인\n",
    "df_score_depth.round(3)\n",
    "# 모델 설명력 그래프 확인\n",
    "plt.plot(para_depth,train_score,linestyle='-',label='Train Score')\n",
    "plt.plot(para_depth,test_score,linestyle='--',label='Test Score')\n",
    "plt.legend()"
   ]
  },
  {
   "cell_type": "markdown",
   "metadata": {
    "hidden": true
   },
   "source": [
    "- 1) 4\n",
    "- 2) 6\n",
    "- 3) 5"
   ]
  },
  {
   "cell_type": "markdown",
   "metadata": {
    "heading_collapsed": true,
    "hidden": true
   },
   "source": [
    "#### learning_rate"
   ]
  },
  {
   "cell_type": "code",
   "execution_count": 49,
   "metadata": {
    "hidden": true
   },
   "outputs": [
    {
     "data": {
      "text/plain": [
       "GradientBoostingRegressor(alpha=0.9, criterion='friedman_mse', init=None,\n",
       "             learning_rate=0.05, loss='ls', max_depth=5, max_features=None,\n",
       "             max_leaf_nodes=None, min_impurity_decrease=0.0,\n",
       "             min_impurity_split=None, min_samples_leaf=8,\n",
       "             min_samples_split=28, min_weight_fraction_leaf=0.0,\n",
       "             n_estimators=40, n_iter_no_change=None, presort='auto',\n",
       "             random_state=1234, subsample=1.0, tol=0.0001,\n",
       "             validation_fraction=0.1, verbose=0, warm_start=False)"
      ]
     },
     "execution_count": 49,
     "metadata": {},
     "output_type": "execute_result"
    },
    {
     "data": {
      "text/plain": [
       "GradientBoostingRegressor(alpha=0.9, criterion='friedman_mse', init=None,\n",
       "             learning_rate=0.06, loss='ls', max_depth=5, max_features=None,\n",
       "             max_leaf_nodes=None, min_impurity_decrease=0.0,\n",
       "             min_impurity_split=None, min_samples_leaf=8,\n",
       "             min_samples_split=28, min_weight_fraction_leaf=0.0,\n",
       "             n_estimators=40, n_iter_no_change=None, presort='auto',\n",
       "             random_state=1234, subsample=1.0, tol=0.0001,\n",
       "             validation_fraction=0.1, verbose=0, warm_start=False)"
      ]
     },
     "execution_count": 49,
     "metadata": {},
     "output_type": "execute_result"
    },
    {
     "data": {
      "text/plain": [
       "GradientBoostingRegressor(alpha=0.9, criterion='friedman_mse', init=None,\n",
       "             learning_rate=0.07, loss='ls', max_depth=5, max_features=None,\n",
       "             max_leaf_nodes=None, min_impurity_decrease=0.0,\n",
       "             min_impurity_split=None, min_samples_leaf=8,\n",
       "             min_samples_split=28, min_weight_fraction_leaf=0.0,\n",
       "             n_estimators=40, n_iter_no_change=None, presort='auto',\n",
       "             random_state=1234, subsample=1.0, tol=0.0001,\n",
       "             validation_fraction=0.1, verbose=0, warm_start=False)"
      ]
     },
     "execution_count": 49,
     "metadata": {},
     "output_type": "execute_result"
    },
    {
     "data": {
      "text/plain": [
       "GradientBoostingRegressor(alpha=0.9, criterion='friedman_mse', init=None,\n",
       "             learning_rate=0.08, loss='ls', max_depth=5, max_features=None,\n",
       "             max_leaf_nodes=None, min_impurity_decrease=0.0,\n",
       "             min_impurity_split=None, min_samples_leaf=8,\n",
       "             min_samples_split=28, min_weight_fraction_leaf=0.0,\n",
       "             n_estimators=40, n_iter_no_change=None, presort='auto',\n",
       "             random_state=1234, subsample=1.0, tol=0.0001,\n",
       "             validation_fraction=0.1, verbose=0, warm_start=False)"
      ]
     },
     "execution_count": 49,
     "metadata": {},
     "output_type": "execute_result"
    },
    {
     "data": {
      "text/plain": [
       "GradientBoostingRegressor(alpha=0.9, criterion='friedman_mse', init=None,\n",
       "             learning_rate=0.09, loss='ls', max_depth=5, max_features=None,\n",
       "             max_leaf_nodes=None, min_impurity_decrease=0.0,\n",
       "             min_impurity_split=None, min_samples_leaf=8,\n",
       "             min_samples_split=28, min_weight_fraction_leaf=0.0,\n",
       "             n_estimators=40, n_iter_no_change=None, presort='auto',\n",
       "             random_state=1234, subsample=1.0, tol=0.0001,\n",
       "             validation_fraction=0.1, verbose=0, warm_start=False)"
      ]
     },
     "execution_count": 49,
     "metadata": {},
     "output_type": "execute_result"
    },
    {
     "data": {
      "text/plain": [
       "GradientBoostingRegressor(alpha=0.9, criterion='friedman_mse', init=None,\n",
       "             learning_rate=0.1, loss='ls', max_depth=5, max_features=None,\n",
       "             max_leaf_nodes=None, min_impurity_decrease=0.0,\n",
       "             min_impurity_split=None, min_samples_leaf=8,\n",
       "             min_samples_split=28, min_weight_fraction_leaf=0.0,\n",
       "             n_estimators=40, n_iter_no_change=None, presort='auto',\n",
       "             random_state=1234, subsample=1.0, tol=0.0001,\n",
       "             validation_fraction=0.1, verbose=0, warm_start=False)"
      ]
     },
     "execution_count": 49,
     "metadata": {},
     "output_type": "execute_result"
    },
    {
     "data": {
      "text/plain": [
       "GradientBoostingRegressor(alpha=0.9, criterion='friedman_mse', init=None,\n",
       "             learning_rate=0.11, loss='ls', max_depth=5, max_features=None,\n",
       "             max_leaf_nodes=None, min_impurity_decrease=0.0,\n",
       "             min_impurity_split=None, min_samples_leaf=8,\n",
       "             min_samples_split=28, min_weight_fraction_leaf=0.0,\n",
       "             n_estimators=40, n_iter_no_change=None, presort='auto',\n",
       "             random_state=1234, subsample=1.0, tol=0.0001,\n",
       "             validation_fraction=0.1, verbose=0, warm_start=False)"
      ]
     },
     "execution_count": 49,
     "metadata": {},
     "output_type": "execute_result"
    },
    {
     "data": {
      "text/plain": [
       "GradientBoostingRegressor(alpha=0.9, criterion='friedman_mse', init=None,\n",
       "             learning_rate=0.12, loss='ls', max_depth=5, max_features=None,\n",
       "             max_leaf_nodes=None, min_impurity_decrease=0.0,\n",
       "             min_impurity_split=None, min_samples_leaf=8,\n",
       "             min_samples_split=28, min_weight_fraction_leaf=0.0,\n",
       "             n_estimators=40, n_iter_no_change=None, presort='auto',\n",
       "             random_state=1234, subsample=1.0, tol=0.0001,\n",
       "             validation_fraction=0.1, verbose=0, warm_start=False)"
      ]
     },
     "execution_count": 49,
     "metadata": {},
     "output_type": "execute_result"
    },
    {
     "data": {
      "text/plain": [
       "GradientBoostingRegressor(alpha=0.9, criterion='friedman_mse', init=None,\n",
       "             learning_rate=0.13, loss='ls', max_depth=5, max_features=None,\n",
       "             max_leaf_nodes=None, min_impurity_decrease=0.0,\n",
       "             min_impurity_split=None, min_samples_leaf=8,\n",
       "             min_samples_split=28, min_weight_fraction_leaf=0.0,\n",
       "             n_estimators=40, n_iter_no_change=None, presort='auto',\n",
       "             random_state=1234, subsample=1.0, tol=0.0001,\n",
       "             validation_fraction=0.1, verbose=0, warm_start=False)"
      ]
     },
     "execution_count": 49,
     "metadata": {},
     "output_type": "execute_result"
    },
    {
     "data": {
      "text/plain": [
       "GradientBoostingRegressor(alpha=0.9, criterion='friedman_mse', init=None,\n",
       "             learning_rate=0.14, loss='ls', max_depth=5, max_features=None,\n",
       "             max_leaf_nodes=None, min_impurity_decrease=0.0,\n",
       "             min_impurity_split=None, min_samples_leaf=8,\n",
       "             min_samples_split=28, min_weight_fraction_leaf=0.0,\n",
       "             n_estimators=40, n_iter_no_change=None, presort='auto',\n",
       "             random_state=1234, subsample=1.0, tol=0.0001,\n",
       "             validation_fraction=0.1, verbose=0, warm_start=False)"
      ]
     },
     "execution_count": 49,
     "metadata": {},
     "output_type": "execute_result"
    },
    {
     "data": {
      "text/plain": [
       "GradientBoostingRegressor(alpha=0.9, criterion='friedman_mse', init=None,\n",
       "             learning_rate=0.15, loss='ls', max_depth=5, max_features=None,\n",
       "             max_leaf_nodes=None, min_impurity_decrease=0.0,\n",
       "             min_impurity_split=None, min_samples_leaf=8,\n",
       "             min_samples_split=28, min_weight_fraction_leaf=0.0,\n",
       "             n_estimators=40, n_iter_no_change=None, presort='auto',\n",
       "             random_state=1234, subsample=1.0, tol=0.0001,\n",
       "             validation_fraction=0.1, verbose=0, warm_start=False)"
      ]
     },
     "execution_count": 49,
     "metadata": {},
     "output_type": "execute_result"
    },
    {
     "data": {
      "text/plain": [
       "GradientBoostingRegressor(alpha=0.9, criterion='friedman_mse', init=None,\n",
       "             learning_rate=0.16, loss='ls', max_depth=5, max_features=None,\n",
       "             max_leaf_nodes=None, min_impurity_decrease=0.0,\n",
       "             min_impurity_split=None, min_samples_leaf=8,\n",
       "             min_samples_split=28, min_weight_fraction_leaf=0.0,\n",
       "             n_estimators=40, n_iter_no_change=None, presort='auto',\n",
       "             random_state=1234, subsample=1.0, tol=0.0001,\n",
       "             validation_fraction=0.1, verbose=0, warm_start=False)"
      ]
     },
     "execution_count": 49,
     "metadata": {},
     "output_type": "execute_result"
    },
    {
     "data": {
      "text/plain": [
       "GradientBoostingRegressor(alpha=0.9, criterion='friedman_mse', init=None,\n",
       "             learning_rate=0.17, loss='ls', max_depth=5, max_features=None,\n",
       "             max_leaf_nodes=None, min_impurity_decrease=0.0,\n",
       "             min_impurity_split=None, min_samples_leaf=8,\n",
       "             min_samples_split=28, min_weight_fraction_leaf=0.0,\n",
       "             n_estimators=40, n_iter_no_change=None, presort='auto',\n",
       "             random_state=1234, subsample=1.0, tol=0.0001,\n",
       "             validation_fraction=0.1, verbose=0, warm_start=False)"
      ]
     },
     "execution_count": 49,
     "metadata": {},
     "output_type": "execute_result"
    },
    {
     "data": {
      "text/plain": [
       "GradientBoostingRegressor(alpha=0.9, criterion='friedman_mse', init=None,\n",
       "             learning_rate=0.18, loss='ls', max_depth=5, max_features=None,\n",
       "             max_leaf_nodes=None, min_impurity_decrease=0.0,\n",
       "             min_impurity_split=None, min_samples_leaf=8,\n",
       "             min_samples_split=28, min_weight_fraction_leaf=0.0,\n",
       "             n_estimators=40, n_iter_no_change=None, presort='auto',\n",
       "             random_state=1234, subsample=1.0, tol=0.0001,\n",
       "             validation_fraction=0.1, verbose=0, warm_start=False)"
      ]
     },
     "execution_count": 49,
     "metadata": {},
     "output_type": "execute_result"
    },
    {
     "data": {
      "text/plain": [
       "GradientBoostingRegressor(alpha=0.9, criterion='friedman_mse', init=None,\n",
       "             learning_rate=0.19, loss='ls', max_depth=5, max_features=None,\n",
       "             max_leaf_nodes=None, min_impurity_decrease=0.0,\n",
       "             min_impurity_split=None, min_samples_leaf=8,\n",
       "             min_samples_split=28, min_weight_fraction_leaf=0.0,\n",
       "             n_estimators=40, n_iter_no_change=None, presort='auto',\n",
       "             random_state=1234, subsample=1.0, tol=0.0001,\n",
       "             validation_fraction=0.1, verbose=0, warm_start=False)"
      ]
     },
     "execution_count": 49,
     "metadata": {},
     "output_type": "execute_result"
    }
   ],
   "source": [
    "# train 및 test 설명력 결과 저장\n",
    "train_score=[]; test_score=[]\n",
    "\n",
    "para_lr=[lr*0.01 for lr in range(5,20)]\n",
    "\n",
    "for v_learning_rate in para_lr:\n",
    "    gb=GradientBoostingRegressor(random_state=1234,n_estimators=40,min_samples_leaf=8, min_samples_split=28,max_depth=5,learning_rate=v_learning_rate)\n",
    "    gb.fit(X_train,y_train)\n",
    "    train_score.append(gb.score(X_train,y_train))\n",
    "    test_score.append(gb.score(X_test,y_test))\n",
    "    \n",
    "df_score_lr=pd.DataFrame()\n",
    "df_score_lr['LearningRate']=para_lr\n",
    "df_score_lr['TrainScore']=train_score\n",
    "df_score_lr['TestScore']=test_score"
   ]
  },
  {
   "cell_type": "code",
   "execution_count": 50,
   "metadata": {
    "hidden": true
   },
   "outputs": [
    {
     "data": {
      "text/html": [
       "<div>\n",
       "<style scoped>\n",
       "    .dataframe tbody tr th:only-of-type {\n",
       "        vertical-align: middle;\n",
       "    }\n",
       "\n",
       "    .dataframe tbody tr th {\n",
       "        vertical-align: top;\n",
       "    }\n",
       "\n",
       "    .dataframe thead th {\n",
       "        text-align: right;\n",
       "    }\n",
       "</style>\n",
       "<table border=\"1\" class=\"dataframe\">\n",
       "  <thead>\n",
       "    <tr style=\"text-align: right;\">\n",
       "      <th></th>\n",
       "      <th>LearningRate</th>\n",
       "      <th>TrainScore</th>\n",
       "      <th>TestScore</th>\n",
       "    </tr>\n",
       "  </thead>\n",
       "  <tbody>\n",
       "    <tr>\n",
       "      <th>0</th>\n",
       "      <td>0.05</td>\n",
       "      <td>0.467</td>\n",
       "      <td>0.349</td>\n",
       "    </tr>\n",
       "    <tr>\n",
       "      <th>1</th>\n",
       "      <td>0.06</td>\n",
       "      <td>0.479</td>\n",
       "      <td>0.353</td>\n",
       "    </tr>\n",
       "    <tr>\n",
       "      <th>2</th>\n",
       "      <td>0.07</td>\n",
       "      <td>0.493</td>\n",
       "      <td>0.352</td>\n",
       "    </tr>\n",
       "    <tr>\n",
       "      <th>3</th>\n",
       "      <td>0.08</td>\n",
       "      <td>0.504</td>\n",
       "      <td>0.353</td>\n",
       "    </tr>\n",
       "    <tr>\n",
       "      <th>4</th>\n",
       "      <td>0.09</td>\n",
       "      <td>0.516</td>\n",
       "      <td>0.346</td>\n",
       "    </tr>\n",
       "    <tr>\n",
       "      <th>5</th>\n",
       "      <td>0.10</td>\n",
       "      <td>0.520</td>\n",
       "      <td>0.353</td>\n",
       "    </tr>\n",
       "    <tr>\n",
       "      <th>6</th>\n",
       "      <td>0.11</td>\n",
       "      <td>0.525</td>\n",
       "      <td>0.346</td>\n",
       "    </tr>\n",
       "    <tr>\n",
       "      <th>7</th>\n",
       "      <td>0.12</td>\n",
       "      <td>0.528</td>\n",
       "      <td>0.351</td>\n",
       "    </tr>\n",
       "    <tr>\n",
       "      <th>8</th>\n",
       "      <td>0.13</td>\n",
       "      <td>0.532</td>\n",
       "      <td>0.350</td>\n",
       "    </tr>\n",
       "    <tr>\n",
       "      <th>9</th>\n",
       "      <td>0.14</td>\n",
       "      <td>0.538</td>\n",
       "      <td>0.344</td>\n",
       "    </tr>\n",
       "    <tr>\n",
       "      <th>10</th>\n",
       "      <td>0.15</td>\n",
       "      <td>0.537</td>\n",
       "      <td>0.351</td>\n",
       "    </tr>\n",
       "    <tr>\n",
       "      <th>11</th>\n",
       "      <td>0.16</td>\n",
       "      <td>0.542</td>\n",
       "      <td>0.348</td>\n",
       "    </tr>\n",
       "    <tr>\n",
       "      <th>12</th>\n",
       "      <td>0.17</td>\n",
       "      <td>0.545</td>\n",
       "      <td>0.338</td>\n",
       "    </tr>\n",
       "    <tr>\n",
       "      <th>13</th>\n",
       "      <td>0.18</td>\n",
       "      <td>0.550</td>\n",
       "      <td>0.344</td>\n",
       "    </tr>\n",
       "    <tr>\n",
       "      <th>14</th>\n",
       "      <td>0.19</td>\n",
       "      <td>0.558</td>\n",
       "      <td>0.339</td>\n",
       "    </tr>\n",
       "  </tbody>\n",
       "</table>\n",
       "</div>"
      ],
      "text/plain": [
       "    LearningRate  TrainScore  TestScore\n",
       "0           0.05       0.467      0.349\n",
       "1           0.06       0.479      0.353\n",
       "2           0.07       0.493      0.352\n",
       "3           0.08       0.504      0.353\n",
       "4           0.09       0.516      0.346\n",
       "5           0.10       0.520      0.353\n",
       "6           0.11       0.525      0.346\n",
       "7           0.12       0.528      0.351\n",
       "8           0.13       0.532      0.350\n",
       "9           0.14       0.538      0.344\n",
       "10          0.15       0.537      0.351\n",
       "11          0.16       0.542      0.348\n",
       "12          0.17       0.545      0.338\n",
       "13          0.18       0.550      0.344\n",
       "14          0.19       0.558      0.339"
      ]
     },
     "execution_count": 50,
     "metadata": {},
     "output_type": "execute_result"
    },
    {
     "data": {
      "text/plain": [
       "[<matplotlib.lines.Line2D at 0x308252bcc0>]"
      ]
     },
     "execution_count": 50,
     "metadata": {},
     "output_type": "execute_result"
    },
    {
     "data": {
      "text/plain": [
       "[<matplotlib.lines.Line2D at 0x30824f7780>]"
      ]
     },
     "execution_count": 50,
     "metadata": {},
     "output_type": "execute_result"
    },
    {
     "data": {
      "text/plain": [
       "<matplotlib.legend.Legend at 0x30824f7160>"
      ]
     },
     "execution_count": 50,
     "metadata": {},
     "output_type": "execute_result"
    },
    {
     "data": {
      "image/png": "[encoded data removed]",
      "text/plain": [
       "<Figure size 432x288 with 1 Axes>"
      ]
     },
     "metadata": {
      "needs_background": "light"
     },
     "output_type": "display_data"
    }
   ],
   "source": [
    "df_score_lr.round(3)\n",
    "# 모델 설명력 그래프 확인\n",
    "plt.plot(para_lr,train_score,linestyle='-',label='Train Score')\n",
    "plt.plot(para_lr,test_score,linestyle='--',label='Test Score')\n",
    "plt.legend()"
   ]
  },
  {
   "cell_type": "markdown",
   "metadata": {
    "hidden": true
   },
   "source": [
    "- 1) 0.07\n",
    "- 2) 0.1"
   ]
  },
  {
   "cell_type": "markdown",
   "metadata": {
    "heading_collapsed": true,
    "hidden": true
   },
   "source": [
    "#### GridSearchCV"
   ]
  },
  {
   "cell_type": "code",
   "execution_count": 51,
   "metadata": {
    "hidden": true
   },
   "outputs": [
    {
     "data": {
      "text/plain": [
       "GridSearchCV(cv=3, error_score='raise-deprecating',\n",
       "       estimator=GradientBoostingRegressor(alpha=0.9, criterion='friedman_mse', init=None,\n",
       "             learning_rate=0.19, loss='ls', max_depth=5, max_features=None,\n",
       "             max_leaf_nodes=None, min_impurity_decrease=0.0,\n",
       "             min_impurity_split=None, min_samples_leaf=8,\n",
       "             min_samp...=1234, subsample=1.0, tol=0.0001,\n",
       "             validation_fraction=0.1, verbose=0, warm_start=False),\n",
       "       fit_params=None, iid='warn', n_jobs=None,\n",
       "       param_grid=[{'n_estimators': [35, 40, 45, 50], 'min_samples_leaf': [7, 8, 9, 10], 'min_samples_split': [22, 23, 24, 25], 'max_depth': [3, 4, 5, 6], 'learning_rate': [0.1]}],\n",
       "       pre_dispatch='2*n_jobs', refit=True, return_train_score='warn',\n",
       "       scoring=None, verbose=0)"
      ]
     },
     "execution_count": 51,
     "metadata": {},
     "output_type": "execute_result"
    },
    {
     "data": {
      "text/plain": [
       "{'learning_rate': 0.1,\n",
       " 'max_depth': 4,\n",
       " 'min_samples_leaf': 9,\n",
       " 'min_samples_split': 23,\n",
       " 'n_estimators': 50}"
      ]
     },
     "execution_count": 51,
     "metadata": {},
     "output_type": "execute_result"
    },
    {
     "data": {
      "text/plain": [
       "GradientBoostingRegressor(alpha=0.9, criterion='friedman_mse', init=None,\n",
       "             learning_rate=0.1, loss='ls', max_depth=4, max_features=None,\n",
       "             max_leaf_nodes=None, min_impurity_decrease=0.0,\n",
       "             min_impurity_split=None, min_samples_leaf=9,\n",
       "             min_samples_split=23, min_weight_fraction_leaf=0.0,\n",
       "             n_estimators=50, n_iter_no_change=None, presort='auto',\n",
       "             random_state=1234, subsample=1.0, tol=0.0001,\n",
       "             validation_fraction=0.1, verbose=0, warm_start=False)"
      ]
     },
     "execution_count": 51,
     "metadata": {},
     "output_type": "execute_result"
    }
   ],
   "source": [
    "param_grid = [ {'n_estimators' : [35,40,45,50],'min_samples_leaf' : [7,8,9,10],'min_samples_split' : [22,23,24,25], \n",
    "                'max_depth': [3,4,5,6],'learning_rate': [0.1] } ] \n",
    "\n",
    "grid_search = GridSearchCV(gb,param_grid,cv=3)\n",
    "grid_search.fit(X_train,y_train)\n",
    "grid_search.best_params_ # 사용자 지정 중 최적 파라미터\n",
    "grid_search.best_estimator_ # 전체 중 최적 파라미터"
   ]
  },
  {
   "cell_type": "markdown",
   "metadata": {
    "hidden": true
   },
   "source": [
    "### 최종 모델 생성"
   ]
  },
  {
   "cell_type": "code",
   "execution_count": 52,
   "metadata": {
    "hidden": true
   },
   "outputs": [
    {
     "data": {
      "text/plain": [
       "GradientBoostingRegressor(alpha=0.9, criterion='friedman_mse', init=None,\n",
       "             learning_rate=0.1, loss='ls', max_depth=5, max_features=None,\n",
       "             max_leaf_nodes=None, min_impurity_decrease=0.0,\n",
       "             min_impurity_split=None, min_samples_leaf=8,\n",
       "             min_samples_split=28, min_weight_fraction_leaf=0.0,\n",
       "             n_estimators=40, n_iter_no_change=None, presort='auto',\n",
       "             random_state=1234, subsample=1.0, tol=0.0001,\n",
       "             validation_fraction=0.1, verbose=0, warm_start=False)"
      ]
     },
     "execution_count": 52,
     "metadata": {},
     "output_type": "execute_result"
    },
    {
     "data": {
      "text/plain": [
       "GradientBoostingRegressor(alpha=0.9, criterion='friedman_mse', init=None,\n",
       "             learning_rate=0.1, loss='ls', max_depth=4, max_features=None,\n",
       "             max_leaf_nodes=None, min_impurity_decrease=0.0,\n",
       "             min_impurity_split=None, min_samples_leaf=9,\n",
       "             min_samples_split=23, min_weight_fraction_leaf=0.0,\n",
       "             n_estimators=50, n_iter_no_change=None, presort='auto',\n",
       "             random_state=1234, subsample=1.0, tol=0.0001,\n",
       "             validation_fraction=0.1, verbose=0, warm_start=False)"
      ]
     },
     "execution_count": 52,
     "metadata": {},
     "output_type": "execute_result"
    }
   ],
   "source": [
    "# 내가 찾은 파라미터\n",
    "gb_final=GradientBoostingRegressor(n_estimators=40,min_samples_leaf=8, min_samples_split=28,max_depth=5,learning_rate=0.1, random_state=1234)\n",
    "gb_final.fit(X_train,y_train)\n",
    "\n",
    "# 그리드 서치 파라미터\n",
    "gb_final_GS=GradientBoostingRegressor(n_estimators=50,min_samples_leaf=9,min_samples_split=23,max_depth=4,learning_rate=0.1,random_state=1234)\n",
    "gb_final_GS.fit(X_train,y_train)"
   ]
  },
  {
   "cell_type": "code",
   "execution_count": 53,
   "metadata": {
    "hidden": true,
    "scrolled": false
   },
   "outputs": [
    {
     "name": "stdout",
     "output_type": "stream",
     "text": [
      "Score on training set:0.520\n",
      "* Score on test set:0.353\n",
      "Score on training set:0.510\n",
      "* Score on test set:0.349\n"
     ]
    }
   ],
   "source": [
    "print('Score on training set:{:.3f}'.format(gb_final.score(X_train,y_train)))\n",
    "print('* Score on test set:{:.3f}'.format(gb_final.score(X_test,y_test)))\n",
    "\n",
    "print('Score on training set:{:.3f}'.format(gb_final_GS.score(X_train,y_train)))\n",
    "print('* Score on test set:{:.3f}'.format(gb_final_GS.score(X_test,y_test)))"
   ]
  },
  {
   "cell_type": "code",
   "execution_count": 54,
   "metadata": {
    "hidden": true
   },
   "outputs": [
    {
     "data": {
      "text/html": [
       "<div>\n",
       "<style scoped>\n",
       "    .dataframe tbody tr th:only-of-type {\n",
       "        vertical-align: middle;\n",
       "    }\n",
       "\n",
       "    .dataframe tbody tr th {\n",
       "        vertical-align: top;\n",
       "    }\n",
       "\n",
       "    .dataframe thead th {\n",
       "        text-align: right;\n",
       "    }\n",
       "</style>\n",
       "<table border=\"1\" class=\"dataframe\">\n",
       "  <thead>\n",
       "    <tr style=\"text-align: right;\">\n",
       "      <th></th>\n",
       "      <th>Feature</th>\n",
       "      <th>Importance</th>\n",
       "    </tr>\n",
       "  </thead>\n",
       "  <tbody>\n",
       "    <tr>\n",
       "      <th>0</th>\n",
       "      <td>subscribers</td>\n",
       "      <td>0.501</td>\n",
       "    </tr>\n",
       "    <tr>\n",
       "      <th>1</th>\n",
       "      <td>days_after_upload</td>\n",
       "      <td>0.246</td>\n",
       "    </tr>\n",
       "    <tr>\n",
       "      <th>2</th>\n",
       "      <td>name*weight</td>\n",
       "      <td>0.088</td>\n",
       "    </tr>\n",
       "    <tr>\n",
       "      <th>6</th>\n",
       "      <td>youtuber_id_3</td>\n",
       "      <td>0.077</td>\n",
       "    </tr>\n",
       "    <tr>\n",
       "      <th>7</th>\n",
       "      <td>youtuber_id_4</td>\n",
       "      <td>0.063</td>\n",
       "    </tr>\n",
       "    <tr>\n",
       "      <th>9</th>\n",
       "      <td>youtuber_id_6</td>\n",
       "      <td>0.018</td>\n",
       "    </tr>\n",
       "    <tr>\n",
       "      <th>3</th>\n",
       "      <td>youtuber_id_0</td>\n",
       "      <td>0.004</td>\n",
       "    </tr>\n",
       "    <tr>\n",
       "      <th>5</th>\n",
       "      <td>youtuber_id_2</td>\n",
       "      <td>0.002</td>\n",
       "    </tr>\n",
       "    <tr>\n",
       "      <th>4</th>\n",
       "      <td>youtuber_id_1</td>\n",
       "      <td>0.001</td>\n",
       "    </tr>\n",
       "    <tr>\n",
       "      <th>8</th>\n",
       "      <td>youtuber_id_5</td>\n",
       "      <td>0.001</td>\n",
       "    </tr>\n",
       "  </tbody>\n",
       "</table>\n",
       "</div>"
      ],
      "text/plain": [
       "             Feature  Importance\n",
       "0        subscribers       0.501\n",
       "1  days_after_upload       0.246\n",
       "2        name*weight       0.088\n",
       "6      youtuber_id_3       0.077\n",
       "7      youtuber_id_4       0.063\n",
       "9      youtuber_id_6       0.018\n",
       "3      youtuber_id_0       0.004\n",
       "5      youtuber_id_2       0.002\n",
       "4      youtuber_id_1       0.001\n",
       "8      youtuber_id_5       0.001"
      ]
     },
     "execution_count": 54,
     "metadata": {},
     "output_type": "execute_result"
    }
   ],
   "source": [
    "gb_importance=pd.DataFrame()\n",
    "gb_importance['Feature']= X_train.columns\n",
    "gb_importance['Importance']=gb_final.feature_importances_\n",
    "\n",
    "# df_feature_importance의 테이블을 중요도별로 정렬\n",
    "gb_importance.sort_values('Importance',ascending=False,inplace=True)\n",
    "gb_importance.round(3)"
   ]
  },
  {
   "cell_type": "markdown",
   "metadata": {
    "heading_collapsed": true
   },
   "source": [
    "## Lasso Regression X\n",
    "R^2 score on training set 0.301  \n",
    "R^2 score on test set 0.309"
   ]
  },
  {
   "cell_type": "code",
   "execution_count": 55,
   "metadata": {
    "hidden": true
   },
   "outputs": [],
   "source": [
    "from sklearn.linear_model import Lasso"
   ]
  },
  {
   "cell_type": "code",
   "execution_count": 138,
   "metadata": {
    "hidden": true
   },
   "outputs": [
    {
     "name": "stderr",
     "output_type": "stream",
     "text": [
      "C:\\Users\\LG\\Anaconda3\\lib\\site-packages\\sklearn\\linear_model\\coordinate_descent.py:492: ConvergenceWarning: Objective did not converge. You might want to increase the number of iterations. Fitting data with very small alpha may cause precision problems.\n",
      "  ConvergenceWarning)\n"
     ]
    },
    {
     "data": {
      "text/plain": [
       "Lasso(alpha=0.1, copy_X=True, fit_intercept=True, max_iter=1000,\n",
       "   normalize=False, positive=False, precompute=False, random_state=None,\n",
       "   selection='cyclic', tol=0.0001, warm_start=False)"
      ]
     },
     "execution_count": 138,
     "metadata": {},
     "output_type": "execute_result"
    }
   ],
   "source": [
    "lasso_reg = Lasso(alpha = 0.1)\n",
    "lasso_reg.fit(X_train, y_train)"
   ]
  },
  {
   "cell_type": "code",
   "execution_count": 139,
   "metadata": {
    "hidden": true
   },
   "outputs": [
    {
     "name": "stdout",
     "output_type": "stream",
     "text": [
      "Lasso Regression: R^2 score on training set 0.3012914468201533\n",
      "Lasso Regression: R^2 score on test set 0.30994875938600963\n"
     ]
    }
   ],
   "source": [
    "print('Lasso Regression: R^2 score on training set', lasso_reg.score(X_train, y_train))\n",
    "print('Lasso Regression: R^2 score on test set', lasso_reg.score(X_test, y_test))"
   ]
  },
  {
   "cell_type": "code",
   "execution_count": 58,
   "metadata": {
    "hidden": true
   },
   "outputs": [],
   "source": [
    "alpha = (0.001, 0.01, 0.1, 0.5, 1, 2, 10)\n",
    "l_num = 7\n",
    "pred_num = X.shape[1]\n",
    "\n",
    "# prepare data for enumerate\n",
    "coeff_a = np.zeros((l_num, pred_num))\n",
    "train_r_squared = np.zeros(l_num)\n",
    "test_r_squared = np.zeros(l_num)"
   ]
  },
  {
   "cell_type": "code",
   "execution_count": 59,
   "metadata": {
    "hidden": true
   },
   "outputs": [
    {
     "name": "stderr",
     "output_type": "stream",
     "text": [
      "C:\\Users\\LG\\Anaconda3\\lib\\site-packages\\sklearn\\linear_model\\coordinate_descent.py:492: ConvergenceWarning: Objective did not converge. You might want to increase the number of iterations. Fitting data with very small alpha may cause precision problems.\n",
      "  ConvergenceWarning)\n"
     ]
    },
    {
     "data": {
      "text/plain": [
       "Lasso(alpha=0.001, copy_X=True, fit_intercept=True, max_iter=1000,\n",
       "   normalize=False, positive=False, precompute=False, random_state=None,\n",
       "   selection='cyclic', tol=0.0001, warm_start=False)"
      ]
     },
     "execution_count": 59,
     "metadata": {},
     "output_type": "execute_result"
    },
    {
     "name": "stderr",
     "output_type": "stream",
     "text": [
      "C:\\Users\\LG\\Anaconda3\\lib\\site-packages\\sklearn\\linear_model\\coordinate_descent.py:492: ConvergenceWarning: Objective did not converge. You might want to increase the number of iterations. Fitting data with very small alpha may cause precision problems.\n",
      "  ConvergenceWarning)\n"
     ]
    },
    {
     "data": {
      "text/plain": [
       "Lasso(alpha=0.01, copy_X=True, fit_intercept=True, max_iter=1000,\n",
       "   normalize=False, positive=False, precompute=False, random_state=None,\n",
       "   selection='cyclic', tol=0.0001, warm_start=False)"
      ]
     },
     "execution_count": 59,
     "metadata": {},
     "output_type": "execute_result"
    },
    {
     "name": "stderr",
     "output_type": "stream",
     "text": [
      "C:\\Users\\LG\\Anaconda3\\lib\\site-packages\\sklearn\\linear_model\\coordinate_descent.py:492: ConvergenceWarning: Objective did not converge. You might want to increase the number of iterations. Fitting data with very small alpha may cause precision problems.\n",
      "  ConvergenceWarning)\n"
     ]
    },
    {
     "data": {
      "text/plain": [
       "Lasso(alpha=0.1, copy_X=True, fit_intercept=True, max_iter=1000,\n",
       "   normalize=False, positive=False, precompute=False, random_state=None,\n",
       "   selection='cyclic', tol=0.0001, warm_start=False)"
      ]
     },
     "execution_count": 59,
     "metadata": {},
     "output_type": "execute_result"
    },
    {
     "name": "stderr",
     "output_type": "stream",
     "text": [
      "C:\\Users\\LG\\Anaconda3\\lib\\site-packages\\sklearn\\linear_model\\coordinate_descent.py:492: ConvergenceWarning: Objective did not converge. You might want to increase the number of iterations. Fitting data with very small alpha may cause precision problems.\n",
      "  ConvergenceWarning)\n"
     ]
    },
    {
     "data": {
      "text/plain": [
       "Lasso(alpha=0.5, copy_X=True, fit_intercept=True, max_iter=1000,\n",
       "   normalize=False, positive=False, precompute=False, random_state=None,\n",
       "   selection='cyclic', tol=0.0001, warm_start=False)"
      ]
     },
     "execution_count": 59,
     "metadata": {},
     "output_type": "execute_result"
    },
    {
     "name": "stderr",
     "output_type": "stream",
     "text": [
      "C:\\Users\\LG\\Anaconda3\\lib\\site-packages\\sklearn\\linear_model\\coordinate_descent.py:492: ConvergenceWarning: Objective did not converge. You might want to increase the number of iterations. Fitting data with very small alpha may cause precision problems.\n",
      "  ConvergenceWarning)\n"
     ]
    },
    {
     "data": {
      "text/plain": [
       "Lasso(alpha=1, copy_X=True, fit_intercept=True, max_iter=1000,\n",
       "   normalize=False, positive=False, precompute=False, random_state=None,\n",
       "   selection='cyclic', tol=0.0001, warm_start=False)"
      ]
     },
     "execution_count": 59,
     "metadata": {},
     "output_type": "execute_result"
    },
    {
     "name": "stderr",
     "output_type": "stream",
     "text": [
      "C:\\Users\\LG\\Anaconda3\\lib\\site-packages\\sklearn\\linear_model\\coordinate_descent.py:492: ConvergenceWarning: Objective did not converge. You might want to increase the number of iterations. Fitting data with very small alpha may cause precision problems.\n",
      "  ConvergenceWarning)\n"
     ]
    },
    {
     "data": {
      "text/plain": [
       "Lasso(alpha=2, copy_X=True, fit_intercept=True, max_iter=1000,\n",
       "   normalize=False, positive=False, precompute=False, random_state=None,\n",
       "   selection='cyclic', tol=0.0001, warm_start=False)"
      ]
     },
     "execution_count": 59,
     "metadata": {},
     "output_type": "execute_result"
    },
    {
     "name": "stderr",
     "output_type": "stream",
     "text": [
      "C:\\Users\\LG\\Anaconda3\\lib\\site-packages\\sklearn\\linear_model\\coordinate_descent.py:492: ConvergenceWarning: Objective did not converge. You might want to increase the number of iterations. Fitting data with very small alpha may cause precision problems.\n",
      "  ConvergenceWarning)\n"
     ]
    },
    {
     "data": {
      "text/plain": [
       "Lasso(alpha=10, copy_X=True, fit_intercept=True, max_iter=1000,\n",
       "   normalize=False, positive=False, precompute=False, random_state=None,\n",
       "   selection='cyclic', tol=0.0001, warm_start=False)"
      ]
     },
     "execution_count": 59,
     "metadata": {},
     "output_type": "execute_result"
    }
   ],
   "source": [
    "# enumerate through lambdas with index and i\n",
    "for ind, i in enumerate(alpha):    \n",
    "    lasso_reg = Lasso(alpha = i)\n",
    "    lasso_reg.fit(X_train, y_train)\n",
    "\n",
    "    coeff_a[ind,:] = lasso_reg.coef_\n",
    "    train_r_squared[ind] = lasso_reg.score(X_train, y_train)\n",
    "    test_r_squared[ind] = lasso_reg.score(X_test, y_test)"
   ]
  },
  {
   "cell_type": "code",
   "execution_count": 60,
   "metadata": {
    "hidden": true
   },
   "outputs": [
    {
     "data": {
      "text/plain": [
       "<Figure size 1296x576 with 0 Axes>"
      ]
     },
     "execution_count": 60,
     "metadata": {},
     "output_type": "execute_result"
    },
    {
     "data": {
      "text/plain": [
       "[<matplotlib.lines.Line2D at 0x3082645518>]"
      ]
     },
     "execution_count": 60,
     "metadata": {},
     "output_type": "execute_result"
    },
    {
     "data": {
      "text/plain": [
       "[<matplotlib.lines.Line2D at 0x3082645978>]"
      ]
     },
     "execution_count": 60,
     "metadata": {},
     "output_type": "execute_result"
    },
    {
     "data": {
      "text/plain": [
       "Text(0.5, 0, 'alpha index')"
      ]
     },
     "execution_count": 60,
     "metadata": {},
     "output_type": "execute_result"
    },
    {
     "data": {
      "text/plain": [
       "Text(0, 0.5, '$R^2$')"
      ]
     },
     "execution_count": 60,
     "metadata": {},
     "output_type": "execute_result"
    },
    {
     "data": {
      "text/plain": [
       "(0, 6)"
      ]
     },
     "execution_count": 60,
     "metadata": {},
     "output_type": "execute_result"
    },
    {
     "data": {
      "text/plain": [
       "Text(0.5, 1.0, 'Evaluate lasso regression with lamdas: 0 = 0.001, 1= 0.01, 2 = 0.1, 3 = 0.5, 4= 1, 5= 2, 6 = 10')"
      ]
     },
     "execution_count": 60,
     "metadata": {},
     "output_type": "execute_result"
    },
    {
     "data": {
      "text/plain": [
       "<matplotlib.legend.Legend at 0x3082631eb8>"
      ]
     },
     "execution_count": 60,
     "metadata": {},
     "output_type": "execute_result"
    },
    {
     "data": {
      "image/png": "[encoded data removed]",
      "text/plain": [
       "<Figure size 1296x576 with 1 Axes>"
      ]
     },
     "metadata": {
      "needs_background": "light"
     },
     "output_type": "display_data"
    }
   ],
   "source": [
    "# Plotting\n",
    "plt.figure(figsize=(18, 8))\n",
    "plt.plot(train_r_squared, 'bo-', label=r'$R^2$ Training set', color=\"darkblue\", alpha=0.6, linewidth=3)\n",
    "plt.plot(test_r_squared, 'bo-', label=r'$R^2$ Test set', color=\"darkred\", alpha=0.6, linewidth=3)\n",
    "plt.xlabel('alpha index'); plt.ylabel(r'$R^2$')\n",
    "plt.xlim(0, 6)\n",
    "plt.title(r'Evaluate lasso regression with lamdas: 0 = 0.001, 1= 0.01, 2 = 0.1, 3 = 0.5, 4= 1, 5= 2, 6 = 10')\n",
    "plt.legend(loc='best')\n",
    "plt.grid()"
   ]
  },
  {
   "cell_type": "markdown",
   "metadata": {
    "heading_collapsed": true
   },
   "source": [
    "## XGBoosting\n",
    "Score on training set: 0.581  \n",
    "Score on test set: 0.355"
   ]
  },
  {
   "cell_type": "code",
   "execution_count": 65,
   "metadata": {
    "hidden": true
   },
   "outputs": [],
   "source": [
    "import xgboost as xgb\n",
    "from xgboost import XGBRegressor\n",
    "from sklearn.metrics import mean_squared_error"
   ]
  },
  {
   "cell_type": "markdown",
   "metadata": {
    "hidden": true
   },
   "source": []
  },
  {
   "cell_type": "code",
   "execution_count": 63,
   "metadata": {
    "hidden": true
   },
   "outputs": [
    {
     "data": {
      "text/plain": [
       "GridSearchCV(cv=3, error_score='raise-deprecating',\n",
       "       estimator=XGBRegressor(base_score=None, booster=None, colsample_bylevel=None,\n",
       "       colsample_bynode=None, colsample_bytree=None, gamma=None,\n",
       "       gpu_id=None, importance_type='gain', interaction_constraints=None,\n",
       "       learning_rate=None, max_delta_step=None, max_depth=None,\n",
       "       min_child_we...pos_weight=None, subsample=None,\n",
       "       tree_method=None, validate_parameters=False, verbosity=None),\n",
       "       fit_params=None, iid='warn', n_jobs=None,\n",
       "       param_grid=[{'n_estimators': [35, 40, 45, 50], 'min_samples_leaf': [7, 8, 9, 10], 'min_samples_split': [22, 23, 24, 25], 'max_depth': [3, 4, 5, 6], 'learning_rate': [0.1]}],\n",
       "       pre_dispatch='2*n_jobs', refit=True, return_train_score='warn',\n",
       "       scoring=None, verbose=0)"
      ]
     },
     "execution_count": 63,
     "metadata": {},
     "output_type": "execute_result"
    },
    {
     "data": {
      "text/plain": [
       "{'learning_rate': 0.1,\n",
       " 'max_depth': 3,\n",
       " 'min_samples_leaf': 7,\n",
       " 'min_samples_split': 22,\n",
       " 'n_estimators': 50}"
      ]
     },
     "execution_count": 63,
     "metadata": {},
     "output_type": "execute_result"
    },
    {
     "data": {
      "text/plain": [
       "XGBRegressor(base_score=0.5, booster=None, colsample_bylevel=1,\n",
       "       colsample_bynode=1, colsample_bytree=1, gamma=0, gpu_id=-1,\n",
       "       importance_type='gain', interaction_constraints=None,\n",
       "       learning_rate=0.1, max_delta_step=0, max_depth=3,\n",
       "       min_child_weight=1, min_samples_leaf=7, min_samples_split=22,\n",
       "       missing=nan, monotone_constraints=None, n_estimators=50, n_jobs=0,\n",
       "       num_parallel_tree=1, objective='reg:squarederror', random_state=42,\n",
       "       reg_alpha=0, reg_lambda=1, scale_pos_weight=1, subsample=1,\n",
       "       tree_method=None, validate_parameters=False, verbosity=None)"
      ]
     },
     "execution_count": 63,
     "metadata": {},
     "output_type": "execute_result"
    }
   ],
   "source": [
    "params_grid = {'colsample_bytree' : [0.3,0.7,0.8], 'learning_rate' : [0.07,0.1], 'max_depth' : [3,4,5], \n",
    "                'n_estimators':[30,40,50], 'subsample':[0.8,1], \"objective\":\"reg:linear\" }\n",
    "xgb = xgb.XGBRegressor(random_state=42)\n",
    "grid_search = GridSearchCV(xgb,param_grid,cv=3)\n",
    "grid_search.fit(X_train,y_train)\n",
    "grid_search.best_params_ # 사용자 지정 중 최적 파라미터\n",
    "grid_search.best_estimator_ # 전체 중 최적 파라미터"
   ]
  },
  {
   "cell_type": "code",
   "execution_count": 165,
   "metadata": {
    "hidden": true
   },
   "outputs": [
    {
     "name": "stdout",
     "output_type": "stream",
     "text": [
      "[07:11:06] WARNING: C:/Users/Administrator/workspace/xgboost-win64_release_1.0.0/src/objective/regression_obj.cu:167: reg:linear is now deprecated in favor of reg:squarederror.\n"
     ]
    },
    {
     "data": {
      "text/plain": [
       "XGBRegressor(base_score=0.5, booster=None, colsample_bylevel=1,\n",
       "       colsample_bynode=1, colsample_bytree=1, gamma=0, gpu_id=-1,\n",
       "       importance_type='gain', interaction_constraints=None,\n",
       "       learning_rate=0.1, max_delta_step=0, max_depth=5,\n",
       "       min_child_weight=1, min_samples_leaf=8, min_samples_split=21,\n",
       "       missing=nan, monotone_constraints=None, n_estimators=30, n_jobs=0,\n",
       "       num_parallel_tree=1, objective='reg:linear', random_state=0,\n",
       "       reg_alpha=0, reg_lambda=1, scale_pos_weight=1, subsample=1,\n",
       "       tree_method=None, validate_parameters=False, verbosity=None)"
      ]
     },
     "execution_count": 165,
     "metadata": {},
     "output_type": "execute_result"
    },
    {
     "name": "stdout",
     "output_type": "stream",
     "text": [
      "[07:11:06] WARNING: C:/Users/Administrator/workspace/xgboost-win64_release_1.0.0/src/objective/regression_obj.cu:167: reg:linear is now deprecated in favor of reg:squarederror.\n"
     ]
    },
    {
     "data": {
      "text/plain": [
       "XGBRegressor(base_score=0.5, booster=None, colsample_bylevel=1,\n",
       "       colsample_bynode=1, colsample_bytree=0.9, gamma=0, gpu_id=-1,\n",
       "       importance_type='gain', interaction_constraints=None,\n",
       "       learning_rate=0.1, max_delta_step=0, max_depth=3,\n",
       "       min_child_weight=1, min_samples_leaf=7, min_samples_split=22,\n",
       "       missing=nan, monotone_constraints=None, n_estimators=50, n_jobs=0,\n",
       "       num_parallel_tree=1, objective='reg:linear', random_state=0,\n",
       "       reg_alpha=0, reg_lambda=1, scale_pos_weight=1, subsample=1,\n",
       "       tree_method=None, validate_parameters=False, verbosity=None)"
      ]
     },
     "execution_count": 165,
     "metadata": {},
     "output_type": "execute_result"
    },
    {
     "name": "stdout",
     "output_type": "stream",
     "text": [
      "Score on training set:0.586\n",
      "* Score on test set:0.355\n",
      "Score on training set:0.474\n",
      "* Score on test set:0.339\n"
     ]
    }
   ],
   "source": [
    "xgb_final = xgb.XGBRegressor(objective ='reg:linear', colsample_bytree = 1, learning_rate = 0.1, max_depth = 5, n_estimators = 30, subsample =1, min_samples_leaf=8, min_samples_split=21)\n",
    "xgb_final.fit(X_train,y_train)\n",
    "xgb_final_GS = xgb.XGBRegressor(objective ='reg:linear', min_samples_leaf=7, min_samples_split=22, colsample_bytree = 0.9, learning_rate = 0.1, max_depth = 3, n_estimators = 50, subsample = 1)\n",
    "xgb_final_GS.fit(X_train,y_train)\n",
    "\n",
    "\n",
    "# preds = xgb_final.predict(X_test)\n",
    "\n",
    "# rmse = np.sqrt(mean_squared_error(y_test, preds))\n",
    "# print(\"RMSE: %f\" % (rmse))\n",
    "\n",
    "print('Score on training set:{:.3f}'.format(xgb_final.score(X_train,y_train)))\n",
    "print('* Score on test set:{:.3f}'.format(xgb_final.score(X_test,y_test)))\n",
    "print('Score on training set:{:.3f}'.format(xgb_final_GS.score(X_train,y_train)))\n",
    "print('* Score on test set:{:.3f}'.format(xgb_final_GS.score(X_test,y_test)))"
   ]
  },
  {
   "cell_type": "code",
   "execution_count": 69,
   "metadata": {
    "hidden": true,
    "scrolled": false
   },
   "outputs": [
    {
     "data": {
      "text/plain": [
       "<matplotlib.axes._subplots.AxesSubplot at 0x30835d51d0>"
      ]
     },
     "execution_count": 69,
     "metadata": {},
     "output_type": "execute_result"
    },
    {
     "data": {
      "image/png": "[encoded data removed]",
      "text/plain": [
       "<Figure size 432x288 with 1 Axes>"
      ]
     },
     "metadata": {
      "needs_background": "light"
     },
     "output_type": "display_data"
    }
   ],
   "source": [
    "xgb.plot_importance(xgb_final3)\n",
    "plt.rcParams['figure.figsize'] = [5, 8]\n",
    "plt.show()"
   ]
  },
  {
   "cell_type": "markdown",
   "metadata": {},
   "source": [
    "## RandomForest\n",
    "Score on training set:0.421  \n",
    "Score on test set:0.358"
   ]
  },
  {
   "cell_type": "code",
   "execution_count": 74,
   "metadata": {},
   "outputs": [],
   "source": [
    "# export_graphviz:나무 구조 생성 및 저장\n",
    "from sklearn.tree import export_graphviz\n",
    "# graphviz : 나무 구조 시각화 (.dot 확장자 파일 불러오기 등)\n",
    "import graphviz\n",
    "# 데이터 분할 : train, test\n",
    "from sklearn.model_selection import train_test_split\n",
    "from sklearn.ensemble import RandomForestRegressor"
   ]
  },
  {
   "cell_type": "code",
   "execution_count": 82,
   "metadata": {},
   "outputs": [
    {
     "name": "stderr",
     "output_type": "stream",
     "text": [
      "C:\\Users\\LG\\Anaconda3\\lib\\site-packages\\sklearn\\model_selection\\_split.py:2053: FutureWarning: You should specify a value for 'cv' instead of relying on the default value. The default value will change from 3 to 5 in version 0.22.\n",
      "  warnings.warn(CV_WARNING, FutureWarning)\n"
     ]
    },
    {
     "data": {
      "text/plain": [
       "GridSearchCV(cv='warn', error_score='raise-deprecating',\n",
       "       estimator=RandomForestRegressor(bootstrap=True, criterion='mse', max_depth=None,\n",
       "           max_features='auto', max_leaf_nodes=None,\n",
       "           min_impurity_decrease=0.0, min_impurity_split=None,\n",
       "           min_samples_leaf=1, min_samples_split=2,\n",
       "           min_weight_fraction_leaf=0.0, n_estimators='warn', n_jobs=None,\n",
       "           oob_score=False, random_state=None, verbose=0, warm_start=False),\n",
       "       fit_params=None, iid='warn', n_jobs=-1,\n",
       "       param_grid={'criterion': ['mse', 'friedman_mse', 'mae'], 'max_features': ['auto', 'sqrt', 'log2'], 'max_depth': [3, 4, 5], 'min_samples_split': [20, 21, 22, 24, 25], 'min_samples_leaf': [8, 9, 10, 11], 'n_estimators': [30, 40, 50]},\n",
       "       pre_dispatch='2*n_jobs', refit=True, return_train_score='warn',\n",
       "       scoring='r2', verbose=0)"
      ]
     },
     "execution_count": 82,
     "metadata": {},
     "output_type": "execute_result"
    },
    {
     "name": "stdout",
     "output_type": "stream",
     "text": [
      "best estimator model:\n",
      "RandomForestRegressor(bootstrap=True, criterion='mse', max_depth=5,\n",
      "           max_features='auto', max_leaf_nodes=None,\n",
      "           min_impurity_decrease=0.0, min_impurity_split=None,\n",
      "           min_samples_leaf=11, min_samples_split=22,\n",
      "           min_weight_fraction_leaf=0.0, n_estimators=30, n_jobs=None,\n",
      "           oob_score=False, random_state=None, verbose=0, warm_start=False)\n",
      "\n",
      "best parameter:{'criterion': 'mse', 'max_depth': 5, 'max_features': 'auto', 'min_samples_leaf': 11, 'min_samples_split': 22, 'n_estimators': 30}\n",
      "\n",
      "\n",
      "best score:0.371\n",
      "\n"
     ]
    }
   ],
   "source": [
    "rf_final=RandomForestRegressor()\n",
    "# 구하고자 하는 Parameter 와 범위\n",
    "param_grid={'criterion': ['mse','friedman_mse','mae'],'max_features':['auto','sqrt','log2'],\n",
    "           'max_depth':[3,4,5],'min_samples_split':[20,21,22,24,25],\n",
    "           'min_samples_leaf':[8,9,10,11],'n_estimators':[30,40,50]}\n",
    "\n",
    "# 설명력이 높은 최적 parameter 찾기\n",
    "grid_dt=GridSearchCV(rf_final,param_grid,scoring='r2',n_jobs=-1)\n",
    "grid_dt.fit(X_train,y_train)\n",
    "\n",
    "print('best estimator model:\\n{}'.format(grid_dt.best_estimator_))\n",
    "print('\\nbest parameter:{}\\n'.format(grid_dt.best_params_))\n",
    "print('\\nbest score:{}\\n'.format(grid_dt.best_score_.round(3)))"
   ]
  },
  {
   "cell_type": "code",
   "execution_count": 95,
   "metadata": {
    "scrolled": false
   },
   "outputs": [
    {
     "data": {
      "text/plain": [
       "RandomForestRegressor(bootstrap=True, criterion='mse', max_depth=4,\n",
       "           max_features='auto', max_leaf_nodes=None,\n",
       "           min_impurity_decrease=0.0, min_impurity_split=None,\n",
       "           min_samples_leaf=9, min_samples_split=20,\n",
       "           min_weight_fraction_leaf=0.0, n_estimators=30, n_jobs=None,\n",
       "           oob_score=False, random_state=1234, verbose=0, warm_start=False)"
      ]
     },
     "execution_count": 95,
     "metadata": {},
     "output_type": "execute_result"
    },
    {
     "data": {
      "text/plain": [
       "RandomForestRegressor(bootstrap=True, criterion='mse', max_depth=5,\n",
       "           max_features='auto', max_leaf_nodes=None,\n",
       "           min_impurity_decrease=0.0, min_impurity_split=None,\n",
       "           min_samples_leaf=11, min_samples_split=22,\n",
       "           min_weight_fraction_leaf=0.0, n_estimators=30, n_jobs=None,\n",
       "           oob_score=False, random_state=None, verbose=0, warm_start=False)"
      ]
     },
     "execution_count": 95,
     "metadata": {},
     "output_type": "execute_result"
    },
    {
     "name": "stdout",
     "output_type": "stream",
     "text": [
      "Score on training set:0.409\n",
      "* Score on test set:0.345\n",
      "Score on training set:0.420\n",
      "* Score on test set:0.358\n"
     ]
    }
   ],
   "source": [
    "rf_final=RandomForestRegressor(n_estimators=30,min_samples_leaf=9,min_samples_split=20,max_depth=4,random_state=1234)\n",
    "rf_final.fit(X_train,y_train)\n",
    "rf_final_GS = RandomForestRegressor(bootstrap=True, criterion='mse', max_depth=5,\n",
    "                                       max_features='auto', max_leaf_nodes=None,\n",
    "                                       min_impurity_decrease=0.0, min_impurity_split=None,\n",
    "                                       min_samples_leaf=11, min_samples_split=22,\n",
    "                                       min_weight_fraction_leaf=0.0, n_estimators=30, n_jobs=None,\n",
    "                                       oob_score=False, random_state=None, verbose=0, warm_start=False)\n",
    "rf_final_GS.fit(X_train,y_train)\n",
    "\n",
    "print('Score on training set:{:.3f}'.format(rf_final.score(X_train,y_train)))\n",
    "print('* Score on test set:{:.3f}'.format(rf_final.score(X_test,y_test)))\n",
    "print('Score on training set:{:.3f}'.format(rf_final_GS.score(X_train,y_train)))\n",
    "print('* Score on test set:{:.3f}'.format(rf_final_GS.score(X_test,y_test)))"
   ]
  },
  {
   "cell_type": "code",
   "execution_count": 137,
   "metadata": {},
   "outputs": [
    {
     "data": {
      "text/html": [
       "<div>\n",
       "<style scoped>\n",
       "    .dataframe tbody tr th:only-of-type {\n",
       "        vertical-align: middle;\n",
       "    }\n",
       "\n",
       "    .dataframe tbody tr th {\n",
       "        vertical-align: top;\n",
       "    }\n",
       "\n",
       "    .dataframe thead th {\n",
       "        text-align: right;\n",
       "    }\n",
       "</style>\n",
       "<table border=\"1\" class=\"dataframe\">\n",
       "  <thead>\n",
       "    <tr style=\"text-align: right;\">\n",
       "      <th></th>\n",
       "      <th>Feature</th>\n",
       "      <th>Importance</th>\n",
       "    </tr>\n",
       "  </thead>\n",
       "  <tbody>\n",
       "    <tr>\n",
       "      <th>0</th>\n",
       "      <td>subscribers</td>\n",
       "      <td>0.606</td>\n",
       "    </tr>\n",
       "    <tr>\n",
       "      <th>1</th>\n",
       "      <td>days_after_upload</td>\n",
       "      <td>0.172</td>\n",
       "    </tr>\n",
       "    <tr>\n",
       "      <th>6</th>\n",
       "      <td>youtuber_id_3</td>\n",
       "      <td>0.120</td>\n",
       "    </tr>\n",
       "    <tr>\n",
       "      <th>9</th>\n",
       "      <td>youtuber_id_6</td>\n",
       "      <td>0.036</td>\n",
       "    </tr>\n",
       "    <tr>\n",
       "      <th>2</th>\n",
       "      <td>name*weight</td>\n",
       "      <td>0.036</td>\n",
       "    </tr>\n",
       "    <tr>\n",
       "      <th>7</th>\n",
       "      <td>youtuber_id_4</td>\n",
       "      <td>0.029</td>\n",
       "    </tr>\n",
       "    <tr>\n",
       "      <th>5</th>\n",
       "      <td>youtuber_id_2</td>\n",
       "      <td>0.001</td>\n",
       "    </tr>\n",
       "    <tr>\n",
       "      <th>4</th>\n",
       "      <td>youtuber_id_1</td>\n",
       "      <td>0.000</td>\n",
       "    </tr>\n",
       "    <tr>\n",
       "      <th>3</th>\n",
       "      <td>youtuber_id_0</td>\n",
       "      <td>0.000</td>\n",
       "    </tr>\n",
       "    <tr>\n",
       "      <th>8</th>\n",
       "      <td>youtuber_id_5</td>\n",
       "      <td>0.000</td>\n",
       "    </tr>\n",
       "  </tbody>\n",
       "</table>\n",
       "</div>"
      ],
      "text/plain": [
       "             Feature  Importance\n",
       "0        subscribers       0.606\n",
       "1  days_after_upload       0.172\n",
       "6      youtuber_id_3       0.120\n",
       "9      youtuber_id_6       0.036\n",
       "2        name*weight       0.036\n",
       "7      youtuber_id_4       0.029\n",
       "5      youtuber_id_2       0.001\n",
       "4      youtuber_id_1       0.000\n",
       "3      youtuber_id_0       0.000\n",
       "8      youtuber_id_5       0.000"
      ]
     },
     "execution_count": 137,
     "metadata": {},
     "output_type": "execute_result"
    }
   ],
   "source": [
    "rf_importance=pd.DataFrame()\n",
    "rf_importance['Feature']= X_train.columns\n",
    "rf_importance['Importance']=rf_final.feature_importances_\n",
    "\n",
    "# df_feature_importance의 테이블을 중요도별로 정렬\n",
    "rf_importance.sort_values('Importance',ascending=False,inplace=True)\n",
    "rf_importance.round(3)"
   ]
  }
 ],
 "metadata": {
  "kernelspec": {
   "display_name": "Python 3",
   "language": "python",
   "name": "python3"
  },
  "language_info": {
   "codemirror_mode": {
    "name": "ipython",
    "version": 3
   },
   "file_extension": ".py",
   "mimetype": "text/x-python",
   "name": "python",
   "nbconvert_exporter": "python",
   "pygments_lexer": "ipython3",
   "version": "3.7.3"
  }
 },
 "nbformat": 4,
 "nbformat_minor": 2
}
